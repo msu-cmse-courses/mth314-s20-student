{
 "cells": [
  {
   "cell_type": "markdown",
   "metadata": {},
   "source": [
    "----"
   ]
  },
  {
   "cell_type": "markdown",
   "metadata": {},
   "source": [
    "[Link to this document's Jupyter Notebook](HW1-Systems_of_linear_equations.ipynb)"
   ]
  },
  {
   "cell_type": "markdown",
   "metadata": {},
   "source": [
    "In order to successfully complete this assignment, you must follow all the instructions in this notebook and upload your edited ipynb file to [D2L](http://d2l.msu.edu/) with your answers on or before **11:59pm on Friday February 5th**.\n",
    "\n",
    "**BIG HINT:** Read the entire homework before starting.  "
   ]
  },
  {
   "cell_type": "markdown",
   "metadata": {},
   "source": [
    "# Homework 1: Data as Vectors\n",
    "\n",
    "In this homework, we will exploring four different examples of in-class quizzes students had in previous semesters of this course.   These problems are intended to give student's exposure to the style of questions asked on quizzes and help you practice. Please finish the entire Jupyter Notebook and turn in your edited file using the [MSU D2L Website](http://d2l.msu.edu).\n",
    "\n",
    "Your instructors recommend doing one question at a time.  Set a timer for 20-30 minutes and see how much of the question you can answer.  We hope this will get you used to getting a timed quiz complete during class.  "
   ]
  },
  {
   "cell_type": "markdown",
   "metadata": {},
   "source": [
    "### Outline for Homework 1\n",
    "\n",
    "1. [Solving Systems of Linear Equations](#-Solving-Systems-of-Linear-Equations)\n",
    "2. [Balancing Equations](#Balancing-Equations)\n",
    "3. [Chickens and Rabbits](#Chickens-and-Rabbits)\n",
    "4. [Starship Truckers](#Starship-Truckers)\n"
   ]
  },
  {
   "cell_type": "markdown",
   "metadata": {},
   "source": [
    "\n",
    "---\n",
    "<a name=-Solving-Systems-of-Linear-Equations></a>\n",
    "# 1.  Solving Systems of Linear Equations\n",
    "\n",
    "\n",
    "![Image of tools on the wall ](https://cdn.pixabay.com/photo/2015/12/08/21/42/tools-1083796__340.jpg)\n",
    "\n",
    "Image obtained from Pixabay under the Creative commons License\n",
    "\n",
    "In this problem we will go back to the problem on the [04-Gauss_Jordan_in-class-assignment](04-Gauss_Jordan_in-class-assignment.ipynb), with the Giselle’s earnings as a carpenter and a blacksmith.  In this problem for week 1 she worked a total of 30 hours and earned a total of \\\\$690, where her wages as a carpenter were \\\\$20/hour and as a blacksmith were \\\\$25/hour.  This generated the following set of linear equations:\n",
    "\n",
    "$$ c+b = 30$$\n",
    "$$20c+25b=690$$\n",
    "\n",
    "Now here is the new information.  For any job, there are two parts of the time spent; work set-up and work completion.  Giselle spent $1/10$ of her work-setup time and $2/3$ of her work completion time on carpentry, so she spent $9/10$ of her work setup time and $1/3$ of her time on work completion.  If ```s``` is the amount of work set-up time, and ```w``` is the amount of work completion time, we get the equations:\n",
    "\n",
    "$$ \\frac{1}{10}s + \\frac{2}{3}w = c$$\n",
    "$$ \\frac{9}{10}s + \\frac{1}{3} w = b$$\n",
    "\n",
    "To solve for s and w, there are 2 ways: first we can solve for c and b, and then solve for s and w; or second, we can solve for s and w directly."
   ]
  },
  {
   "cell_type": "code",
   "execution_count": null,
   "metadata": {},
   "outputs": [],
   "source": [
    "%matplotlib inline \n",
    "import matplotlib.pylab as plt\n",
    "import numpy as np\n",
    "import sympy as sym\n",
    "sym.init_printing()"
   ]
  },
  {
   "cell_type": "markdown",
   "metadata": {},
   "source": [
    "&#9989;  **<font color=red>QUESTION 1:</font>** (5pts)  use python to solve for c and b in the original set of equations (you did this already in the 04-pre-class assignment)"
   ]
  },
  {
   "cell_type": "code",
   "execution_count": null,
   "metadata": {},
   "outputs": [],
   "source": [
    "#put your answer to the above question here."
   ]
  },
  {
   "cell_type": "code",
   "execution_count": null,
   "metadata": {
    "deletable": false,
    "editable": false,
    "nbgrader": {
     "cell_type": "code",
     "checksum": "40335a329154472ccb2e2670abd9026c",
     "grade": true,
     "grade_id": "cell-bf56e266815836ab",
     "locked": true,
     "points": 5,
     "schema_version": 3,
     "solution": false,
     "task": false
    }
   },
   "outputs": [],
   "source": [
    "from answercheck import checkanswer\n",
    "\n",
    "checkanswer.vector([c,b],\"db03b41005ab488f64e4028c15f96340\");"
   ]
  },
  {
   "cell_type": "markdown",
   "metadata": {},
   "source": [
    "&#9989;  **<font color=red>QUESTION 2:</font>** (5 pts) Using your answers for ```c``` and ```b```, generate the augmented matrix ```A``` for solving for ```s``` and ```w```. "
   ]
  },
  {
   "cell_type": "code",
   "execution_count": null,
   "metadata": {},
   "outputs": [],
   "source": [
    "#Put your answer to the above question here."
   ]
  },
  {
   "cell_type": "code",
   "execution_count": null,
   "metadata": {
    "deletable": false,
    "editable": false,
    "nbgrader": {
     "cell_type": "code",
     "checksum": "64065897bb081118ad2e79ce7a07d3b1",
     "grade": true,
     "grade_id": "cell-61bc6d86bdbc2297",
     "locked": true,
     "points": 5,
     "schema_version": 3,
     "solution": false,
     "task": false
    }
   },
   "outputs": [],
   "source": [
    "from answercheck import checkanswer\n",
    "\n",
    "checkanswer.matrix(A,\"31ec508251cdc937ccba2f25a6aff458\");"
   ]
  },
  {
   "cell_type": "markdown",
   "metadata": {},
   "source": [
    "&#9989;  **<font color=red>QUESTION 3:</font>** (5pts) Use Gauss Jordan and the reduced row echelon form to solve for ```s``` and ```w``` for your augmented matrix in question 2."
   ]
  },
  {
   "cell_type": "code",
   "execution_count": null,
   "metadata": {},
   "outputs": [],
   "source": [
    "# Put your answer to the above question here"
   ]
  },
  {
   "cell_type": "code",
   "execution_count": null,
   "metadata": {
    "deletable": false,
    "editable": false,
    "nbgrader": {
     "cell_type": "code",
     "checksum": "111ed93bf26cb4745394d86bf9f79c19",
     "grade": true,
     "grade_id": "cell-c85d900192966e91",
     "locked": true,
     "points": 5,
     "schema_version": 3,
     "solution": false,
     "task": false
    }
   },
   "outputs": [],
   "source": [
    "from answercheck import checkanswer\n",
    "\n",
    "checkanswer.vector([s,w],\"8d69467202b2e2cd7f3a18d614028316\");"
   ]
  },
  {
   "cell_type": "markdown",
   "metadata": {},
   "source": [
    "&#9989;  **<font color=red>QUESTION 4:</font>** (5pts) Multiply the following 2 matrices and store them in a variable named ```A2```:\n",
    "\n",
    "\n",
    "$$ \n",
    "\\left[\n",
    "\\begin{matrix}\n",
    "    1 & 1  \\\\\n",
    "    20 & 25\n",
    " \\end{matrix}\n",
    "\\right] \n",
    "\\left[\n",
    "\\begin{matrix}\n",
    "    \\frac{1}{10} & \\frac{2}{3}  \\\\\n",
    "    \\frac{9}{10} & \\frac{1}{3} \n",
    " \\end{matrix}\n",
    "\\right] \n",
    "$$"
   ]
  },
  {
   "cell_type": "code",
   "execution_count": null,
   "metadata": {},
   "outputs": [],
   "source": [
    "# Put your answer to the above equation here. "
   ]
  },
  {
   "cell_type": "code",
   "execution_count": null,
   "metadata": {
    "deletable": false,
    "editable": false,
    "nbgrader": {
     "cell_type": "code",
     "checksum": "728a69849273f5622ab0b644edc156dc",
     "grade": true,
     "grade_id": "cell-8697bba5347359e9",
     "locked": true,
     "points": 5,
     "schema_version": 3,
     "solution": false,
     "task": false
    }
   },
   "outputs": [],
   "source": [
    "from answercheck import checkanswer\n",
    "\n",
    "checkanswer.matrix(A2,\"dcac2bb51a2f3bb09877934788038de5\");"
   ]
  },
  {
   "cell_type": "markdown",
   "metadata": {},
   "source": [
    "&#9989;  **<font color=red>QUESTION 5:</font>** (5pts) Solve the resulting set of equations with\n",
    "\n",
    "$$ \n",
    "\\left[\n",
    "\\begin{matrix}\n",
    "    1 & 1  \\\\\n",
    "    20 & 25\n",
    " \\end{matrix}\n",
    "\\right] \n",
    "\\left[\n",
    "\\begin{matrix}\n",
    "    \\frac{1}{10} & \\frac{2}{3}  \\\\\n",
    "    \\frac{9}{10} & \\frac{1}{3} \n",
    " \\end{matrix}\n",
    "\\right] \n",
    "\\left[\n",
    "\\begin{matrix}\n",
    "    s \\\\\n",
    "    w\n",
    " \\end{matrix}\n",
    "\\right] \n",
    "=\n",
    "\\left[\n",
    "\\begin{matrix}\n",
    "    30 \\\\\n",
    "    690\n",
    " \\end{matrix}\n",
    "\\right] \n",
    "$$"
   ]
  },
  {
   "cell_type": "code",
   "execution_count": null,
   "metadata": {},
   "outputs": [],
   "source": [
    "# Put your answer to the above equation here"
   ]
  },
  {
   "cell_type": "code",
   "execution_count": null,
   "metadata": {
    "deletable": false,
    "editable": false,
    "nbgrader": {
     "cell_type": "code",
     "checksum": "a6ffd0bb3478576693f14b139a394bf3",
     "grade": true,
     "grade_id": "cell-496e203544e2c7a4",
     "locked": true,
     "points": 5,
     "schema_version": 3,
     "solution": false,
     "task": false
    }
   },
   "outputs": [],
   "source": [
    "from answercheck import checkanswer\n",
    "\n",
    "checkanswer.vector([s2,w2],\"8d69467202b2e2cd7f3a18d614028316\");"
   ]
  },
  {
   "cell_type": "markdown",
   "metadata": {},
   "source": [
    "**_Notice that if we did everything correctly the answer for Question 5 is the same as the answer for Question 3._** "
   ]
  },
  {
   "cell_type": "markdown",
   "metadata": {},
   "source": [
    "\n",
    "\n",
    "---\n",
    "<a name=Balancing-Equations></a>\n",
    "# 2. Balancing Equations\n",
    "\n",
    "\n",
    "\n",
    "\n",
    "![IMage of a scale representing the balance of time and money.  This image is being used to show the balance of linear systems](https://i1.pickpik.com/photos/478/881/147/justice-scales-balance-lawyer-preview.jpg)\n",
    "\n",
    "One of the earliest applications of matrix algebra was to solve systems of linear equations. We encounter these in all sorts of situations throughout our lives. In the first two questions below we ask you to formulate and solve a system of linear equations related to figuring out the number of hours worked at two different jobs. In the third and fourth problems we ask you to use Gauss-Jordan elimination to balance chemical equations. The last question is about matrix multiplication."
   ]
  },
  {
   "cell_type": "code",
   "execution_count": null,
   "metadata": {},
   "outputs": [],
   "source": [
    "%matplotlib inline \n",
    "import matplotlib.pylab as plt\n",
    "import numpy as np\n",
    "import sympy as sym\n",
    "sym.init_printing()"
   ]
  },
  {
   "cell_type": "markdown",
   "metadata": {},
   "source": [
    "### Situation for problems 1 and 2.\n",
    "Amy works for a movie theater. She can be assigned to two different jobs during her shift and each job pays a different amount of money. If Amy works at the concessions stand then she will make \\\\$14.50 an hour, and \\\\$12.15 an hour for selling tickets. Last week, Amy worked a total of 39.5 hours and earned \\\\$525.75. (Disregard all taxes.) If we set $c$ to be the number of hours worked on concessions and $t$ to be the number of hours worked selling tickets then we get two equations \n",
    "\n",
    "$$ c + t = 39.5,$$\n",
    "\n",
    "$$ 14.50c + 12.15t = 525.75.$$"
   ]
  },
  {
   "cell_type": "markdown",
   "metadata": {},
   "source": [
    "&#9989;  **<font color=red>QUESTION 1:</font>** (5pts)  Represent the above system of equations as a matrix equation of the form $Ax = b$ and then use ``numpy`` to solve the system."
   ]
  },
  {
   "cell_type": "code",
   "execution_count": null,
   "metadata": {},
   "outputs": [],
   "source": [
    "##Edit this cell to answer the question.\n"
   ]
  },
  {
   "cell_type": "code",
   "execution_count": null,
   "metadata": {
    "deletable": false,
    "editable": false,
    "nbgrader": {
     "cell_type": "code",
     "checksum": "2a88c975dea43c05c3dc6a6836f0f9f2",
     "grade": true,
     "grade_id": "cell-218198ef2d62e3d5",
     "locked": true,
     "points": 5,
     "schema_version": 3,
     "solution": false,
     "task": false
    }
   },
   "outputs": [],
   "source": [
    "from answercheck import checkanswer\n",
    "\n",
    "checkanswer.vector(x,\"92b54c2b36360ec6cc21ca67bc8eeb41\");"
   ]
  },
  {
   "cell_type": "markdown",
   "metadata": {},
   "source": [
    "&#9989;  **<font color=red>QUESTION 2:</font>** (5 pts) Use complete sentences to describe what the three values $A_{2,2}$, $x_{1,1}$, and $b_{2,1}$ represent in the context of Amy's situation."
   ]
  },
  {
   "cell_type": "markdown",
   "metadata": {
    "deletable": false,
    "nbgrader": {
     "cell_type": "markdown",
     "checksum": "76bfab063e2649f2d7df2c9f93c62969",
     "grade": true,
     "grade_id": "cell-964f760aece0af10",
     "locked": false,
     "points": 5,
     "schema_version": 3,
     "solution": true,
     "task": false
    }
   },
   "source": [
    "YOUR ANSWER HERE"
   ]
  },
  {
   "cell_type": "markdown",
   "metadata": {},
   "source": [
    "----\n",
    "### Situation for problems 3 and 4.\n",
    "\n",
    "A chemical equation is the symbolic representation of a chemical reaction in the form of symbols and formulae, wherein the reactant entities are given on the left-hand side and the product entities on the right-hand side. The coefficients of the symbols represent the number of molecules of each chemical required to preserve matter in the chemical reaction. \n",
    "\n",
    "For example, the process of burning methane is represented by the chemical equation\n",
    "\n",
    "$$ 1 CH_4 + 2 O_2 \\rightarrow 1CO_2 + 2 H_2O$$\n",
    "\n",
    "We see there are a total of 1 unit of C (carbon), four units of H (hydrogen), and 4 units of O (oxygen) on the left, and the same on the right. These numbers are computed by multiplying the coefficient by the subscript.\n",
    "\n",
    "We can represent this reaction using vectors. If the coefficients are unknown then we have \n",
    "\n",
    "$$x_1 CH_4 + x_2 O_2 \\rightarrow x_3 CO_2 + x_4 H_2O$$\n",
    "\n",
    "Here we see that each chemical in the reaction gives us an unknown variable, and we can obtain an equation in these variables for each element in the reaction. \n",
    "\n",
    "$$ C: x_1  = x_3 $$\n",
    "$$ H: 4x_1 = 2x_4$$\n",
    "$$ O: 2x_2 = 2x_3 + x_4$$\n",
    "\n",
    "which leads us to the augmented matrix $$ \\left[ \\begin{matrix} 1 & 0 & -1 & 0 \\\\ 4 & 0 & 0 &-2 \\\\ 0 & 2 & -2 & -1  \\end{matrix} \\, \\middle\\vert \\, \\begin{matrix} 0 \\\\ 0 \\\\ 0 \\end{matrix} \\right]\n",
    "\\stackrel{RREF}{\\longrightarrow}\n",
    "\\left[ \\begin{matrix} 1 & 0 &  & -0.5 \\\\ 0 & 1 & 0 &-1 \\\\ 0 & 0 & 1 & -0.5  \\end{matrix} \\, \\middle\\vert \\, \\begin{matrix} 0 \\\\ 0 \\\\ 0 \\end{matrix} \\right]$$\n",
    "\n",
    "This leads us to equations $$x_1 - \\frac 1 2 x_4 = 0$$\n",
    "\n",
    "$$ x_2 -  x_4 = 0$$\n",
    "\n",
    "$$ x_3 - \\frac 1 2 x_4 = 0$$\n",
    "\n",
    "To get integer values for our solution we can take $x_4 =2$ and see that $x_1 = 1, x_2 = 2,$ and $x_3 = 1$.\n",
    "\n",
    "---\n",
    "\n",
    "The (unbalanced) chemical reaction $$Ca(OH)_2 + H_3PO_4 \\rightarrow Ca_3(PO_4)_2 + H_2O$$ mixes calcium hydroxide with phosphoric acid to create tricalcium phosphate and water. This chemical equation is unbalanced and so assigning variables to the coefficients \n",
    "\n",
    "$$x_1 Ca(OH)_2 + x_2H_3PO_4 \\rightarrow x_3Ca_3(PO_4)_2 + x_4H_2O$$\n",
    "\n",
    "produces the augmented matrix \n",
    "\n",
    "$$ M = \\left[ \\begin{matrix} 1 & 0 & -3 & 0 \\\\ 2 & 4 & -8 &-1 \\\\ 2 & 3 & 0 & -2 \\\\ 0 & 1 & -2 & 0  \\end{matrix} \\, \\middle\\vert \\, \\begin{matrix} 0 \\\\ 0 \\\\ 0 \\\\0 \\end{matrix} \\right]$$"
   ]
  },
  {
   "cell_type": "markdown",
   "metadata": {},
   "source": [
    "&#9989;  **<font color=red>QUESTION 3:</font>** (5pts) Find the reduced row echelon form of the matrix $M$ above. Save the reduced matrix as ``rref`` for answer check."
   ]
  },
  {
   "cell_type": "code",
   "execution_count": null,
   "metadata": {},
   "outputs": [],
   "source": [
    "#Edit this cell to answer this question.\n",
    "M = np.matrix(\"1,0,-3,0,0;2,4,-8,-1,0;2,3,0,-2,0;0,1,-2,0,0\")\n"
   ]
  },
  {
   "cell_type": "code",
   "execution_count": null,
   "metadata": {
    "deletable": false,
    "editable": false,
    "nbgrader": {
     "cell_type": "code",
     "checksum": "674ad755c2fa31caebdd1fea78e7199c",
     "grade": true,
     "grade_id": "cell-1b67529ac28b7c00",
     "locked": true,
     "points": 5,
     "schema_version": 3,
     "solution": false,
     "task": false
    }
   },
   "outputs": [],
   "source": [
    "from answercheck import checkanswer\n",
    "\n",
    "checkanswer.matrix(rref,\"4c1a09e6f2097c1319ee4704fe05dce2\");"
   ]
  },
  {
   "cell_type": "markdown",
   "metadata": {},
   "source": [
    "&#9989;  **<font color=red>QUESTION 4:</font>** (5pts) Give a non-zero **integer** solution to the balanced chemical equation associated to the matrix $M$. Save your answer as ``solution`` which is a list of $x_1,x_2,x_3,x_4$"
   ]
  },
  {
   "cell_type": "code",
   "execution_count": null,
   "metadata": {},
   "outputs": [],
   "source": [
    "#Edit this cell to save your answer.\n",
    "solution=[]"
   ]
  },
  {
   "cell_type": "code",
   "execution_count": null,
   "metadata": {
    "deletable": false,
    "nbgrader": {
     "cell_type": "code",
     "checksum": "e0d35a38fe4d7db2cf47656eb3aa9ac0",
     "grade": false,
     "grade_id": "cell-50ddd610c8557f2a",
     "locked": false,
     "schema_version": 3,
     "solution": true,
     "task": false
    }
   },
   "outputs": [],
   "source": [
    "# YOUR CODE HERE\n",
    "raise NotImplementedError()"
   ]
  },
  {
   "cell_type": "markdown",
   "metadata": {},
   "source": [
    "-------\n",
    "The following question is unrelated to the system of equations above. It is a question about matrix multiplication."
   ]
  },
  {
   "cell_type": "markdown",
   "metadata": {},
   "source": [
    "&#9989;  **<font color=red>QUESTION 5:</font>** (5pts) Suppose $A,$ $B,$ and $C$ are matrices that satisfy $$A + BB^T = C,$$ where $B^T$ is the transpose of $B$.\n",
    "\n",
    "Which of the following statements are **always** true? (Note. There may be more than one.) \n",
    "\n",
    "1. $A$ is square.\n",
    "1. $A$ and $B$ have the same dimensions.\n",
    "1. $A$, $B$, and $C$ have the same number of rows.\n",
    "1. $B$ is a tall matrix. That is, $B$ has more rows than columns.\n",
    "1. $B$ is a wide matrix. That is, $B$ has more columns than rows."
   ]
  },
  {
   "cell_type": "markdown",
   "metadata": {
    "deletable": false,
    "nbgrader": {
     "cell_type": "markdown",
     "checksum": "1eb22ea79a9f9e79c5b7d6bc1da2c107",
     "grade": true,
     "grade_id": "cell-34679207ee36654a",
     "locked": false,
     "points": 5,
     "schema_version": 3,
     "solution": true,
     "task": false
    }
   },
   "source": [
    "YOUR ANSWER HERE"
   ]
  },
  {
   "cell_type": "markdown",
   "metadata": {},
   "source": [
    "\n",
    "---\n",
    "<a name=Chickens-and-Rabbits></a>\n",
    "# 3. Chickens and Rabbits\n",
    "\n"
   ]
  },
  {
   "cell_type": "markdown",
   "metadata": {},
   "source": [
    "<img src=\"https://wiki.jsswsq.com/images/0/09/%E9%B8%A1%E5%85%94%E5%90%8C%E7%AC%BC%E9%97%AE%E9%A2%98.png\" alt=\"Image of chickens and rabbits in a cage as a visual representation of the problem\"> "
   ]
  },
  {
   "cell_type": "markdown",
   "metadata": {},
   "source": [
    "Above is a famous primary school math olympiad problem: there are only chickens and rabbits in a cage. After counting, we found there are totally 35 heads and 94 feet. How many do we have for each kind?\n",
    "\n",
    "\n",
    "Let us have some fun by using linear algebra to solve an advanced version of it. There are spiders, dragonflies, and cicadas totally 18 insects in a cage. We have a total of 116 legs and 22 pairs of wings. How many insects do we have of each kind? (spider has 8 legs and 0 wings; dragonfly has 6 legs and 2 pairs of wings; cicada has 6 legs and 1 pair of wings)"
   ]
  },
  {
   "cell_type": "markdown",
   "metadata": {},
   "source": [
    "&#9989; **<font color=red>Question 1:</font>** (6pts) Suppose there are $x$ spiders, $y$ dragonflies, and $z$ cicadas. Set up three linear equations involving $x$, $y$, and $z$.  "
   ]
  },
  {
   "cell_type": "markdown",
   "metadata": {
    "deletable": false,
    "nbgrader": {
     "cell_type": "markdown",
     "checksum": "cc30d70ce1788f328df3d0f18b70940c",
     "grade": true,
     "grade_id": "cell-a1086010c01cd6d3",
     "locked": false,
     "points": 5,
     "schema_version": 3,
     "solution": true,
     "task": false
    }
   },
   "source": [
    "YOUR ANSWER HERE"
   ]
  },
  {
   "cell_type": "markdown",
   "metadata": {},
   "source": [
    "&#9989; **<font color=red>Question 2:</font>** (7pts) Write out the augmented matrix $A$ for the linear equations you set up above, and reduce it to the REF (Row Echelon Form) **(not RREF)** by hand. (Please just provide the REF below, no need to show the intermediate steps)"
   ]
  },
  {
   "cell_type": "code",
   "execution_count": null,
   "metadata": {},
   "outputs": [],
   "source": [
    "#Put your answer here\n",
    "A = \n",
    "A_REF = "
   ]
  },
  {
   "cell_type": "code",
   "execution_count": null,
   "metadata": {
    "deletable": false,
    "editable": false,
    "nbgrader": {
     "cell_type": "code",
     "checksum": "65541872505e4497c6cf961d5cf53428",
     "grade": true,
     "grade_id": "cell-d1eada58bbcacbed",
     "locked": true,
     "points": 5,
     "schema_version": 3,
     "solution": false,
     "task": false
    }
   },
   "outputs": [],
   "source": [
    "from answercheck import checkanswer\n",
    "checkanswer.eq_matrix(A,'bb6c9782ce482b2aea5d41312e9697c4');"
   ]
  },
  {
   "cell_type": "code",
   "execution_count": null,
   "metadata": {
    "deletable": false,
    "editable": false,
    "nbgrader": {
     "cell_type": "code",
     "checksum": "f23ff111a625a7dfa1631f3b7cca2f82",
     "grade": true,
     "grade_id": "cell-c50e8b8410f44ffc",
     "locked": true,
     "points": 3,
     "schema_version": 3,
     "solution": false,
     "task": false
    }
   },
   "outputs": [],
   "source": [
    "checkanswer.eq_matrix(A_REF,'bb6c9782ce482b2aea5d41312e9697c4');"
   ]
  },
  {
   "cell_type": "code",
   "execution_count": null,
   "metadata": {
    "deletable": false,
    "editable": false,
    "nbgrader": {
     "cell_type": "code",
     "checksum": "632c25913408b7efb30b79488c17bb98",
     "grade": true,
     "grade_id": "cell-2001f0fac4a66113",
     "locked": true,
     "points": 2,
     "schema_version": 3,
     "solution": false,
     "task": false
    }
   },
   "outputs": [],
   "source": [
    "checkanswer.vector([A_REF[1,0],A_REF[2,0],A_REF[2,1]],'b5021f73f68b6e2f957706af7a39ac75')"
   ]
  },
  {
   "cell_type": "markdown",
   "metadata": {},
   "source": [
    "&#9989; **<font color=red>Question 3:</font>** (6pts) Use sympy to reduce the augemented matrix $A$ to the **Reduced Row Echelon Form** (RREF). (Hint: check Part 4 of the 05 in-class assignment)"
   ]
  },
  {
   "cell_type": "code",
   "execution_count": null,
   "metadata": {},
   "outputs": [],
   "source": [
    "#Put your answer here\n",
    "RREF = "
   ]
  },
  {
   "cell_type": "code",
   "execution_count": null,
   "metadata": {
    "deletable": false,
    "editable": false,
    "nbgrader": {
     "cell_type": "code",
     "checksum": "8e03b40ab0ec9266c04ecce208622f3e",
     "grade": true,
     "grade_id": "cell-9cc0c69fff7ba60f",
     "locked": true,
     "points": 5,
     "schema_version": 3,
     "solution": false,
     "task": false
    }
   },
   "outputs": [],
   "source": [
    "from answercheck import checkanswer\n",
    "checkanswer.matrix(RREF,'bb6c9782ce482b2aea5d41312e9697c4');"
   ]
  },
  {
   "cell_type": "markdown",
   "metadata": {},
   "source": [
    "&#9989; **<font color=red>Question 4:</font>** (3pts) Use the RREF you found in Question 3 to derive the solution to the original linear system. "
   ]
  },
  {
   "cell_type": "code",
   "execution_count": null,
   "metadata": {},
   "outputs": [],
   "source": [
    "# Put your answer here\n",
    "x = \n",
    "y =\n",
    "z ="
   ]
  },
  {
   "cell_type": "code",
   "execution_count": null,
   "metadata": {
    "deletable": false,
    "editable": false,
    "nbgrader": {
     "cell_type": "code",
     "checksum": "14235dc67438c2100e0b661a8702c418",
     "grade": true,
     "grade_id": "cell-3d09856a3673ac8c",
     "locked": true,
     "points": 5,
     "schema_version": 3,
     "solution": false,
     "task": false
    }
   },
   "outputs": [],
   "source": [
    "from answercheck import checkanswer\n",
    "checkanswer.vector([x,y,z],'c550ab8dd2e8d171e88dd545ad653bff');"
   ]
  },
  {
   "cell_type": "markdown",
   "metadata": {},
   "source": [
    "&#9989; **<font color=red>Question 5:</font>** (3pts) For the RREF you found in Question 3, which part of it  corresponds to an identity matrix? "
   ]
  },
  {
   "cell_type": "markdown",
   "metadata": {
    "deletable": false,
    "nbgrader": {
     "cell_type": "markdown",
     "checksum": "9b5ff80b65e19ab4d80e9dc588bffef9",
     "grade": true,
     "grade_id": "cell-fb52faafbc9eea25",
     "locked": false,
     "points": 5,
     "schema_version": 3,
     "solution": true,
     "task": false
    }
   },
   "source": [
    "YOUR ANSWER HERE"
   ]
  },
  {
   "cell_type": "markdown",
   "metadata": {},
   "source": [
    "\n",
    "\n",
    "---\n",
    "<a name=Starship-Truckers></a>\n",
    "# 4. Starship Truckers\n",
    "\n",
    "<img src=\"https://freesvg.org/img/1528153358.png\" width=\"30%\" alt=\"Rocketship logo to help motivate problem\">\n",
    "\n",
    "As a member of the intergalactic union of starship truckers you are trying to a little honest industrial espionage and spy on your fellow truckers to see how they are making their money.  The following are commodities that any trucker may be shipping:\n",
    "\n",
    "\n",
    "| Commodity | Density (mass / volume)  | Profit (Price / mass) | \n",
    "|-----------|-----------|-----------|\n",
    "| Water | 1000 $kg/m^3$ |  4200  $\\$ / kg$ |\n",
    "| Gold | 19,300 $kg/m^3$ | 17000  $\\$ / kg$ |\n",
    "| Fuel* | 719 $kg/m^3$ | -3100 $\\$ / kg$ |\n",
    "| vacuum | 0 $kg/m^3$ | 0 $\\$ / kg$ |\n",
    "\n",
    "\\* _**NOTE**_ the fuel profit is negative because it is an expense incurred by the trucker for each run. \n",
    "\n",
    "Starship trucks are in categories based on the volume of their hold volume ($S_v$).  Starship trucks are always shipped full when they leave the mining colony and therefore the sum of the volumes of each of the individual commodities must equal the volume of the hold:\n",
    "\n",
    "$$W + G + F + V = S_v$$\n",
    "\n",
    "Where $W, G$, and $F$  are the volumes of each of the commodities. The jumpdrive burn rate ($b_r$) is exactly $2.4x10^{-5} m^3 / kg$ no matter the distance.  No starship trucker worth their salt will have any left over fuel so this means we have the following linear relationship. The weight of the entire shipment times the burn rate equals the amount of fuel needed:\n",
    "\n",
    "$$\\text{Weight}\\times b_r = F$$\n",
    "\n",
    "The weight of the entire shipment is just the volume of each individual commodity times it's density ($d_w, d_g, d_f$) plus the weight of the starship truck itself ($S_w$):\n",
    "\n",
    "$$\\text{Weight} = Wd_w + Gd_g + Fd_f + S_w$$\n",
    "\n",
    "Combining the previous two equations we get:\n",
    "\n",
    "$$(Wd_w + Gd_g + Fd_f + S_w)b_r = F$$\n",
    "\n",
    "Notice that the unknown variable $F$ is on both sides of the equation.  To get this equation into a standard linear form we do the following simple algebra (Steps shown for clarity):\n",
    "\n",
    "$$Wd_wb_r + Gd_gb_r + Fd_fb_r + S_wb_r = F$$\n",
    "$$Wd_wb_r + Gd_gb_r + Fd_fb_r -F = -S_wb_r$$\n",
    "$$Wd_wb_r + Gd_gb_r + F(d_fb_r - 1) = -S_wb_r$$\n",
    "\n",
    "Profit is determined by the mass of a commodity times the price per kilogram as follows:\n",
    "\n",
    "$$ Wd_wp_w + Gd_gp_g + Fd_fp_f = \\text{profit}$$\n",
    "\n",
    "Where \\$p_w, p_g, p_f$ are the profit/mass of the product as listed in the above table. All the above numbers are repeated here for simplicity:\n"
   ]
  },
  {
   "cell_type": "code",
   "execution_count": null,
   "metadata": {},
   "outputs": [],
   "source": [
    "import numpy as np\n",
    "import sympy as sym\n",
    "sym.init_printing()\n",
    "\n",
    "#Numbers from the above table\n",
    "dw = 1000   # kg/m3\n",
    "dg = 19300  # kg/m3\n",
    "df = 719    # kg/m3\n",
    "pw = 4200   # $/kg\n",
    "pg = 17000  # $/kg\n",
    "pf = -2100  # $/kg\n",
    "\n",
    "# Burn Rate\n",
    "br = 2.4*10**-5 # m3/kg"
   ]
  },
  {
   "cell_type": "markdown",
   "metadata": {},
   "source": [
    "&#9989; **<font color=red>Question 1.a:</font>** Assume you just finished a shipment with $W = 200 m^3, G = 200 m^3 \\text{and } F=100{m^3}$.  What is your ships hold volume (yes, this one is easy)?"
   ]
  },
  {
   "cell_type": "code",
   "execution_count": null,
   "metadata": {},
   "outputs": [],
   "source": [
    "#Put your answer to the above question here."
   ]
  },
  {
   "cell_type": "code",
   "execution_count": null,
   "metadata": {
    "deletable": false,
    "editable": false,
    "nbgrader": {
     "cell_type": "code",
     "checksum": "cd9eb4fa893a22dbfe0ec66afcf20590",
     "grade": true,
     "grade_id": "cell-d23ab87e17ac4f5b",
     "locked": true,
     "points": 5,
     "schema_version": 3,
     "solution": false,
     "task": false
    }
   },
   "outputs": [],
   "source": [
    "from answercheck import checkanswer\n",
    "checkanswer.float(Sv,'02541b7cbb840b5f6bd8eff3c9f56f61');"
   ]
  },
  {
   "cell_type": "markdown",
   "metadata": {},
   "source": [
    "&#9989; **<font color=red>Question 1.b:</font>** In the same run as Question 1.a, what is the maximum weight of your ship ($S_w$)?"
   ]
  },
  {
   "cell_type": "code",
   "execution_count": null,
   "metadata": {},
   "outputs": [],
   "source": [
    "#Put your answer to the above question here"
   ]
  },
  {
   "cell_type": "code",
   "execution_count": null,
   "metadata": {
    "deletable": false,
    "editable": false,
    "nbgrader": {
     "cell_type": "code",
     "checksum": "118f75306cc29a585e852ff6ec620edb",
     "grade": true,
     "grade_id": "cell-6dd89e1a54ce9938",
     "locked": true,
     "points": 5,
     "schema_version": 3,
     "solution": false,
     "task": false
    }
   },
   "outputs": [],
   "source": [
    "from answercheck import checkanswer\n",
    "checkanswer.float(Sw,'b6a776fd8d09eafe8954d5aa7cd7740d',decimal_accuracy=2);"
   ]
  },
  {
   "cell_type": "markdown",
   "metadata": {},
   "source": [
    "&#9989; **<font color=red>Question 1.c:</font>** How much money did you earn on the previous run?"
   ]
  },
  {
   "cell_type": "code",
   "execution_count": null,
   "metadata": {},
   "outputs": [],
   "source": [
    "#Put your answer to the above question here"
   ]
  },
  {
   "cell_type": "code",
   "execution_count": null,
   "metadata": {
    "deletable": false,
    "editable": false,
    "nbgrader": {
     "cell_type": "code",
     "checksum": "9e56a44af8cc30772eb5fa21e987c12f",
     "grade": true,
     "grade_id": "cell-859f38199e7693c5",
     "locked": true,
     "points": 5,
     "schema_version": 3,
     "solution": false,
     "task": false
    }
   },
   "outputs": [],
   "source": [
    "from answercheck import checkanswer\n",
    "checkanswer.float(profit,'20f32ce6e591e84e398721178c7b8f06',decimal_accuracy=2);"
   ]
  },
  {
   "cell_type": "markdown",
   "metadata": {},
   "source": [
    "&#9989; **<font color=red>Question 1.d:</font>** Now assume that your compeditor (Nan) has a smalish ship of $S_w = 10,000 kg$ and hold size of $S_v = 100m^3$. On Nan's last run they made a profit of 20 billion spacebucks.  Assume that the volumns $W$, $G$ and $F$ are unknown. Write this system of equations $Ax=b$ as an augmented numpy matrix $A$."
   ]
  },
  {
   "cell_type": "code",
   "execution_count": null,
   "metadata": {},
   "outputs": [],
   "source": [
    "profit = 20*10**9\n",
    "Sb = 10000\n",
    "Sv = 100"
   ]
  },
  {
   "cell_type": "code",
   "execution_count": null,
   "metadata": {},
   "outputs": [],
   "source": [
    "#Put your answer to the above question here"
   ]
  },
  {
   "cell_type": "code",
   "execution_count": null,
   "metadata": {
    "deletable": false,
    "editable": false,
    "nbgrader": {
     "cell_type": "code",
     "checksum": "00fb79924d8ba893e81cd7230d4fc6aa",
     "grade": true,
     "grade_id": "cell-6ac170934aa2d774",
     "locked": true,
     "points": 5,
     "schema_version": 3,
     "solution": false,
     "task": false
    }
   },
   "outputs": [],
   "source": [
    "from answercheck import checkanswer\n",
    "checkanswer.eq_matrix(A,'ef4af5a1ad087f8838df635139c3236b');"
   ]
  },
  {
   "cell_type": "markdown",
   "metadata": {},
   "source": [
    "&#9989; **<font color=red>Question 1.e:</font>** In your own words, explain why you can not solve this system of equations above using the Jacobi iterative solver."
   ]
  },
  {
   "cell_type": "markdown",
   "metadata": {
    "deletable": false,
    "nbgrader": {
     "cell_type": "markdown",
     "checksum": "0c1ce5ecbc43f6c816931146af744877",
     "grade": true,
     "grade_id": "cell-ff437b5388a9c967",
     "locked": false,
     "points": 5,
     "schema_version": 3,
     "solution": true,
     "task": false
    }
   },
   "source": [
    "YOUR ANSWER HERE"
   ]
  },
  {
   "cell_type": "markdown",
   "metadata": {},
   "source": [
    "---------\n",
    "### Congratulations, we're done!\n",
    "\n",
    "Turn in your assignment using D2L no later than **_11:59pm on the day of class_**. See links at the end of this document for access to the class timeline for your section."
   ]
  },
  {
   "cell_type": "markdown",
   "metadata": {},
   "source": [
    "Written by Dirk Colbry, Michigan State University\n",
    "<a rel=\"license\" href=\"http://creativecommons.org/licenses/by-nc/4.0/\"><img alt=\"Creative Commons License\" style=\"border-width:0\" src=\"https://i.creativecommons.org/l/by-nc/4.0/88x31.png\" /></a><br />This work is licensed under a <a rel=\"license\" href=\"http://creativecommons.org/licenses/by-nc/4.0/\">Creative Commons Attribution-NonCommercial 4.0 International License</a>."
   ]
  }
 ],
 "metadata": {
  "kernelspec": {
   "display_name": "Python 3",
   "language": "python",
   "name": "python3"
  },
  "language_info": {
   "codemirror_mode": {
    "name": "ipython",
    "version": 3
   },
   "file_extension": ".py",
   "mimetype": "text/x-python",
   "name": "python",
   "nbconvert_exporter": "python",
   "pygments_lexer": "ipython3",
   "version": "3.7.3"
  }
 },
 "nbformat": 4,
 "nbformat_minor": 1
}
