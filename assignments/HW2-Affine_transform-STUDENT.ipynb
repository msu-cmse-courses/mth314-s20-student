{
 "cells": [
  {
   "cell_type": "markdown",
   "metadata": {},
   "source": [
    "----"
   ]
  },
  {
   "cell_type": "markdown",
   "metadata": {},
   "source": [
    "[Link to this document's Jupyter Notebook](HW2-Affine_transform.ipynb)"
   ]
  },
  {
   "cell_type": "markdown",
   "metadata": {},
   "source": [
    "In order to successfully complete this assignment, you must follow all the instructions in this notebook and upload your edited ipynb file to [D2L](http://d2l.msu.edu/) with your answers on or before **11:59pm on Friday February 19th**.\n",
    "\n",
    "**BIG HINT:** Read the entire homework before starting.  "
   ]
  },
  {
   "cell_type": "markdown",
   "metadata": {},
   "source": [
    "# Homework 2: Affine Transform\n",
    "\n",
    "\n",
    "In this homework you will use the ```ipywidgets.interact``` (or ```ipywidgets.interact_manual```) function to build a interface to translate, scale, rotate and shear an image using ```skimage.transform``` and ```skimage.transform.warp``` (http://scikit-image.org/).  We will then \"stitch\" the images together similar to the following:\n",
    "\n",
    "\n",
    "<img src=\"https://lh5.googleusercontent.com/T7SNdiXctkIi2iWHjjdAZCRBASzRjysFkmivxtD8cZ80QlKFPjOeYa--uiDoHEUdb7daadZQ-fW-l0SVBQJDj90vPFaCKke9JSf6jf8Rk71zpy62TP_hmBpdFONBoA=w740\" alt=\"An figure showing how we will be stitching images together\"> \n",
    "\n",
    "## Homework Agenda\n",
    "\n",
    "1. [Reading in example image files](#Reading-in-example-image-files)\n",
    "2. **_[Design Transforms](#Design-Transforms)_**\n",
    "3. [Stitch Images together](#Stitch-Images-together)\n",
    "4. **_[Build an combined affine transform function.](#Build-an-combined-affine-transform-function.)_**\n",
    "5. [Exploring Transforms Interactively](#Exploring-Transforms-Interactively)\n",
    "6. **_[Stitching the Billboad and Example images](#Stitching-the-Billboad-and-Example-images)_**\n",
    "7. **_[Be creative](#Be-creative)_**\n",
    "\n",
    "**_NOTE_**: Highlighted sections above (2,4,6,7) require the majority of student input. The rest are mostly intended to glue the project together and facilitate learning."
   ]
  },
  {
   "cell_type": "code",
   "execution_count": null,
   "metadata": {},
   "outputs": [],
   "source": [
    "# Here are some libraries you may need to use\n",
    "%matplotlib inline\n",
    "import matplotlib.pylab as plt\n",
    "\n",
    "import sympy as sp\n",
    "sp.init_printing()\n",
    "\n",
    "import numpy as np\n",
    "\n",
    "from ipywidgets import interact, interact_manual\n",
    "import math\n"
   ]
  },
  {
   "cell_type": "markdown",
   "metadata": {},
   "source": [
    "\n",
    "\n",
    "---\n",
    "<a name=Reading-in-example-image-files></a>\n",
    "# 1. Reading in example image files\n",
    "\n",
    "\n",
    "\n",
    "\n",
    "The following code reads a list of image files from a websites and saves them in their own 3D numpy arrays.  The first dimension of each array is the row, the second dimension is the column and the third dimension is the color (R,G,B). \n",
    "\n",
    "\n",
    "**NOTE (this is important to remember):** images have a coordinate system with origin in the upper left and the $z$ axis going into the screen. Also images are indexed by [Rows] and then [Columns] this means that the first index corresponds to the traditional y-axis and the second index corresponds to the x-axis (which is backwards to traditional euclidean axes).   "
   ]
  },
  {
   "cell_type": "code",
   "execution_count": null,
   "metadata": {},
   "outputs": [],
   "source": [
    "#The following code snip-it downloads the files from internet and saves tnhem to your local directory.\n",
    "from urllib.request import urlopen, urlretrieve\n",
    "import imageio\n",
    "\n",
    "#Load a list of images\n",
    "ImageList = [('beaumont', 'http://res.cloudinary.com/miles-extranet-dev/image/upload/ar_16:9,c_fill,w_1000,g_face,q_50/Michigan/migration_photos/G21696/G21696-msubeaumonttower01.jpg'\n",
    "),\n",
    "             ('sparty','https://cdn.shopify.com/s/files/1/1058/4992/products/MSU-Gruffy-Sparty-Sticker-550_620x.jpg?v=1525615105'),\n",
    "             ('billboard', 'https://lh4.googleusercontent.com/OA8Et4hB-vpuYTKt86gk9i_Or1ptNbxtuYnR-7vujPVuVx6m30wXoVE3_d5fG_xDYAxUmDxOUw=w600'),\n",
    "             ('banner', 'https://lh4.googleusercontent.com/aORranhBKm_pVs-Mg_pkyY1e8ujLh_7Y671d2BjNrWPiagBqktcJvD34ZHgUQrgbFAj4xOcf0Q=w740')\n",
    "            ]\n",
    "\n",
    "for name, url in ImageList:\n",
    "    print(name)\n",
    "    file = name+'.png'\n",
    "    urlretrieve(url, file);\n",
    "    exec(name + \" = imageio.imread(file)\")"
   ]
  },
  {
   "cell_type": "code",
   "execution_count": null,
   "metadata": {},
   "outputs": [],
   "source": [
    "#Pick an image and show it\n",
    "im = banner\n",
    "plt.imshow(im);"
   ]
  },
  {
   "cell_type": "markdown",
   "metadata": {},
   "source": [
    "\n",
    "---\n",
    "<a name=Design-Transforms></a>\n",
    "# 2. (20 points)  Design Transforms\n",
    "\n",
    "\n",
    "\n",
    "The skimage library allows us to apply a $3 \\times 3$ transformation matrix to an image using the ```transform.warp``` function.\n",
    "\n",
    "```warp```  uses an ```Inverse coordinate map``` as an input, which transforms coordinates in the output images ($P_o$) into their corresponding coordinates in the input image ($P_i$). This means we need to think about what we want the output image to look like and apply all of the transformations to get it to the original input image.\n",
    "\n",
    "\n",
    "$$P_i = TP_o$$\n",
    "\n",
    "Where $P_o$ is a point in the output image, $P_i$ is a point in the input image and $T$ is the $3x3$ image transform.\n",
    "\n",
    "\n",
    "For example, if we want to have our output image shrink by a half this typically would be a contraction:\n",
    "\n",
    "$$A = \\left[ \\begin{matrix}0.5 & 0 & 0 \\\\ 0 & 0.5 & 0 \\\\ 0 & 0 & 1 \\end{matrix}\\right]$$\n",
    "\n",
    "However, warp wants transforms that go from output image to input image. This means we want to double the size of the image which can be done with a dilation:\n",
    "\n",
    "$$B = \\left[ \\begin{matrix}2 & 0 & 0 \\\\ 0 & 2 & 0 \\\\ 0 & 0 & 1 \\end{matrix}\\right]$$\n",
    "\n",
    "Also note that $A^{-1} = B$.\n",
    "\n",
    "Here is an example of how to use the ```transform.warp``` function:"
   ]
  },
  {
   "cell_type": "code",
   "execution_count": null,
   "metadata": {},
   "outputs": [],
   "source": [
    "from skimage import transform\n",
    "\n",
    "S = np.matrix([[2,0,0], [0,2,0], [0,0,1]])\n",
    "plt.imshow(transform.warp(im,S));\n",
    "sp.Matrix(S)"
   ]
  },
  {
   "cell_type": "markdown",
   "metadata": {},
   "source": [
    "What we really want is the output image to be centered. Since most transformations are symmetric around the origin it means we want to move the center of the image to the origin first (at least for scaling, rotation and shear).  In our scaling example, to go from a centered output we would first translate it from the center to the origin and then scale the image and translate it back to the center using the following transforms:"
   ]
  },
  {
   "cell_type": "code",
   "execution_count": null,
   "metadata": {},
   "outputs": [],
   "source": [
    "# Translate image to put the center at the origin\n",
    "Tc = np.matrix([[1,0,-im.shape[1]/2], [0,1,-im.shape[0]/2], [0,0,1]])\n",
    "sp.Matrix(Tc)"
   ]
  },
  {
   "cell_type": "code",
   "execution_count": null,
   "metadata": {},
   "outputs": [],
   "source": [
    "# translate image back so that the upper left point is at the origin\n",
    "\n",
    "To = np.matrix([[1,0,im.shape[1]/2], [0,1,im.shape[0]/2], [0,0,1]])\n",
    "sp.Matrix(To)"
   ]
  },
  {
   "cell_type": "code",
   "execution_count": null,
   "metadata": {},
   "outputs": [],
   "source": [
    "#Combine the transforms into one matrix\n",
    "T = To*S*Tc\n",
    "sp.Matrix(T)"
   ]
  },
  {
   "cell_type": "code",
   "execution_count": null,
   "metadata": {},
   "outputs": [],
   "source": [
    "plt.imshow(transform.warp(im, T));"
   ]
  },
  {
   "cell_type": "markdown",
   "metadata": {},
   "source": [
    "&#9989;  **<font color=red>DO THIS:</font>** Construct another transformation matrix (named ```R```) that rotates the image 30 degrees (clockwise) around it's center.  Apply this new matrix such that we get a scaled and rotated image T.  Show the image and make sure it has in fact rotated by 30 degrees in the clockwise direction."
   ]
  },
  {
   "cell_type": "code",
   "execution_count": null,
   "metadata": {},
   "outputs": [],
   "source": [
    "#Put your rotation code here."
   ]
  },
  {
   "cell_type": "code",
   "execution_count": null,
   "metadata": {
    "deletable": false,
    "editable": false,
    "nbgrader": {
     "cell_type": "code",
     "checksum": "09aa6e44db7cf4f06202d67fb77757d2",
     "grade": true,
     "grade_id": "cell-f95fc5854960cc9c",
     "locked": true,
     "points": 10,
     "schema_version": 3,
     "solution": false,
     "task": false
    }
   },
   "outputs": [],
   "source": [
    "from answercheck import checkanswer\n",
    "\n",
    "checkanswer.matrix(R,\"84b1a7ebd71e740c41730448de079684\");"
   ]
  },
  {
   "cell_type": "markdown",
   "metadata": {},
   "source": [
    "&#9989;  **<font color=red>DO THIS:</font>** write a third transformation matrix (named ```SH```) that conducts a shear of the image. The matrix should be in the following form with. To test this matrix use shx=-0.3 and shy=0.1:\n",
    "\n",
    "$$A = \\left[ \\begin{matrix}1 & shx & 0 \\\\ shy & 1 & 0 \\\\ 0 & 0 & 1 \\end{matrix}\\right]$$\n",
    "\n",
    "Apply this new matrix such that we get a scaled and sheared image.  Show the image. \n",
    "\n",
    "\n",
    "**Note:** the term shear may be new. here is a good matrix definition: https://www.mathworks.com/discovery/affine-transformation.html\n"
   ]
  },
  {
   "cell_type": "code",
   "execution_count": null,
   "metadata": {},
   "outputs": [],
   "source": [
    "#Put your shear code here."
   ]
  },
  {
   "cell_type": "code",
   "execution_count": null,
   "metadata": {
    "deletable": false,
    "editable": false,
    "nbgrader": {
     "cell_type": "code",
     "checksum": "b4dddb87a923d88a973f6ae7f4ce5a90",
     "grade": true,
     "grade_id": "cell-bd4299ada85da410",
     "locked": true,
     "points": 10,
     "schema_version": 3,
     "solution": false,
     "task": false
    }
   },
   "outputs": [],
   "source": [
    "#Check the Combined R and S matrix\n",
    "from answercheck import checkanswer\n",
    "checkanswer.matrix(SH,\"b1259119454dbd7349c4ed47c1dea64a\");"
   ]
  },
  {
   "cell_type": "markdown",
   "metadata": {},
   "source": [
    "---\n",
    "<a name=Stitch-Images-together></a>\n",
    "# 3. Stitch Images together\n",
    "\n"
   ]
  },
  {
   "cell_type": "markdown",
   "metadata": {},
   "source": [
    "Lets use this technique to \"stitch\" two images together. This is a little tricky so we will use the following function (You do not need to modify this function or anything in section 3). This function takes three inputs; the foreground image (i.e. the image to be transformed, the background image and the corresponding transform:"
   ]
  },
  {
   "cell_type": "code",
   "execution_count": null,
   "metadata": {},
   "outputs": [],
   "source": [
    "def stitch_images(forground, background, T):\n",
    "    \"\"\"Function to stitch to images together by transforming the forground image by T \n",
    "    and then overlaying the resulting image on top of the background\n",
    "    \n",
    "    background: the background image to use\n",
    "    forground: the image to be transformed\n",
    "    T: 3x3 transformation matrix\n",
    "    \n",
    "    output: stitched image the same size as the background.\n",
    "    \n",
    "    \"\"\"\n",
    "    \n",
    "    warpped_img = transform.warp(forground, T, output_shape=background.shape)\n",
    "    \n",
    "    if background.shape != warpped_img.shape:\n",
    "        raise Exception('Size Missmatch Error - Input images should be the same size')\n",
    "    \n",
    "    if (len(background.shape) != 3):\n",
    "        raise Exception('Image Type error - Images should be in RGB format')\n",
    "            \n",
    "    red_src = np.array(background[:,:,0])\n",
    "    green_src = np.array(background[:,:,1])\n",
    "    blue_src = np.array(background[:,:,2])\n",
    "\n",
    "    scale = 1\n",
    "    if (np.max(warpped_img) == 1):\n",
    "        scale = 255.0\n",
    "        \n",
    "    red_dst = warpped_img[:,:,0]*scale\n",
    "    green_dst = warpped_img[:,:,1]*scale\n",
    "    blue_dst = warpped_img[:,:,2]*scale\n",
    "\n",
    "    image_mask = (np.sum(warpped_img, axis=2) == 0)\n",
    "    \n",
    "    red_new = red_src*image_mask\n",
    "    green_new = green_src*image_mask\n",
    "    blue_new = blue_src*image_mask\n",
    "    \n",
    "    im_new = np.zeros(background.shape)\n",
    "    im_new[:,:,0] = (red_new + red_dst)/255\n",
    "    im_new[:,:,1] = (green_new + green_dst)/255\n",
    "    im_new[:,:,2] = (blue_new + blue_dst)/255\n",
    "    \n",
    "    return im_new"
   ]
  },
  {
   "cell_type": "markdown",
   "metadata": {},
   "source": [
    "We can test the above function using the results of your previous transforms:"
   ]
  },
  {
   "cell_type": "code",
   "execution_count": null,
   "metadata": {},
   "outputs": [],
   "source": [
    "Tc = np.matrix([[1,0,-billboard.shape[1]/2], [0,1,-billboard.shape[0]/2], [0,0,1]])\n",
    "To = np.matrix([[1,0,banner.shape[1]/2], [0,1,banner.shape[0]/2], [0,0,1]])\n",
    "plt.imshow(stitch_images(banner, billboard, To*R*S*SH*Tc))"
   ]
  },
  {
   "cell_type": "markdown",
   "metadata": {},
   "source": [
    "\n",
    "\n",
    "---\n",
    "<a name=Build-an-combined-affine-transform-function.></a>\n",
    "# 4. (50 points) Build an combined affine transform function.\n",
    "\n",
    "\n",
    "\n",
    "In this step, you will write a function that takes affine parameters as inputs and returns a combined $3 \\times 3$ matrix. "
   ]
  },
  {
   "cell_type": "markdown",
   "metadata": {},
   "source": [
    "&#9989;  **<font color=red>DO THIS:</font>** Write a function that takes seven inputs and returns a transformation T. Name this function ```affine_transform```. These include the following :\n",
    "\n",
    "- **a** - Rotation around the center of the image [-$180$,$180$].  \n",
    "- **sx** - Sale factor for the image in the x direction (0,5]\n",
    "- **sy** - Sale factor for the image in the x direction (0,5]\n",
    "- **tx** - translation in the x direction (pixels)\n",
    "- **ty** - translation in the y direction (pixels)\n",
    "- **shx** - Shear in the x direction [0,1]\n",
    "- **shy** - Shear in the y direction [0,1]\n",
    "\n",
    "The order of these is vary important. First assume the image is already centered, apply shear,  then scaling, then rotation and then finish with translation. "
   ]
  },
  {
   "cell_type": "code",
   "execution_count": null,
   "metadata": {},
   "outputs": [],
   "source": [
    "##Put your function here\n",
    "def affine_transform(a=0,sx=0.5, sy=0.5,tx=0,ty=0,shx=0, shy=0):\n",
    "    T = np.matrix([[1,0,0],[0,1,0],[0,0,1]])\n",
    "    #Your transformations go here.\n",
    "    return T"
   ]
  },
  {
   "cell_type": "markdown",
   "metadata": {},
   "source": [
    "**_NOTE_**:  The following tests are intended to help students (and facilitate grading), however, the instructors are aware that there are multiple correct answers that may may cause these tests to fail.    "
   ]
  },
  {
   "cell_type": "code",
   "execution_count": null,
   "metadata": {
    "deletable": false,
    "editable": false,
    "nbgrader": {
     "cell_type": "code",
     "checksum": "86b65fda16d472506aac3f78e5861729",
     "grade": true,
     "grade_id": "cell-238c684e45c86fbc",
     "locked": true,
     "points": 10,
     "schema_version": 3,
     "solution": false,
     "task": false
    }
   },
   "outputs": [],
   "source": [
    "from answercheck import checkanswer\n",
    "test1 = affine_transform()\n",
    "plt.imshow(transform.warp(im, test1));\n",
    "checkanswer.matrix(test1,\"d6bd760cffe3502ce411af2b8e771532\");\n"
   ]
  },
  {
   "cell_type": "code",
   "execution_count": null,
   "metadata": {
    "deletable": false,
    "editable": false,
    "nbgrader": {
     "cell_type": "code",
     "checksum": "dd38916e58d7f9c4f1c292f731a33b69",
     "grade": true,
     "grade_id": "cell-046ef3269782acda",
     "locked": true,
     "points": 10,
     "schema_version": 3,
     "solution": false,
     "task": false
    }
   },
   "outputs": [],
   "source": [
    "from answercheck import checkanswer\n",
    "test2 = affine_transform(a=30,tx=400, ty=-300)\n",
    "plt.imshow(transform.warp(im, test2));\n",
    "checkanswer.matrix(test2,\"c61fa880d8bc72fd27601914ec7b75e1\");\n"
   ]
  },
  {
   "cell_type": "code",
   "execution_count": null,
   "metadata": {
    "deletable": false,
    "editable": false,
    "nbgrader": {
     "cell_type": "code",
     "checksum": "152eb2ae83fb9c934c44f6247a5f2fde",
     "grade": true,
     "grade_id": "cell-d87899466f712485",
     "locked": true,
     "points": 10,
     "schema_version": 3,
     "solution": false,
     "task": false
    }
   },
   "outputs": [],
   "source": [
    "from answercheck import checkanswer\n",
    "test3 = affine_transform(a=20, sx=0.4, sy=0.4, shx=0.4, shy=0.3, tx=800, ty=50)\n",
    "plt.imshow(transform.warp(im, test3));\n",
    "checkanswer.matrix(test3,\"bbec7cab05358167646fb39245115e08\");\n"
   ]
  },
  {
   "cell_type": "code",
   "execution_count": null,
   "metadata": {
    "deletable": false,
    "editable": false,
    "nbgrader": {
     "cell_type": "code",
     "checksum": "7d635e2c9cffdbd5349be13fd2550be6",
     "grade": true,
     "grade_id": "cell-9936fd828c6676fc",
     "locked": true,
     "points": 10,
     "schema_version": 3,
     "solution": false,
     "task": false
    }
   },
   "outputs": [],
   "source": [
    "from answercheck import checkanswer\n",
    "test4 = affine_transform(shx=0.1, shy=0.3, tx=100,ty=250)\n",
    "plt.imshow(transform.warp(im, test4));\n",
    "checkanswer.matrix(test3,\"cd6d86d64f2adf4c0d5cf38661765026\");"
   ]
  },
  {
   "cell_type": "code",
   "execution_count": null,
   "metadata": {
    "deletable": false,
    "editable": false,
    "nbgrader": {
     "cell_type": "code",
     "checksum": "2773b99ed62da8049c20cd12229c43e6",
     "grade": true,
     "grade_id": "cell-266b2f0c866ede34",
     "locked": true,
     "points": 10,
     "schema_version": 3,
     "solution": false,
     "task": false
    }
   },
   "outputs": [],
   "source": [
    "from answercheck import checkanswer\n",
    "test5 = affine_transform(tx=400,ty=100)\n",
    "plt.imshow(transform.warp(im, test5));\n",
    "checkanswer.matrix(test5,\"85607ee2bbf4b4759e1e6da6728b392c\");\n"
   ]
  },
  {
   "cell_type": "markdown",
   "metadata": {},
   "source": [
    "\n",
    "\n",
    "---\n",
    "<a name=Exploring-Transforms-Interactively></a>\n",
    "# 5. (10 points) Exploring Transforms Interactively\n",
    "\n",
    "In this final step use the ```ipywidgets.interact``` (or ```ipywidgets.interact_manual```) function to call your ```affine_transform``` function turn all of the input parameters into sliders. \n",
    "\n",
    "**_Note_**: if the ```affine_transform``` function was created correctly in Step 3 then the following function do not need to be changed and should work similar to the video at the beginning of this homework. \n",
    "\n",
    "Here is a video similar (not exact) of what your final solution will look like:\n",
    "\n",
    "* Direct Link: https://youtu.be/b4x39uqTMBY"
   ]
  },
  {
   "cell_type": "code",
   "execution_count": null,
   "metadata": {},
   "outputs": [],
   "source": [
    "from IPython.display import YouTubeVideo\n",
    "YouTubeVideo(\"b4x39uqTMBY\",width=640,height=360)"
   ]
  },
  {
   "cell_type": "code",
   "execution_count": null,
   "metadata": {},
   "outputs": [],
   "source": [
    "forground = banner\n",
    "background = billboard\n",
    "\n",
    "def transform_and_plot(a=0,sx=0.5,sy=0.5, tx=0,ty=0, shx=0, shy=0):\n",
    "    T = affine_transform(a=a,sx=sx, sy=sy,tx=tx,ty=ty,shx=shx, shy=shy)\n",
    "    Tc = np.matrix([[1,0,-background.shape[1]/2], [0,1,-background.shape[0]/2], [0,0,1]])\n",
    "    To = np.matrix([[1,0,forground.shape[1]/2], [0,1,forground.shape[0]/2], [0,0,1]])\n",
    "    im_new = stitch_images(forground, background, To*T*Tc)\n",
    "    plt.imshow(im_new);\n",
    "    plt.show(); \n"
   ]
  },
  {
   "cell_type": "code",
   "execution_count": null,
   "metadata": {},
   "outputs": [],
   "source": [
    "maxx = max(background.shape[0], forground.shape[0])\n",
    "maxy = max(background.shape[1], forground.shape[1])\n",
    "interact_manual(transform_and_plot, \n",
    "                a1=(-180,180), \n",
    "                sx=(0.001,5, 0.01), \n",
    "                sy=(0.001,5, 0.01), \n",
    "                tx=(-maxx,maxx), \n",
    "                ty=(-maxy,maxy), \n",
    "                shx = (-1,1,0.01), \n",
    "                shy = (-1,1,0.01));"
   ]
  },
  {
   "cell_type": "markdown",
   "metadata": {},
   "source": [
    "&#9989;  **<font color=red>DO THIS:</font>** Test your sliders and make sure they make sense. If the output differs slightly from the example video, explain what is different and why your solution also makes sense."
   ]
  },
  {
   "cell_type": "markdown",
   "metadata": {
    "deletable": false,
    "nbgrader": {
     "cell_type": "markdown",
     "checksum": "c43d1637b3a4422f5be8dfec8ba069be",
     "grade": true,
     "grade_id": "cell-23c3134cb72d8b80",
     "locked": false,
     "points": 10,
     "schema_version": 3,
     "solution": true,
     "task": false
    }
   },
   "source": [
    "YOUR ANSWER HERE"
   ]
  },
  {
   "cell_type": "markdown",
   "metadata": {},
   "source": [
    "\n",
    "---\n",
    "<a name=Stitching-the-Billboad-and-Example-images></a>\n",
    "# 6. (10 points) Stitching the Billboad and Example images\n",
    "\n",
    "\n",
    "Give when you learned above, record the angle (```a```), scaling (```sx,xy```), translation (```tx,ty```) and shear (```shx```,```shy```) values to generate the final transform that best fits the MSU banner image to the billboard image (similar to the image at the topof the homework).  "
   ]
  },
  {
   "cell_type": "code",
   "execution_count": null,
   "metadata": {},
   "outputs": [],
   "source": [
    "T = affine_transform(a=0, \n",
    "                     sx=1,\n",
    "                     sy=1,\n",
    "                     tx=0,\n",
    "                     ty=0,\n",
    "                     shx=0,\n",
    "                     shy=0)\n",
    "\n",
    "im_new = stitch_images(banner, billboard, T)\n",
    "plt.imshow(im_new);"
   ]
  },
  {
   "cell_type": "markdown",
   "metadata": {},
   "source": [
    "\n",
    "\n",
    "---\n",
    "<a name=Be-creative></a>\n",
    "# 7. (10 points) Be creative\n",
    "\n",
    "\n",
    "Find two other examples images (include their URLs in the list at the top of this assignment).  Stitch them together in a fun and creative way and show your final results.\n",
    "\n",
    "**_NOTE:_** Any purly black pixels (R,G,B = 0,0,0) in your foreground image will act transparent when using the provided ```stitch_images``` function. This can allow for non-square overlapping images. Have fun with it. "
   ]
  },
  {
   "cell_type": "markdown",
   "metadata": {},
   "source": [
    "&#9989;  **<font color=red>DO THIS:</font>** Write code to display your images here. Make sure your instructor can use the code above to download the correct images."
   ]
  },
  {
   "cell_type": "code",
   "execution_count": null,
   "metadata": {},
   "outputs": [],
   "source": [
    "# Put your display code here."
   ]
  },
  {
   "cell_type": "markdown",
   "metadata": {},
   "source": [
    "&#9989;  **<font color=red>DO THIS:</font>** Design a transform to overlap one image with the other."
   ]
  },
  {
   "cell_type": "code",
   "execution_count": null,
   "metadata": {},
   "outputs": [],
   "source": [
    "# Put your transform code here."
   ]
  },
  {
   "cell_type": "markdown",
   "metadata": {},
   "source": [
    "&#9989;  **<font color=red>DO THIS:</font>** stitch your images together using your transform."
   ]
  },
  {
   "cell_type": "code",
   "execution_count": null,
   "metadata": {},
   "outputs": [],
   "source": [
    "# Put your transform code here."
   ]
  },
  {
   "cell_type": "markdown",
   "metadata": {},
   "source": [
    "&#9989;  **<font color=red>FEEDBACK:</font>** Please use the following cell to describe any problems you encountered and/or thoughts about this homework. Also feel free to describe how you picked your example. "
   ]
  },
  {
   "cell_type": "markdown",
   "metadata": {},
   "source": [
    "Put your comments/feedback in this cell."
   ]
  },
  {
   "cell_type": "markdown",
   "metadata": {},
   "source": [
    "---------\n",
    "### Congratulations, we're done!\n"
   ]
  },
  {
   "cell_type": "markdown",
   "metadata": {},
   "source": [
    "Written by Dirk Colbry, Michigan State University\n",
    "<a rel=\"license\" href=\"http://creativecommons.org/licenses/by-nc/4.0/\"><img alt=\"Creative Commons License\" style=\"border-width:0\" src=\"https://i.creativecommons.org/l/by-nc/4.0/88x31.png\" /></a><br />This work is licensed under a <a rel=\"license\" href=\"http://creativecommons.org/licenses/by-nc/4.0/\">Creative Commons Attribution-NonCommercial 4.0 International License</a>."
   ]
  }
 ],
 "metadata": {
  "kernelspec": {
   "display_name": "Python 3",
   "language": "python",
   "name": "python3"
  },
  "language_info": {
   "codemirror_mode": {
    "name": "ipython",
    "version": 3
   },
   "file_extension": ".py",
   "mimetype": "text/x-python",
   "name": "python",
   "nbconvert_exporter": "python",
   "pygments_lexer": "ipython3",
   "version": "3.7.3"
  }
 },
 "nbformat": 4,
 "nbformat_minor": 1
}
