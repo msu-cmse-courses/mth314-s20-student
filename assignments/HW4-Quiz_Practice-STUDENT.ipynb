{
 "cells": [
  {
   "cell_type": "markdown",
   "metadata": {},
   "source": [
    "----"
   ]
  },
  {
   "cell_type": "markdown",
   "metadata": {},
   "source": [
    "[Link to this document's Jupyter Notebook](HW4-Quiz_Practice.ipynb)"
   ]
  },
  {
   "cell_type": "markdown",
   "metadata": {},
   "source": [
    "In order to successfully complete this assignment, you must follow all the instructions in this notebook and upload your edited ipynb file to [D2L](http://d2l.msu.edu/) with your answers on or before **11:59pm on Friday March 26th**.\n",
    "\n",
    "**BIG HINT:** Read the entire homework before starting.  "
   ]
  },
  {
   "cell_type": "markdown",
   "metadata": {},
   "source": [
    "# Homework 4: Practice Quizes\n",
    "\n",
    "In this homework, we will exploring four different examples of in-class quizzes students had in previous semesters of this course.   These problems are intended to give student's exposure to the style of questions asked on quizzes and help you practice. Please finish the entire Jupyter Notebook and turn in your edited file using the [MSU D2L Website](http://d2l.msu.edu).\n",
    "\n",
    "Your instructors recommend doing one question at a time.  Set a timer for 20-30 minutes and see how much of the question you can answer.  We hope this will get you used to getting a timed quiz complete during class.  "
   ]
  },
  {
   "cell_type": "markdown",
   "metadata": {},
   "source": [
    "### Outline for Homework 1\n",
    "\n",
    "1. [Image Manipulation](#Image-Manipulation)\n",
    "2. [Recurrence Relations](#Recurrence-Relations)\n",
    "3. [Motivating Problem Rotational Dynamics](#Motivating-Problem-Rotational-Dynamics)\n",
    "4. [Reverse Transforms](#Reverse-Transforms)\n",
    "\n"
   ]
  },
  {
   "cell_type": "markdown",
   "metadata": {},
   "source": [
    "\n",
    "\n",
    "\n",
    "---\n",
    "<a name=Image-Manipulation></a>\n",
    "# 1.  Image Manipulation\n",
    "\n"
   ]
  },
  {
   "cell_type": "markdown",
   "metadata": {},
   "source": [
    "Recall that on the first day of class we showed how computers can represent different colors as vectors. Specifically we have a 3-vector $[R,G,B]$ that stores the amount of red, green, and blue that appears in a specific pixel. In that notebook we took the entries to be floats in the range of 0-1. Today we will again be working with RGB color vectors, but in this quiz the values of the entries will be integers in the range of 0-255.\n",
    "\n",
    "Recently in class we have discussed how to use matrix multiplication to apply affine transformations to a set of points in a picture. In this quiz we will be applying transformations to the color vectors associated to each pixel in the image."
   ]
  },
  {
   "cell_type": "code",
   "execution_count": null,
   "metadata": {},
   "outputs": [],
   "source": [
    "%matplotlib inline \n",
    "import matplotlib.pylab as plt\n",
    "import numpy as np\n",
    "import sympy as sym\n",
    "sym.init_printing()"
   ]
  },
  {
   "cell_type": "markdown",
   "metadata": {},
   "source": [
    "The following code will download and display an image from the given url."
   ]
  },
  {
   "cell_type": "code",
   "execution_count": null,
   "metadata": {},
   "outputs": [],
   "source": [
    "import imageio\n",
    "\n",
    "#from urllib.request import urlopen, urlretrieve\n",
    "#from scipy.misc import imsave\n",
    "\n",
    "url = 'http://www.ideachampions.com/weblogs/iStock_000022162723_Small.jpg'\n",
    "#url = 'http://colortutorial.design/rgb.jpg'\n",
    "im = imageio.imread(url)\n",
    "plt.imshow(im)"
   ]
  },
  {
   "cell_type": "markdown",
   "metadata": {},
   "source": [
    "The functions below will convert between images represented by 3-dimensional arrays of shape $(h,w,3)$, and numpy matrices of size $3 \\times n$. In the $3 \\times n$ matrix each column represents the color of an individual pixel of our image."
   ]
  },
  {
   "cell_type": "code",
   "execution_count": null,
   "metadata": {},
   "outputs": [],
   "source": [
    "\n",
    "def image2matrix(image):\n",
    "    '''Turns an image into a numpy matrix of size 3 x (h*w).'''\n",
    "    h,w,_ = image.shape\n",
    "    return np.matrix(image.reshape(h*w,3)).T\n",
    "\n",
    "def matrix2image(matrix,h,w):\n",
    "    '''Turns a 3xn matrix into a numpy array of shape (h,w,3).'''\n",
    "    \n",
    "    if h*w != matrix.shape[1]:\n",
    "        raise Exception(\"Matrix must have length of h*w!\")\n",
    "        \n",
    "    return np.array(matrix.T).reshape(h,w,3).astype(int).clip(0,255)"
   ]
  },
  {
   "cell_type": "markdown",
   "metadata": {},
   "source": [
    "Below is the image matrix that we will be using for Question 1. It is saved as ``im_mat``."
   ]
  },
  {
   "cell_type": "code",
   "execution_count": null,
   "metadata": {},
   "outputs": [],
   "source": [
    "h,w,_ = im.shape\n",
    "im_mat = image2matrix(im)\n",
    "im_mat.shape"
   ]
  },
  {
   "cell_type": "markdown",
   "metadata": {},
   "source": [
    "If we apply an affine transformation to ``im_mat`` we are changing the color vectors associated to the pixel.\n",
    "The idea is that if we have a matrix $M$ and a color vector $x = (R,G,B)^T$, then $Mx$ will be a new $ 3 \\times 1$ matrix that represents a new color. "
   ]
  },
  {
   "cell_type": "code",
   "execution_count": null,
   "metadata": {},
   "outputs": [],
   "source": [
    "sepia = np.matrix('0.393,0.769,0.189;0.349,0.686,0.168;0.272,0.534,0.131')\n",
    "sepia_mat = sepia * im_mat\n",
    "plt.imshow(matrix2image(sepia_mat,h,w))"
   ]
  },
  {
   "cell_type": "markdown",
   "metadata": {},
   "source": [
    "&#9989;  **<font color=red>QUESTION 1:</font>** (5pts) Apply the following grayscale transformation below to the image matrix ``im_mat``. Save the result as ``new_image_matrix``."
   ]
  },
  {
   "cell_type": "code",
   "execution_count": null,
   "metadata": {},
   "outputs": [],
   "source": [
    "## Edit this cell for your work. \n",
    "grayscale = np.matrix(np.ones([3,3]))/3\n",
    "\n",
    "#new_image_matrix = "
   ]
  },
  {
   "cell_type": "code",
   "execution_count": null,
   "metadata": {
    "deletable": false,
    "editable": false,
    "nbgrader": {
     "cell_type": "code",
     "checksum": "a9bc7618f43453f0dc312934e0765ec3",
     "grade": true,
     "grade_id": "cell-158ee5340ff46646",
     "locked": true,
     "points": 5,
     "schema_version": 3,
     "solution": false,
     "task": false
    }
   },
   "outputs": [],
   "source": [
    "from answercheck import checkanswer\n",
    "\n",
    "# we suppress the output and only check 100 values of your matrix to speed things up.\n",
    "checkanswer.detailedwarnings = False \n",
    "checkanswer.matrix(new_image_matrix[:,1000:1100],\"c0c5f50c51db1b7a528b6fdd7425cac8\");"
   ]
  },
  {
   "cell_type": "markdown",
   "metadata": {},
   "source": [
    "The code below will display your edited image."
   ]
  },
  {
   "cell_type": "code",
   "execution_count": null,
   "metadata": {},
   "outputs": [],
   "source": [
    "plt.imshow(matrix2image(new_image_matrix,h,w))"
   ]
  },
  {
   "cell_type": "markdown",
   "metadata": {},
   "source": [
    "&#9989;  **<font color=red>QUESTION 2:</font>** (5pts) Find the determinant of the ``sepia`` and ``grayscale`` matrices. Save your ansers as ``det_sepia`` and ``det_gray``, respectively."
   ]
  },
  {
   "cell_type": "code",
   "execution_count": null,
   "metadata": {},
   "outputs": [],
   "source": [
    "##Work in this cell\n",
    "sepia = np.matrix('0.393,0.769,0.189;0.349,0.686,0.168;0.272,0.534,0.131')\n",
    "grayscale = np.matrix(np.ones([3,3]))/3\n",
    "\n",
    "#det_sepia = \n",
    "#det_gray = "
   ]
  },
  {
   "cell_type": "code",
   "execution_count": null,
   "metadata": {
    "deletable": false,
    "editable": false,
    "nbgrader": {
     "cell_type": "code",
     "checksum": "01c5f08c8995f1b16f46e99eb28201c9",
     "grade": true,
     "grade_id": "cell-83c2e79dd5752e5c",
     "locked": true,
     "points": 5,
     "schema_version": 3,
     "solution": false,
     "task": false
    }
   },
   "outputs": [],
   "source": [
    "from answercheck import checkanswer\n",
    "checkanswer.detailedwarnings = True \n",
    "checkanswer((det_sepia,det_gray),\"924c2a9fa81245883d7bce7547ae91f0\");"
   ]
  },
  {
   "cell_type": "markdown",
   "metadata": {},
   "source": [
    "&#9989;  **<font color=red>QUESTION 3:</font>** Explain why the sepia transformation is reversible, but it is not possible to reverse the grayscale transformation provided above."
   ]
  },
  {
   "cell_type": "markdown",
   "metadata": {
    "deletable": false,
    "nbgrader": {
     "cell_type": "markdown",
     "checksum": "7623c55d9c009ad7c1d116f18a8c6d26",
     "grade": true,
     "grade_id": "cell-ee24904044aad8d2",
     "locked": false,
     "points": 5,
     "schema_version": 3,
     "solution": true,
     "task": false
    }
   },
   "source": [
    "YOUR ANSWER HERE"
   ]
  },
  {
   "cell_type": "markdown",
   "metadata": {},
   "source": [
    "------\n",
    "In the last two questions we ask that you produce transformations that have a specific affect on the provided color vectors."
   ]
  },
  {
   "cell_type": "markdown",
   "metadata": {},
   "source": [
    "&#9989;  **<font color=red>QUESTION 4:</font>** (5pts) Create a $3 \\times 3$ matrix ```A``` that swaps the red and blue values in a color vector.\n",
    "That is we want ``A`` to be a matrix such that $Ax = x'$ where $x = [R,G,B]^T$ and $x' = [B,G,R]^T$. \n",
    "\n",
    "**Hint.** Think about elementary row operations."
   ]
  },
  {
   "cell_type": "code",
   "execution_count": null,
   "metadata": {},
   "outputs": [],
   "source": [
    "## Edit the entries below to make the appropriate matrix.\n",
    "A = np.matrix([[0,0,0],[0,0,0],[0,0,0]])\n",
    "\n",
    "#You don't need to edit the following line\n",
    "sym.Matrix(A)"
   ]
  },
  {
   "cell_type": "code",
   "execution_count": null,
   "metadata": {
    "deletable": false,
    "editable": false,
    "nbgrader": {
     "cell_type": "code",
     "checksum": "75c18fdf7c5b20a01ed5f0b1982c6651",
     "grade": true,
     "grade_id": "cell-b9e79427759c77e2",
     "locked": true,
     "points": 5,
     "schema_version": 3,
     "solution": false,
     "task": false
    }
   },
   "outputs": [],
   "source": [
    "from answercheck import checkanswer\n",
    "checkanswer.matrix(A,\"2c2d2e407389eabeb6d90894565c830f\")"
   ]
  },
  {
   "cell_type": "markdown",
   "metadata": {},
   "source": [
    "The following code will display the color-swapped image."
   ]
  },
  {
   "cell_type": "code",
   "execution_count": null,
   "metadata": {},
   "outputs": [],
   "source": [
    "plt.imshow(matrix2image(A*im_mat,h,w))"
   ]
  },
  {
   "cell_type": "markdown",
   "metadata": {},
   "source": [
    "----\n",
    "The formula for producing the **negative** of an image is given by \n",
    "\n",
    "$$ R_{\\text{neg}} = 255-R,\\\\ G_{\\text{neg}} = 255-G, \\\\ B_{\\text{neg}} = 255-B.$$\n",
    "\n",
    "Translating these transformations into a matrix equation gives rise to the following:\n",
    "\n",
    "$$ \n",
    "\\left[ \\begin{matrix}\n",
    "    R_{\\text{neg}} \\\\\n",
    "    G_{\\text{neg}} \\\\\n",
    "    B_{\\text{neg}}\n",
    " \\end{matrix}\n",
    "\\right] \n",
    "=\n",
    "\\left[ \\begin{matrix}\n",
    "    -1 & 0 & 0\\\\\n",
    "    0 & -1 & 0\\\\\n",
    "    0 & 0 & -1\n",
    " \\end{matrix}\n",
    "\\right] \n",
    "\\left[ \\begin{matrix}\n",
    "    R \\\\\n",
    "    G \\\\\n",
    "    B \\\\\n",
    " \\end{matrix}\n",
    "\\right] +\n",
    "\\left[\\begin{matrix}\n",
    "255\\\\\n",
    "255 \\\\\n",
    "255\n",
    "\\end{matrix}\n",
    "\\right]\n",
    "$$ \n",
    "\n",
    "\n"
   ]
  },
  {
   "cell_type": "markdown",
   "metadata": {},
   "source": [
    "&#9989;  **<font color=red>QUESTION 5:</font>** (5pts)\n",
    "Create an equivalent $3 \\times 4$ matrix ``B`` such that $Bx = x_{\\text{neg}}$ where $$ x =\\begin{bmatrix} R \\\\ G\\\\ B \\\\ 1 \\end{bmatrix},\\, \\text{and} \\,x_{\\text{neg}} = \\begin{bmatrix} R_{\\text{neg}}\\\\ G_{\\text{neg}} \\\\ B_{\\text{neg}}  \\end{bmatrix}$$\n",
    "**Hint.** Remember the fractal section."
   ]
  },
  {
   "cell_type": "code",
   "execution_count": null,
   "metadata": {},
   "outputs": [],
   "source": [
    "## Edit the entries below to make the appropriate matrix.\n",
    "B = np.matrix([[0,0,0,0],[0,0,0,0],[0,0,0,0]])\n",
    "\n",
    "#You don't need to edit the following line\n",
    "sym.Matrix(B)"
   ]
  },
  {
   "cell_type": "code",
   "execution_count": null,
   "metadata": {
    "deletable": false,
    "editable": false,
    "nbgrader": {
     "cell_type": "code",
     "checksum": "d0d0a07110e87dbbf5751e4880b146f0",
     "grade": true,
     "grade_id": "cell-2e2fea527a86a4f3",
     "locked": true,
     "points": 5,
     "schema_version": 3,
     "solution": false,
     "task": false
    }
   },
   "outputs": [],
   "source": [
    "from answercheck import checkanswer\n",
    "checkanswer.matrix(B,\"6df638d913b745cf0369556cdc7e83c2\")"
   ]
  },
  {
   "cell_type": "markdown",
   "metadata": {},
   "source": [
    "\n",
    "\n",
    "---\n",
    "<a name=Recurrence-Relations></a>\n",
    "# 2. Recurrence Relations\n",
    "\n",
    "\n",
    "<img src=\"https://www.mathsisfun.com/numbers/images/fibonacci-spiral.svg\">\n",
    "\n",
    "In this question we will introduce and solve recurrence relations by using matrices, eigenvalues, and eigenvectors.\n",
    "\n",
    "A **sequence** $(a_n)_{n=0}^\\infty$ is an infinite list of numbers $(a_0, a_1, a_2, a_3, \\dots)$. In this class we can think about them as being infinite length vectors. One way to describe a sequence is to give an iterative rule that defines the next entry of the sequence in terms of previous ones. This is called a recurrence relation. \n",
    "\n",
    "For example, one of the most famous sequences of numbers is the Fibonacci sequence. This sequence goes as follows\n",
    "$$(0, 1, 1, 2, 3, 5, 8, 13, 21, 34, 55, 89, 144, 233, 377,\\dots)$$\n",
    "\n",
    "Instead of having to write out the infinite list of numbers we can just describe a rule to generate the next element in the sequence. For the Fibonacci sequence the rule is defined by the relation $$f_n = f_{n-1} + f_{n-2}.$$\n",
    "That is to calculate the next entry in the sequence you add the previous two. Now there are many sequences of numbers that satisfy this rule, so to specify the Fibonacci sequence we also need to specify the start of the sequence. Specifically, that $f_0=0, \\,f_1=1.$\n",
    "\n",
    "We can use matrices to encode recurrence relations and compute future values by using matrix multiplication. For the Fibonacci sequence it looks like the following. Let $$v_n := \\begin{pmatrix} f_n \\\\ f_{n-1} \\end{pmatrix}, \\, \\text{ and } A = \\begin{pmatrix} 1 & 1 \\\\ 1 & 0 \\end{pmatrix}.$$ Then we notice that $v_n = Av_{n-1}$ or more generally, we have that $A^{n-1}v_1 = v_n$. Specifically,\n",
    "\n",
    "$$Av_{n-1}= \\begin{pmatrix} 1 & 1 \\\\ 1 & 0 \\end{pmatrix} \\begin{pmatrix} f_{n-1} \\\\ f_{n-2} \\end{pmatrix} = \\begin{pmatrix} f_{n-1}+f_{n-2} \\\\ f_{n-1} \\end{pmatrix} = \\begin{pmatrix} f_n \\\\ f_{n-1} \\end{pmatrix} = v_n $$\n",
    "\n",
    "For a specific example notice that for the Fibonacci sequence we have $v_5 = (5,3)^T$, $v_6 = (8,5)^T$, and that $v_6 = A v_5 = A^5v_1$. \n",
    "\n",
    "Matrix multiplication is one way of computing these values but it has the drawback that to find the 100th entry in the sequence you need to also compute the first 99 entries as well.\n",
    "\n",
    "Luckily for us the collection of solutions to a given recurrence relation forms a vector space and we will use this structure to write a formula for a general solution in terms of the eigenbasis."
   ]
  },
  {
   "cell_type": "code",
   "execution_count": null,
   "metadata": {},
   "outputs": [],
   "source": [
    "%matplotlib inline \n",
    "import matplotlib.pylab as plt\n",
    "import numpy as np\n",
    "import sympy as sym\n",
    "sym.init_printing()"
   ]
  },
  {
   "cell_type": "markdown",
   "metadata": {},
   "source": [
    "&#9989;  **<font color=red>QUESTION 1:</font>** (5pts) Find a matrix $B$ that represents the recurrence relation $$b_n = 5b_{n-1} - 4b_{n-2}$$  \n",
    "\n",
    "**Hint.** Define $v_n = (b_n,b_{n-1})^T$. Your matrix should be $2 \\times 2$ and satisfies the equation $Bv_{n-1} = v_{n}$."
   ]
  },
  {
   "cell_type": "code",
   "execution_count": null,
   "metadata": {},
   "outputs": [],
   "source": [
    "## Edit this cell for your work. \n",
    "#B = "
   ]
  },
  {
   "cell_type": "code",
   "execution_count": null,
   "metadata": {
    "deletable": false,
    "editable": false,
    "nbgrader": {
     "cell_type": "code",
     "checksum": "60d233a39acfee720f9d6138feae6963",
     "grade": true,
     "grade_id": "cell-752c1e0533c3aa6e",
     "locked": true,
     "points": 5,
     "schema_version": 3,
     "solution": false,
     "task": false
    }
   },
   "outputs": [],
   "source": [
    "from answercheck import checkanswer\n",
    "checkanswer.detailedwarnings = False\n",
    "checkanswer.matrix(B,\"496f5b1ff53292b14df4589781a8d5c3\");"
   ]
  },
  {
   "cell_type": "markdown",
   "metadata": {},
   "source": [
    "&#9989;  **<font color=red>QUESTION 2:</font>** (5pts) Compute $b_{10}$ for the recurrence relation $b_n = 5b_{n-1} - 4b_{n-2}$ when $b_1 = 4, b_0=2.$ Save your value as ``b10`` for answercheck. "
   ]
  },
  {
   "cell_type": "code",
   "execution_count": null,
   "metadata": {},
   "outputs": [],
   "source": [
    "##Do your work here\n",
    "# b10 ="
   ]
  },
  {
   "cell_type": "code",
   "execution_count": null,
   "metadata": {
    "deletable": false,
    "editable": false,
    "nbgrader": {
     "cell_type": "code",
     "checksum": "2f8ae2090d5e3cc97b507405b2b57288",
     "grade": true,
     "grade_id": "cell-6630e47dccfd8a0a",
     "locked": true,
     "points": 5,
     "schema_version": 3,
     "solution": false,
     "task": false
    }
   },
   "outputs": [],
   "source": [
    "from answercheck import checkanswer\n",
    "checkanswer.detailedwarnings = False\n",
    "checkanswer.float(b10,\"56b48e42a1b4913229ef0c1c39ca7cc4\");"
   ]
  },
  {
   "cell_type": "markdown",
   "metadata": {},
   "source": [
    "In the next three questions we will discuss how to use vectorspaces to give a direct formula for computing sequences that satisfy a particular recurrence relation."
   ]
  },
  {
   "cell_type": "markdown",
   "metadata": {},
   "source": [
    "-----\n",
    "In the next  questions we will try to find a basis for the sequences that satisfy the recurrence relation given by $a_n = 2a_{n-1} + a_{n-2} -2a_{n-3}.$\n",
    "\n",
    "This rule can be encoded using the matrix $$A = \\begin{bmatrix} 2 & 1 & -2 \\\\ 1 & 0 & 0 \\\\ 0 & 1 & 0 \\end{bmatrix}$$"
   ]
  },
  {
   "cell_type": "markdown",
   "metadata": {},
   "source": [
    "&#9989;  **<font color=red>QUESTION 3:</font>** (5pts) Find the eigenvalues and eigenvectors of the matrix $A.$  Save the eigenvalues as ``lambda1``, ``lambda2``, and ``lambda3`` in increasing order so $\\lambda_1 < \\lambda_2 < \\lambda_3$. Save the eigenvector associated to the largest eigenvalue as ``e_vect``."
   ]
  },
  {
   "cell_type": "code",
   "execution_count": null,
   "metadata": {},
   "outputs": [],
   "source": [
    "## put work here\n",
    "\n",
    "\n",
    "# lambda1 =\n",
    "# lambda2 = \n",
    "# lambda3 =\n",
    "# e_vect ="
   ]
  },
  {
   "cell_type": "code",
   "execution_count": null,
   "metadata": {
    "deletable": false,
    "editable": false,
    "nbgrader": {
     "cell_type": "code",
     "checksum": "46ba33cb2f6575a33769caa9e393a5a3",
     "grade": true,
     "grade_id": "cell-1005152e9a962872",
     "locked": true,
     "points": 5,
     "schema_version": 3,
     "solution": false,
     "task": false
    }
   },
   "outputs": [],
   "source": [
    "from answercheck import checkanswer\n",
    "checkanswer.detailedwarnings = False \n",
    "checkanswer.vector([lambda1,lambda2,lambda3],\"5b45740e77f757e93909c339151989c9\");"
   ]
  },
  {
   "cell_type": "code",
   "execution_count": null,
   "metadata": {},
   "outputs": [],
   "source": [
    "from answercheck import checkanswer\n",
    "checkanswer.detailedwarnings = False\n",
    "checkanswer.eq_vector(e_vect,\"443e6b36745607a9900c90882d5eb805\");"
   ]
  },
  {
   "cell_type": "markdown",
   "metadata": {},
   "source": [
    "Now notice that for any eigenvalue $\\lambda$ of $A$ with associated eigenvector $v$, we have that $$ v = c \\begin{bmatrix} \\lambda^2 \\\\ \\lambda \\\\ 1 \\end{bmatrix}.$$\n",
    "That is to say if we rescale our vector ``e_vect`` by a factor of ``1/e_vect[-1]`` we get the vector $[\\lambda_3^2,\\lambda_3,1]^T$. This is important for the next question!"
   ]
  },
  {
   "cell_type": "code",
   "execution_count": null,
   "metadata": {},
   "outputs": [],
   "source": [
    "w = e_vect/e_vect[-1]\n",
    "sym.Matrix(w)"
   ]
  },
  {
   "cell_type": "markdown",
   "metadata": {},
   "source": [
    "So far we have only looked at the matrix $A$ encoding the recurrence rule $a_n = 2a_{n-1} + a_{n-2} -2a_{n-3}.$ In order to find a sequence we need to specify our 3 initial values $a_0, a_1,$ and $a_2.$ \n",
    "\n",
    "Then like before we can compute $a_3$ as the first entry in the vector $v_3$ by the matrix multiplication $Av_2 = v_3$, where $v_n = [a_n,a_{n-1},a_{n-2}]^T.$"
   ]
  },
  {
   "cell_type": "markdown",
   "metadata": {},
   "source": [
    "&#9989;  **<font color=red>QUESTION 4:</font>** (5pts) Let $\\lambda$ be an eigenvalue for the matrix $A$. Use the terms \"eigenvalue\" and \"eigenvector\" to explain why taking $a_2 = \\lambda^2,\\, a_1 = \\lambda, \\,a_0 = 1 $ yields $a_3 = \\lambda^3$."
   ]
  },
  {
   "cell_type": "markdown",
   "metadata": {
    "deletable": false,
    "nbgrader": {
     "cell_type": "markdown",
     "checksum": "de3c477bd37403d6e01662d8cd6b389d",
     "grade": true,
     "grade_id": "cell-a9d7905ba5c804a3",
     "locked": false,
     "points": 5,
     "schema_version": 3,
     "solution": true,
     "task": false
    }
   },
   "source": [
    "YOUR ANSWER HERE"
   ]
  },
  {
   "cell_type": "markdown",
   "metadata": {},
   "source": [
    "-----\n",
    "Following the explanation that is the answer to the previous question it is easy to show that $a_n = \\lambda^n$ for all $n \\geq 0$! \n",
    "\n",
    "A fact that is harder to show, but still true, is when the eigenvalues are all distinct (like in our case) these sequences form a vector space basis for all solutions to the recurrence relation $a_n = 2a_{n-1} + a_{n-2} -2a_{n-3}.$\n",
    "\n",
    "That is to say that all solutions to our recurrence relation are linear combinations of the three sequences, $(\\lambda_1^n)_{n=0}^\\infty, (\\lambda_2^n)_{n=0}^\\infty, (\\lambda_3^n)_{n=0}^\\infty.$ Therefore for any sequence $(a_n)_{n=0}^\\infty$ that satisfies the recurrence relation there exists constants $c_1,c_2,$ and $c_3$ such that\n",
    "\n",
    "$$ a_n = c_1 \\lambda_1 ^n + c_2 \\lambda_2^n + c_3 \\lambda_3^n,$$ for all $n \\geq 0!$\n",
    "\n",
    "This means that if we are given inital values of $a_0,a_1,$ and $a_2.$ The values of $c_1,c_2,c_3$ are just the coordinates for the vector $[a_2,a_1,a_0]^T$ in the basis given by the vectors $\\{[\\lambda_1^2,\\lambda_1,1]^T,[\\lambda_2^2,\\lambda_2,1]^T,[\\lambda_3^2,\\lambda_3,1]^T\\}$.\n",
    "\n"
   ]
  },
  {
   "cell_type": "markdown",
   "metadata": {},
   "source": [
    "---\n",
    "In the next question we will find the values for the coefficients when $a_2 = 4, a_1 = 2, a_0 = 2.$"
   ]
  },
  {
   "cell_type": "markdown",
   "metadata": {},
   "source": [
    "Let $\\lambda_1,\\lambda_2, \\lambda_3$ be the eigenvalues for $A$ given in increasing order. You found these values in Question 2.\n",
    "\n",
    "&#9989;  **<font color=red>QUESTION 5:</font>** (5pts) Express the vector $v_2 = \\begin{bmatrix} 4 \\\\ 2 \\\\ 2 \\end{bmatrix}$ in terms of the basis $\\{w_1,w_2,w_3\\}$, where $w_i = [\\lambda_i^2,\\lambda_i,1]^T$. Save your new vector as ``c``."
   ]
  },
  {
   "cell_type": "code",
   "execution_count": null,
   "metadata": {},
   "outputs": [],
   "source": [
    "##Show your work here\n",
    "w1 = np.matrix([lambda1**2,lambda1,1]).T\n",
    "w2 = np.matrix([lambda2**2,lambda2,1]).T\n",
    "w3 = np.matrix([lambda3**2,lambda3,1]).T\n",
    "v2 = np.matrix(\"4;2;2\")\n",
    "\n",
    "#c = "
   ]
  },
  {
   "cell_type": "code",
   "execution_count": null,
   "metadata": {
    "deletable": false,
    "editable": false,
    "nbgrader": {
     "cell_type": "code",
     "checksum": "8c5616a42fcb5a6fce43a78a7eb6d4e3",
     "grade": true,
     "grade_id": "cell-7c436107ed7d70a3",
     "locked": true,
     "points": 5,
     "schema_version": 3,
     "solution": false,
     "task": false
    }
   },
   "outputs": [],
   "source": [
    "from answercheck import checkanswer\n",
    "\n",
    "checkanswer.vector(c,\"9afaa124239d033a645d277f7c8ad41a\");"
   ]
  },
  {
   "cell_type": "markdown",
   "metadata": {},
   "source": [
    "Now using the formula we see that it is easy to compute arbitray elements of the sequence. "
   ]
  },
  {
   "cell_type": "code",
   "execution_count": null,
   "metadata": {},
   "outputs": [],
   "source": [
    "##Either code will directly compute the 10th value of sequence.\n",
    "\n",
    "#a10 = c[0]*lambda1**10+c[1]*lambda2**10+c[2]*lambda3**10\n",
    "a10 = np.dot( np.power([lambda1,lambda2,lambda3],10) ,c)\n",
    "a10\n"
   ]
  },
  {
   "cell_type": "markdown",
   "metadata": {},
   "source": [
    "\n",
    "\n",
    "\n",
    "---\n",
    "<a name=Motivating-Problem-Rotational-Dynamics></a>\n",
    "# 3. Motivating Problem   Rotational Dynamics\n",
    "\n",
    "\n",
    "\n",
    "<img alt=\"Rotational Dynamics\" src=\"https://lh4.googleusercontent.com/x6Rh6yZQyzfOrMJI3l2ku5mssupw58hHBr6gfBGu8nIcxRYRQjiLE9ERDs6xpxr2QS5ZxIRg-c1ZTTFRwYcXFV6DTmdU--mwJSqT5Jicp3x4D0T9EYcHZCtRYxY9=w240\" width=50%>\n"
   ]
  },
  {
   "cell_type": "markdown",
   "metadata": {},
   "source": [
    "The machinery of developing eigenvectors and eigenvalues was originally done to explain rotational dynamics.  You might be familiar with some of the equations for rotation in the plane such as\n"
   ]
  },
  {
   "cell_type": "markdown",
   "metadata": {},
   "source": [
    "$$L=I \\omega$$"
   ]
  },
  {
   "cell_type": "markdown",
   "metadata": {},
   "source": [
    "where L is the angular momentum, I is the moment of inertia, and $\\omega$ is the angular velocity.  It turns out the same equation holds in 3-dimensional rotation, and this becomes a matrix equation.  $I$ will now be given as a 3x3 matrix, and $\\omega$ and $L$ represent vectors.  The principal axes of rotation are those directions where $L$ is in the same direction as $\\omega$, where $$I \\omega = L = \\lambda \\omega,$$ so finding the principal axes is an eigenvalue problem.  The values of $\\lambda$ represent the moment of inertia about the corresponding axis."
   ]
  },
  {
   "cell_type": "markdown",
   "metadata": {},
   "source": [
    "Take the moment of inertia matrix $I$ for a 3D ridged body given by \n",
    "$$I=\\begin{bmatrix}\n",
    "    7 & 4 & 5 \\\\ 4 & 10 & 2 \\\\ 5 & 2 & 8\n",
    "\\end{bmatrix}$$"
   ]
  },
  {
   "cell_type": "code",
   "execution_count": null,
   "metadata": {},
   "outputs": [],
   "source": [
    "%matplotlib inline \n",
    "import matplotlib.pylab as plt\n",
    "import numpy as np\n",
    "import sympy as sym\n",
    "sym.init_printing()"
   ]
  },
  {
   "cell_type": "markdown",
   "metadata": {},
   "source": [
    "&#9989;  **<font color=red>QUESTION 1:</font>** (2 pts) Define a Numpy matrix $A$ to be the moment of inertia matrix above (We don't want to call it $I$ since that is usually reserved for the identity matrix)."
   ]
  },
  {
   "cell_type": "code",
   "execution_count": null,
   "metadata": {},
   "outputs": [],
   "source": [
    "# Put your answer to the above question here"
   ]
  },
  {
   "cell_type": "code",
   "execution_count": null,
   "metadata": {
    "deletable": false,
    "editable": false,
    "nbgrader": {
     "cell_type": "code",
     "checksum": "2a4fb450f16cbde2efd41da505c447fb",
     "grade": true,
     "grade_id": "cell-9c1dd97446d69e31",
     "locked": true,
     "points": 1,
     "schema_version": 3,
     "solution": false,
     "task": false
    }
   },
   "outputs": [],
   "source": [
    "from answercheck import checkanswer\n",
    "checkanswer.matrix(A,\"1edd5b825b5c67ebdb15a8f0b276a927\");"
   ]
  },
  {
   "cell_type": "markdown",
   "metadata": {},
   "source": [
    "&#9989;  **<font color=red>QUESTION 2:</font>** (5 pts) Find the eigenvalues and eigenvectors of the moment of inertia matrix.\n",
    "\n",
    "Save the eigenvalues as ``lambda1``, ``lambda2``, and ``lambda3`` in increasing order so ``lambda1`` <``lambda2`` < ``lambda3``. "
   ]
  },
  {
   "cell_type": "code",
   "execution_count": null,
   "metadata": {},
   "outputs": [],
   "source": [
    "# Put your answer to the above question here"
   ]
  },
  {
   "cell_type": "code",
   "execution_count": null,
   "metadata": {
    "deletable": false,
    "editable": false,
    "nbgrader": {
     "cell_type": "code",
     "checksum": "4bbbc7f60378a3f30f7876df6fc3b47e",
     "grade": true,
     "grade_id": "cell-62c4066e88a1eea9",
     "locked": true,
     "points": 3,
     "schema_version": 3,
     "solution": false,
     "task": false
    }
   },
   "outputs": [],
   "source": [
    "from answercheck import checkanswer\n",
    "checkanswer.detailedwarnings = False\n",
    "checkanswer.vector([lambda1,lambda2,lambda2],'228139b44f7ef63d552eaf20458929bb')"
   ]
  },
  {
   "cell_type": "markdown",
   "metadata": {},
   "source": [
    "The **_major axis_** is the axis which corresponds to the eigenvector with the largest eigenvalue.  Save the major axis in a variable ```called m_axis```."
   ]
  },
  {
   "cell_type": "code",
   "execution_count": null,
   "metadata": {},
   "outputs": [],
   "source": [
    "# Put your answer to the above question here"
   ]
  },
  {
   "cell_type": "code",
   "execution_count": null,
   "metadata": {
    "deletable": false,
    "editable": false,
    "nbgrader": {
     "cell_type": "code",
     "checksum": "7cbad82aec83ea4db32562d9dc9a86f1",
     "grade": true,
     "grade_id": "cell-414a91a01cbc594c",
     "locked": true,
     "points": 2,
     "schema_version": 3,
     "solution": false,
     "task": false
    }
   },
   "outputs": [],
   "source": [
    "from answercheck import checkanswer\n",
    "checkanswer.detailedwarnings = False\n",
    "checkanswer.eq_vector(m_axis,'34e96454efdb65f22d06cda5d6d28781')"
   ]
  },
  {
   "cell_type": "markdown",
   "metadata": {},
   "source": [
    "&#9989;  **<font color=red>QUESTION 3:</font>** (2 pts)  Verify that the eigenvectors are linearly independent <b>by calculating the rank of an appropriate matrix</b>. "
   ]
  },
  {
   "cell_type": "code",
   "execution_count": null,
   "metadata": {
    "deletable": false,
    "nbgrader": {
     "cell_type": "code",
     "checksum": "630ad5035c64b348c288e4daffff23fa",
     "grade": true,
     "grade_id": "cell-5746af4e4177589e",
     "locked": false,
     "points": 2,
     "schema_version": 3,
     "solution": true,
     "task": false
    }
   },
   "outputs": [],
   "source": [
    "# YOUR CODE HERE\n",
    "raise NotImplementedError()"
   ]
  },
  {
   "cell_type": "markdown",
   "metadata": {},
   "source": [
    "&#9989;  **<font color=red>QUESTION 4:</font>** (2 pts) Next, verify the eigenvectors are linearly independent <b>by calculating a determinant</b>."
   ]
  },
  {
   "cell_type": "code",
   "execution_count": null,
   "metadata": {
    "deletable": false,
    "nbgrader": {
     "cell_type": "code",
     "checksum": "bd972b1c05f0f619fc787eb35bc26eb7",
     "grade": true,
     "grade_id": "cell-05f43781cebc062c",
     "locked": false,
     "points": 2,
     "schema_version": 3,
     "solution": true,
     "task": false
    }
   },
   "outputs": [],
   "source": [
    "# YOUR CODE HERE\n",
    "raise NotImplementedError()"
   ]
  },
  {
   "cell_type": "markdown",
   "metadata": {},
   "source": [
    "&#9989;  **<font color=red>QUESTION 5:</font>**(5 pts) Explain how the calculation of this determinant shows the vectors are linearly independent."
   ]
  },
  {
   "cell_type": "code",
   "execution_count": null,
   "metadata": {
    "deletable": false,
    "nbgrader": {
     "cell_type": "code",
     "checksum": "a1f1383462a4d370d25cccb9327a47ee",
     "grade": true,
     "grade_id": "cell-61295dc027157744",
     "locked": false,
     "points": 5,
     "schema_version": 3,
     "solution": true,
     "task": false
    }
   },
   "outputs": [],
   "source": [
    "# YOUR CODE HERE\n",
    "raise NotImplementedError()"
   ]
  },
  {
   "cell_type": "markdown",
   "metadata": {},
   "source": [
    "&#9989;  **<font color=red>QUESTION 6:</font>** (5 pts) Take the vector $b=[2,2,2]$.  Write this vector as a linear combination of the eigenvectors.  (For the answer, just write the coefficients as a vector)"
   ]
  },
  {
   "cell_type": "code",
   "execution_count": null,
   "metadata": {},
   "outputs": [],
   "source": [
    "#Put answer here."
   ]
  },
  {
   "cell_type": "code",
   "execution_count": null,
   "metadata": {
    "deletable": false,
    "editable": false,
    "nbgrader": {
     "cell_type": "code",
     "checksum": "dc7ada8279c4e4efaf44bb47ef6c1a9c",
     "grade": true,
     "grade_id": "cell-3da212e4c215005c",
     "locked": true,
     "points": 5,
     "schema_version": 3,
     "solution": false,
     "task": false
    }
   },
   "outputs": [],
   "source": [
    "from answercheck import checkanswer\n",
    "checkanswer.detailedwarnings = False\n",
    "checkanswer.eq_vector(x,\"59c224734374df4a3747c77e0976fbfb\");"
   ]
  },
  {
   "cell_type": "markdown",
   "metadata": {},
   "source": [
    "&#9989;  **<font color=red>QUESTION 7:</font>** (5 pts) Do the eigenvectors constitute a basis for $\\mathbb{R}^3$?  Why or why not?"
   ]
  },
  {
   "cell_type": "markdown",
   "metadata": {
    "deletable": false,
    "nbgrader": {
     "cell_type": "markdown",
     "checksum": "be7364eca078c137120947e377d306e8",
     "grade": true,
     "grade_id": "cell-a709ea950c966935",
     "locked": false,
     "points": 5,
     "schema_version": 3,
     "solution": true,
     "task": false
    }
   },
   "source": [
    "YOUR ANSWER HERE"
   ]
  },
  {
   "cell_type": "markdown",
   "metadata": {},
   "source": [
    "---\n",
    "<a name=Reverse-Transforms></a>\n",
    "# 4. Reverse Transforms\n",
    "\n",
    "<img alt=\"Reverse card from the Uno game\" src=\"https://creazilla-store.fra1.digitaloceanspaces.com/cliparts/75070/green-reverse-card-clipart-md.png\" width=20%>\n",
    "\n",
    "\n",
    "With the transformations we have worked on before, we were given a transformation, and we determined what was the end result of transformation for a given set of points.  We will look at the opposite problem, where we are given the end result, and we need to find out where the points came from.  This transformation will be given as the matrix inverse."
   ]
  },
  {
   "cell_type": "code",
   "execution_count": null,
   "metadata": {},
   "outputs": [],
   "source": [
    "%matplotlib inline \n",
    "import matplotlib.pylab as plt\n",
    "import numpy as np\n",
    "import sympy as sym\n",
    "sym.init_printing()"
   ]
  },
  {
   "cell_type": "markdown",
   "metadata": {},
   "source": [
    "## Part I\n",
    "\n",
    "\n",
    "For coordinates in 2 dimentions of the form $x = \\left[ \\begin{matrix}\n",
    "    x\\\\\n",
    "    y\\\\\n",
    "    1\n",
    " \\end{matrix}\n",
    "\\right]$,  translation of 3 units to the right and 5 units up can be given by the equation $Ax=b$ using the following ($ 3 \\times 3$) Matrix $A$:  "
   ]
  },
  {
   "cell_type": "code",
   "execution_count": null,
   "metadata": {},
   "outputs": [],
   "source": [
    "A = np.matrix([[1,0,3], [0,1,5],[0,0,1]])\n",
    "sym.Matrix(A)"
   ]
  },
  {
   "cell_type": "markdown",
   "metadata": {},
   "source": [
    "&#9989;  **<font color=red>QUESTION 1.a:</font>** (3pts) Describe in words the action of the inverse operation, that is, how given a point $b = \\left[ \\begin{matrix}\n",
    "    b_1\\\\\n",
    "    b_2\\\\\n",
    "    1\n",
    " \\end{matrix}\\right]$, how can you get back to x? "
   ]
  },
  {
   "cell_type": "markdown",
   "metadata": {
    "deletable": false,
    "nbgrader": {
     "cell_type": "markdown",
     "checksum": "ab286a878688e672ee43721030fad27d",
     "grade": true,
     "grade_id": "cell-924d6107d9b29e6c",
     "locked": false,
     "points": 3,
     "schema_version": 3,
     "solution": true,
     "task": false
    }
   },
   "source": [
    "YOUR ANSWER HERE"
   ]
  },
  {
   "cell_type": "markdown",
   "metadata": {},
   "source": [
    "&#9989;  **<font color=red>QUESTION 1.b:</font>** (3pts)  Write down the inverse matrix $A^{-1}$ as another translation matrix (Store this as a numpy matrix named ```A_inv```)"
   ]
  },
  {
   "cell_type": "code",
   "execution_count": null,
   "metadata": {},
   "outputs": [],
   "source": [
    "#Put your answer to the above quesiton here. "
   ]
  },
  {
   "cell_type": "code",
   "execution_count": null,
   "metadata": {
    "deletable": false,
    "editable": false,
    "nbgrader": {
     "cell_type": "code",
     "checksum": "ed372cfa4b88e20c3ad3b7b8d64c7121",
     "grade": true,
     "grade_id": "cell-f867793a2db2dc2d",
     "locked": true,
     "points": 3,
     "schema_version": 3,
     "solution": false,
     "task": false
    }
   },
   "outputs": [],
   "source": [
    "from answercheck import checkanswer\n",
    "checkanswer.matrix(A_inv,\"005427e8ac656450ae1ddb6a19a87b68\");"
   ]
  },
  {
   "cell_type": "markdown",
   "metadata": {},
   "source": [
    "&#9989;  **<font color=red>QUESTION 1.c:</font>** (2pt) Verify through matrix multiplication that $AA^{-1} = I$, the identity matrix."
   ]
  },
  {
   "cell_type": "code",
   "execution_count": null,
   "metadata": {
    "deletable": false,
    "nbgrader": {
     "cell_type": "code",
     "checksum": "1e21fb71ed16445c7fe52c0e3e221bdb",
     "grade": true,
     "grade_id": "cell-100da3d1eda5bfa6",
     "locked": false,
     "points": 2,
     "schema_version": 3,
     "solution": true,
     "task": false
    }
   },
   "outputs": [],
   "source": [
    "# YOUR CODE HERE\n",
    "raise NotImplementedError()"
   ]
  },
  {
   "cell_type": "markdown",
   "metadata": {},
   "source": [
    "## Part 2\n",
    "\n",
    "A matrix which rotates 2D points counterclockwise through an angle $\\theta$ is given by the following matrix:\n",
    "\n",
    "\n",
    "$$ \n",
    "\\left[ \\begin{matrix}\n",
    "    \\cos{\\theta} & -\\sin{\\theta} \\\\\n",
    "    \\sin{\\theta} & \\cos{\\theta} \n",
    " \\end{matrix}\n",
    "\\right] \n",
    "$$ \n",
    "\n",
    "\n"
   ]
  },
  {
   "cell_type": "markdown",
   "metadata": {},
   "source": [
    "&#9989;  **<font color=red>QUESTION 2.a:</font>** (3pts)\tLet $\\theta = 2\\pi/3$ radians (120 degrees).  Give the matrix (call it R) for rotating counterclockwise 120 degrees."
   ]
  },
  {
   "cell_type": "code",
   "execution_count": null,
   "metadata": {
    "deletable": false,
    "editable": false,
    "nbgrader": {
     "cell_type": "code",
     "checksum": "49a525e05332dd26a8786e2c09bb2bdd",
     "grade": true,
     "grade_id": "cell-f4b086c7aeb3896c",
     "locked": true,
     "points": 3,
     "schema_version": 3,
     "solution": false,
     "task": false
    }
   },
   "outputs": [],
   "source": [
    "from answercheck import checkanswer\n",
    "checkanswer.matrix(R,\"9c3f5e8dd4b77ea1d98ef98ba0c0b974\");"
   ]
  },
  {
   "cell_type": "markdown",
   "metadata": {},
   "source": [
    "&#9989;  **<font color=red>QUESTION 2.b:</font>**  (2pts) Perform the matrix multiplication $R \\times R \\times R$. Save your answer in a variable R3.  "
   ]
  },
  {
   "cell_type": "code",
   "execution_count": null,
   "metadata": {
    "deletable": false,
    "nbgrader": {
     "cell_type": "code",
     "checksum": "48b93c644f08c5d2dba40b850a68efe8",
     "grade": true,
     "grade_id": "cell-96b738d12580cf3b",
     "locked": false,
     "points": 2,
     "schema_version": 3,
     "solution": true,
     "task": false
    }
   },
   "outputs": [],
   "source": [
    "# YOUR CODE HERE\n",
    "raise NotImplementedError()"
   ]
  },
  {
   "cell_type": "code",
   "execution_count": null,
   "metadata": {},
   "outputs": [],
   "source": [
    "R*R*R"
   ]
  },
  {
   "cell_type": "markdown",
   "metadata": {},
   "source": [
    "&#9989;  **<font color=red>QUESTION 2.c:</font>** (3pts) In. your own words, explain the answer from question 2.b. "
   ]
  },
  {
   "cell_type": "markdown",
   "metadata": {
    "deletable": false,
    "nbgrader": {
     "cell_type": "markdown",
     "checksum": "b92a005dffb46b7d29bc5d1ea88c5b16",
     "grade": true,
     "grade_id": "cell-4b20538588302ffa",
     "locked": false,
     "points": 3,
     "schema_version": 3,
     "solution": true,
     "task": false
    }
   },
   "source": [
    "YOUR ANSWER HERE"
   ]
  },
  {
   "cell_type": "markdown",
   "metadata": {},
   "source": [
    "# Part III\n",
    "\n",
    "One of the elementary matrix operations we have used is the switching of rows.  If we switch the rows corresponding to x and y, geometrically, this corresponds to a reflection about the axis y = x.\n",
    "\n",
    "\n",
    "&#9989;  **<font color=red>QUESTION 3.a:</font>**  (3pts) Write down the matrix which switches the first two rows of a 3 x 3 matrix (call it S)."
   ]
  },
  {
   "cell_type": "code",
   "execution_count": null,
   "metadata": {},
   "outputs": [],
   "source": [
    "#Put your answer to the above question here."
   ]
  },
  {
   "cell_type": "code",
   "execution_count": null,
   "metadata": {
    "deletable": false,
    "editable": false,
    "nbgrader": {
     "cell_type": "code",
     "checksum": "0c570590f6c5a87fbec7a391a7f96a99",
     "grade": true,
     "grade_id": "cell-f4c809981abca648",
     "locked": true,
     "points": 3,
     "schema_version": 3,
     "solution": false,
     "task": false
    }
   },
   "outputs": [],
   "source": [
    "from answercheck import checkanswer\n",
    "checkanswer.matrix(S,\"769c14b030a58dd867fa2aece33520ef\");"
   ]
  },
  {
   "cell_type": "markdown",
   "metadata": {},
   "source": [
    "&#9989;  **<font color=red>QUESTION 3.b:</font>**  (3pts)\tWhat is the inverse of S?"
   ]
  },
  {
   "cell_type": "markdown",
   "metadata": {
    "deletable": false,
    "nbgrader": {
     "cell_type": "markdown",
     "checksum": "8769a0bfbab5d8de36ab395ee84d3700",
     "grade": true,
     "grade_id": "cell-5f1f51f9271b51ff",
     "locked": false,
     "points": 3,
     "schema_version": 3,
     "solution": true,
     "task": false
    }
   },
   "source": [
    "YOUR ANSWER HERE"
   ]
  },
  {
   "cell_type": "markdown",
   "metadata": {},
   "source": [
    "&#9989;  **<font color=red>QUESTION 3.c:</font>**  (3pts)\tExplain why the inverse of S is what it is. "
   ]
  },
  {
   "cell_type": "markdown",
   "metadata": {
    "deletable": false,
    "nbgrader": {
     "cell_type": "markdown",
     "checksum": "a1fe11c38f5ebd79a719d5455dbc7202",
     "grade": true,
     "grade_id": "cell-bea89f2c120c44e7",
     "locked": false,
     "points": 3,
     "schema_version": 3,
     "solution": true,
     "task": false
    }
   },
   "source": [
    "YOUR ANSWER HERE"
   ]
  },
  {
   "cell_type": "markdown",
   "metadata": {},
   "source": [
    "---------\n",
    "### Congratulations, we're done!\n",
    "\n",
    "Turn in your assignment using D2L no later than **_11:59pm on the day of class_**. See links at the end of this document for access to the class timeline for your section."
   ]
  },
  {
   "cell_type": "markdown",
   "metadata": {},
   "source": [
    "Written by Drs. Matthew Mills and Rongrong Wang,  Michigan State University\n",
    "<a rel=\"license\" href=\"http://creativecommons.org/licenses/by-nc/4.0/\"><img alt=\"Creative Commons License\" style=\"border-width:0\" src=\"https://i.creativecommons.org/l/by-nc/4.0/88x31.png\" /></a><br />This work is licensed under a <a rel=\"license\" href=\"http://creativecommons.org/licenses/by-nc/4.0/\">Creative Commons Attribution-NonCommercial 4.0 International License</a>."
   ]
  }
 ],
 "metadata": {
  "kernelspec": {
   "display_name": "Python 3",
   "language": "python",
   "name": "python3"
  },
  "language_info": {
   "codemirror_mode": {
    "name": "ipython",
    "version": 3
   },
   "file_extension": ".py",
   "mimetype": "text/x-python",
   "name": "python",
   "nbconvert_exporter": "python",
   "pygments_lexer": "ipython3",
   "version": "3.7.3"
  }
 },
 "nbformat": 4,
 "nbformat_minor": 1
}
