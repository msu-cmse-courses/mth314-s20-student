{
 "cells": [
  {
   "cell_type": "markdown",
   "metadata": {},
   "source": [
    "----"
   ]
  },
  {
   "cell_type": "markdown",
   "metadata": {},
   "source": [
    "In order to successfully complete this assignment, you must follow all the instructions in this notebook and upload your edited ipynb file to [D2L](http://d2l.msu.edu) with your answers on or before **_11:59pm on Friday April 9th_**.\n",
    "\n",
    "**BIG HINT:** Read the entire homework before starting.  "
   ]
  },
  {
   "cell_type": "markdown",
   "metadata": {},
   "source": [
    "# Homework 5: Modeling Data as polynomial Functions\n",
    "\n",
    "In this homework, we will look at fitting some data to a polynomial function.   \n",
    "\n",
    "<img src=\"\" width = 75%>\n",
    "\n",
    "image from :"
   ]
  },
  {
   "cell_type": "markdown",
   "metadata": {},
   "source": [
    "### Outline for Homework 1\n",
    "\n",
    "1. [Polynomial Review](#Polynomials)\n",
    "1. [Exact fit](#Exact_Fit)\n",
    "2. [Piecewise Continuous Functions](#Piecewise_Continuous_Functions)\n",
    "3. [Least Squares Fit](#Least_Squares_Fit)"
   ]
  },
  {
   "cell_type": "markdown",
   "metadata": {},
   "source": [
    "---\n",
    "<a name=\"Polynomials\"></a>\n",
    "# 1. Polynomial Review\n",
    "Hopefully everyone is familiar with polynomials as we use them quite a bit in this course.  Here is a quick review.  I highly recommend searching for a video or tutorial if these definitions do not make sense:\n",
    "\n",
    "A polynomial is a function that has:\n",
    "- Constants Real numbers such as 6, −9, or 0.3\n",
    "- Variables such as x and y \n",
    "- Exponents on the variables such as 2 in $y^2$, but only positive integers (ex. 0, 1, 2, 3, ...) are allowed\n",
    "\n",
    "Because of the strict definition, polynomials have special properties that are easy to work with. For example we know that:\n",
    "- If you add polynomials you get a polynomial\n",
    "- If you multiply polynomials you get a polynomial\n",
    "- Polynomials have smooth and continuous lines.\n",
    "\n",
    "A common subset of polynomial we will use in this assignment can be written as follows:\n",
    "\n",
    "$$y = C_0 + C_1x_1 + C_2x^2 + C_3x^3 \\dots C_nx^n$$\n",
    "\n",
    "Polynomials are often described by their \"Order\" which is the largest exponent with a non-zero constant in the polynomial.  The following are first, second and third order polynomials respectively:\n",
    "\n",
    "$$y = C_0 + C_1x $$\n",
    "\n",
    "$$y = C_0 + C_1x+ C_2x^2$$\n",
    "\n",
    "$$y = C_0 + C_1x+ C_2x^2 + C_3x^3 $$\n",
    "\n",
    "\n",
    "**_NOTE_**:  Anything with a polynomial variable above order 1 is non-linear. However, that doesn't mean we can use linear algebra to work with polynomials. "
   ]
  },
  {
   "cell_type": "markdown",
   "metadata": {},
   "source": [
    "---\n",
    "<a name=\"Exact_Fit\"></a>\n",
    "# 2. Exact Fit\n",
    "\n",
    "Consider a really simple example of data with two points (1,3) and (4,6).  Hopefully you can see that there is exactly one first order polynomial (line: $y = C_0 + C_1x_1$) to the data but there are infinite numbers of second order polynomials (Parabolas: $y = C_0 + C_1x_1+ C_2x_2^2$).  Often in science the best model is the simplest one that fits the data.  For example:\n"
   ]
  },
  {
   "cell_type": "code",
   "execution_count": null,
   "metadata": {},
   "outputs": [],
   "source": [
    "%matplotlib inline\n",
    "import matplotlib.pylab as plt\n",
    "import numpy as np\n",
    "import sympy as sym\n",
    "sym.init_printing(use_unicode=True)\n",
    "\n",
    "\n",
    "data = np.array([[1,3], [4,6]])"
   ]
  },
  {
   "cell_type": "code",
   "execution_count": null,
   "metadata": {},
   "outputs": [],
   "source": [
    "plt.scatter(data[:,0], data[:,1]);\n",
    "plt.plot(data[:,0], data[:,1], c='red');"
   ]
  },
  {
   "cell_type": "markdown",
   "metadata": {},
   "source": [
    "Notice plugging our knowns (a.k.a. $x$ and $y$ values) into the first order equation $y = C_0+C_1x$ results in the following two equations with two unknowns ($C_0$ and $C_1$):\n",
    "\n",
    "$$3 = C_0 + C_1$$\n",
    "$$6 = C_0 + C_14$$\n",
    "\n",
    "The augmented form of these equations are as follows:\n",
    "\n",
    "\n",
    "$$\n",
    "\\left[\n",
    "\\begin{matrix}\n",
    "    1 & 1  \\\\\n",
    "    1 & 4 \n",
    " \\end{matrix}\n",
    " \\, \\middle\\vert \\,\n",
    "\\begin{matrix}\n",
    "3 \\\\ 6 \n",
    "\\end{matrix}\n",
    "\\right]\n",
    "$$\n",
    "\n",
    "The standard $Ax=b$ matrix is also equivalent:\n",
    "\n",
    "\n",
    "$$\n",
    "\\left[\n",
    "\\begin{matrix}\n",
    "    1 & 1  \\\\\n",
    "    1 & 4 \n",
    " \\end{matrix}\n",
    "\\right] \n",
    "\\left[\n",
    "\\begin{matrix}\n",
    "C_0 \\\\ C_1 \n",
    "\\end{matrix}\n",
    "\\right] \n",
    "=\n",
    "\\left[\n",
    "\\begin{matrix}\n",
    "3 \\\\ 6\n",
    "\\end{matrix}\n",
    "\\right]$$\n",
    "\n"
   ]
  },
  {
   "cell_type": "markdown",
   "metadata": {},
   "source": [
    "Solving the above equations for $C_0$ and $C_1$ we can see that $C_0 = 2$ and $C_1 = 1$ (i.e. the intercept and slop of the line though the two points."
   ]
  },
  {
   "cell_type": "markdown",
   "metadata": {},
   "source": [
    "Okay, now let's get a little more complex. Consider the following three points (1,3), (4,6), and (-2,8).  "
   ]
  },
  {
   "cell_type": "code",
   "execution_count": null,
   "metadata": {},
   "outputs": [],
   "source": [
    "data = np.array([[1,3], [4,6], [-2,8]])\n",
    "plt.scatter(data[:,0], data[:,1]);"
   ]
  },
  {
   "cell_type": "markdown",
   "metadata": {},
   "source": [
    "Clearly there is no first order polynomial that will fit perfectly though these points. However, there exists exactly one second order polynomial that should fit. "
   ]
  },
  {
   "cell_type": "markdown",
   "metadata": {},
   "source": [
    "**<font color=red>Question 1:</font>**  (10 points) Assume that points (1,3), (4,6), and (-2,8) line on the polynomial \n",
    "$y = C_0 + C_1x+ C_2x^2$. Generate a system of linear equations as an augmented matrix $A$. "
   ]
  },
  {
   "cell_type": "code",
   "execution_count": null,
   "metadata": {},
   "outputs": [],
   "source": [
    "##Construct your augmented matrix A here."
   ]
  },
  {
   "cell_type": "code",
   "execution_count": null,
   "metadata": {
    "deletable": false,
    "editable": false,
    "nbgrader": {
     "cell_type": "code",
     "checksum": "d4b89ee1bd8a7e8739960a64ebf90cc0",
     "grade": true,
     "grade_id": "cell-20dd9a72ef952e09",
     "locked": true,
     "points": 10,
     "schema_version": 3,
     "solution": false,
     "task": false
    }
   },
   "outputs": [],
   "source": [
    "from answercheck import checkanswer\n",
    "checkanswer.detailedwarnings=False\n",
    "checkanswer.eq_matrix(A,\"cab10f7e352aeb42699cfc0c2f5d9b82\");"
   ]
  },
  {
   "cell_type": "markdown",
   "metadata": {},
   "source": [
    "**<font color=red>Question 2:</font>**   (5 points) Solve for $C_O, C_1$ and $C_2$ using $A$."
   ]
  },
  {
   "cell_type": "code",
   "execution_count": null,
   "metadata": {},
   "outputs": [],
   "source": [
    "# Put your answer to the above question here."
   ]
  },
  {
   "cell_type": "code",
   "execution_count": null,
   "metadata": {
    "deletable": false,
    "editable": false,
    "nbgrader": {
     "cell_type": "code",
     "checksum": "695165dcdcf1d3f4de920d183521f008",
     "grade": true,
     "grade_id": "cell-e8a9f7a4b650020a",
     "locked": true,
     "points": 5,
     "schema_version": 3,
     "solution": false,
     "task": false
    }
   },
   "outputs": [],
   "source": [
    "from answercheck import checkanswer\n",
    "checkanswer.detailedwarnings=False\n",
    "checkanswer.matrix([C0, C1, C2],\"2b87a1002755b58f481f39d5dcc0f206\");"
   ]
  },
  {
   "cell_type": "markdown",
   "metadata": {},
   "source": [
    "**<font color=red>Question 3:</font>** (5 points) Plot the resulting polynomial from question 3 in the range $x=[-3,5]$ and include the original points which should appear on the polynomial. "
   ]
  },
  {
   "cell_type": "code",
   "execution_count": null,
   "metadata": {
    "deletable": false,
    "nbgrader": {
     "cell_type": "code",
     "checksum": "dd120d1ce50734b24c17130b6fc49918",
     "grade": true,
     "grade_id": "cell-1c60f71a6ae7c8b5",
     "locked": false,
     "points": 5,
     "schema_version": 3,
     "solution": true,
     "task": false
    }
   },
   "outputs": [],
   "source": [
    "# YOUR CODE HERE\n",
    "raise NotImplementedError()"
   ]
  },
  {
   "cell_type": "markdown",
   "metadata": {},
   "source": [
    "The following program is intended to take four points as inputs ($p1, p2, p3, p4 \\in R^2$) and calculates the coefficients $C_0, C_1,C_2$ and $C_3$ so that the graph of $f(x) = C_0 + C_1x + C_2x^2 + C_3x^3$ passes smoothly through the points. "
   ]
  },
  {
   "cell_type": "code",
   "execution_count": null,
   "metadata": {},
   "outputs": [],
   "source": [
    "def fitPoly3(p1,p2,p3,p4):\n",
    "    \n",
    "    A = np.matrix([[1, p1[0], p1[0]**2, p1[0]**3],\n",
    "                   [1, p2[0], p2[0]**2, p2[0]**3],\n",
    "                   [1, p3[0], p3[0]**2, p3[0]**3],\n",
    "                   [1, p4[0], p4[0]**2, p4[0]**3]])\n",
    "    print(A)\n",
    "    b = np.matrix([p1[1],p2[1],p3[1],p4[1]]).T\n",
    "\n",
    "    print(b)\n",
    "    C = np.linalg.solve(A, b)\n",
    "    C0 = C[0,0]\n",
    "    C1 = C[1,0]\n",
    "    C2 = C[2,0]\n",
    "    C3 = C[3,0]\n",
    "\n",
    "    #Try putting your figure generation code here\n",
    "    \n",
    "    return (C0,C1,C2,C3)"
   ]
  },
  {
   "cell_type": "markdown",
   "metadata": {},
   "source": [
    " **<font color=red> Question 4:</font>** (5 points) Test the above function with the following points (1,2), (-1,6), (2,3), (3,2) as inputs and print the values for $C_0, C_1,C_2$ and $C_3$."
   ]
  },
  {
   "cell_type": "code",
   "execution_count": null,
   "metadata": {
    "deletable": false,
    "nbgrader": {
     "cell_type": "code",
     "checksum": "fa4ad18975f9d7e1c0944da0daa8f58f",
     "grade": true,
     "grade_id": "cell-208d594d5d5e05ee",
     "locked": false,
     "points": 5,
     "schema_version": 3,
     "solution": true,
     "task": false
    }
   },
   "outputs": [],
   "source": [
    "# YOUR CODE HERE\n",
    "raise NotImplementedError()"
   ]
  },
  {
   "cell_type": "markdown",
   "metadata": {},
   "source": [
    " **<font color=red>Question 5:</font>** (5 points) Plot the resulting polynomial from question 4 in the range $x=[-2,4]$ and include the original points which should appear on the polynomial. "
   ]
  },
  {
   "cell_type": "code",
   "execution_count": null,
   "metadata": {
    "deletable": false,
    "nbgrader": {
     "cell_type": "code",
     "checksum": "dc96236b651ddae811ce6f7f8669ff7e",
     "grade": true,
     "grade_id": "cell-f89e5a29e047c918",
     "locked": false,
     "points": 5,
     "schema_version": 3,
     "solution": true,
     "task": false
    }
   },
   "outputs": [],
   "source": [
    "# YOUR CODE HERE\n",
    "raise NotImplementedError()"
   ]
  },
  {
   "cell_type": "markdown",
   "metadata": {},
   "source": [
    "As you get more points the method above starts to fall apart.  Consider the following set of points.  "
   ]
  },
  {
   "cell_type": "code",
   "execution_count": null,
   "metadata": {},
   "outputs": [],
   "source": [
    "data = np.array([[-2, 0], [-0.88,2], [1,3.5], [2.1, 5], [4,6]])\n",
    "plt.scatter(data[:,0], data[:,1], c='red');"
   ]
  },
  {
   "cell_type": "markdown",
   "metadata": {},
   "source": [
    "In order to use the exact fit method we would need to fit a 4th order polynomial which would result in something like the following:"
   ]
  },
  {
   "cell_type": "code",
   "execution_count": null,
   "metadata": {},
   "outputs": [],
   "source": [
    "x1 = np.linspace(-2, 6, 100)\n",
    "y1 = -0.0371*x1**4+0.1347*x1**3 + 0.0969*x1**2 + 0.6736*x1 + 2.6319\n",
    "\n",
    "plt.scatter(data[:,0], data[:,1]);\n",
    "plt.plot(x1,y1)\n"
   ]
  },
  {
   "cell_type": "markdown",
   "metadata": {},
   "source": [
    "**<font color=red>Question 6</font>** (5 points) In your own words, explain why this type of \"exact fit\" answer may not provide a function that accurately models the provided data?"
   ]
  },
  {
   "cell_type": "markdown",
   "metadata": {
    "deletable": false,
    "nbgrader": {
     "cell_type": "markdown",
     "checksum": "ba35594da46d810f2644855173fcecfe",
     "grade": true,
     "grade_id": "cell-f4bc2e895c7886a1",
     "locked": false,
     "points": 5,
     "schema_version": 3,
     "solution": true,
     "task": false
    }
   },
   "source": [
    "YOUR ANSWER HERE"
   ]
  },
  {
   "cell_type": "markdown",
   "metadata": {},
   "source": [
    "----\n",
    "<a name=\"Piecewise_Continuous_Functions\"></a>\n",
    "\n",
    "# 4. Piecewise Continuous Functions\n",
    "\n",
    "One method that can be used to better fit the data is a piecewise continuous function (aka spline fitting).  The idea here is to fit  polynomial curves between the points in the data such that each polynomial \"Flows\" into the next polynomial. For example, consider the following set of points:"
   ]
  },
  {
   "cell_type": "code",
   "execution_count": null,
   "metadata": {},
   "outputs": [],
   "source": [
    "%matplotlib inline\n",
    "import matplotlib.pylab as plt\n",
    "import numpy as np\n",
    "import sympy as sym\n",
    "sym.init_printing(use_unicode=True)\n",
    "\n",
    "data = np.array([[-2, 0], [-0.88,2], [1,3.5], [2.1, 5], [4,6]])\n",
    "x = data[:,0]\n",
    "y = data[:,1]\n",
    "\n",
    "plt.scatter(x, y, c='red');"
   ]
  },
  {
   "cell_type": "markdown",
   "metadata": {},
   "source": [
    "With piecewise function we would fit one function between the first two points, a second function between the second and third point, etc.  The total number of curves would be $n-1$ where $n$ is the number of points.  In the example above with 5 points this would be 4 polynomial equations. If we choose to use third order polynomials each equation will have 4 unknowns. This means we have a total of 16 unknowns for which we need to solve.\n",
    "\n",
    "To set up these system of equations for third order polynomials we first need to assume that for each curve the two end points ($i$ and $i+1$)) are on the curve. For example, for the first curve between points zero and one would have the following two equations:\n",
    "\n",
    "$$C_0+C_1x_0+C_2x_0^2+C_3x_0^3=y$$\n",
    "$$C_0+C_1x_1+C_2x_1^2+C_3x_1^3=y$$"
   ]
  },
  {
   "cell_type": "markdown",
   "metadata": {},
   "source": [
    "Similarly, for the curve between points 1 and 2 we have a second polynomial with a new set of constants ($C_4, C_5, C_6$ and $C_7$) and we would have the following two equations\n",
    "\n",
    "$$C_4+C_5x_1+C_6x_1^2+C_7x_1^3=y$$\n",
    "$$C_4+C_5x_2+C_6x_2^2+C_7x_2^3=y$$"
   ]
  },
  {
   "cell_type": "markdown",
   "metadata": {},
   "source": [
    "Using this approch we can only formulate $(n-1)$ equations which would typically lead to an underdetermined system of equations. In order to create more equations in our unknowns, we can also assume that neighboring curves will have the same slope (first derivative) and curvature (second derivative) at the shared point. These constraints help us have each polynomial \"flow\" into the next. For example the equating the slope and curvature between the first and second polynomials would result in the following equations:\n",
    "\n",
    "$$C_1+2C_2x_1+3C_3x_1^2=C_5+2C_6x_1+3C_7x_1^2$$\n",
    "$$2C_2+6C_3x_1=2C_6+6C_7x_1$$\n"
   ]
  },
  {
   "cell_type": "markdown",
   "metadata": {},
   "source": [
    "Using the above we should be able to construct 14 equations for the five provided points; 8 equations to ensure each point is on the curves, 3 equations for equating the slopes of neighboring curves and 3 equations for equating the curvatures for neighboring curves.  In total this means we have 16 unknowns and 14 equations.  Lucky for us there are a few easy assumptions we can make to add two additional equations and constrain the system enough to solve for a unique solution of the polynomial constants.  \n",
    "\n",
    "To make things easy lets just set the second derivative (curvature) at each end point of the data to zero. In other words:\n",
    "\n",
    "\n",
    "$$2C_2+6C_3x_1=0$$\n",
    "$$2C_{18}+6C_{19}x_4=0$$"
   ]
  },
  {
   "cell_type": "markdown",
   "metadata": {},
   "source": [
    "For more information about this approach please and alternative choices for constraints see the following:\n",
    "- [Description](http://www.dam.brown.edu/people/alcyew/handouts/splines.pdf)\n",
    "- [Slides](http://berlin.csie.ntnu.edu.tw/Courses/Numerical%20Methods/Lectures2012S/NM2012S-Lecture18-Splines%20and%20Piecewise%20Interpolation.pdf)\n"
   ]
  },
  {
   "cell_type": "markdown",
   "metadata": {},
   "source": [
    "**<font color=red>Question 7</font>** (25 points) Write program that can generate a $16 \\times 16$ matrix $A$ and a $16 \\times 1$ matrix $b$ to solve for four third order polynomials given the above data.  Each row in the matrix should correspond to one of the equations above.  There are lots of correct ways to do this (and lots of things you can do to make a mistake). As a starting point here is some code you can use to use as a scaffold:"
   ]
  },
  {
   "cell_type": "code",
   "execution_count": null,
   "metadata": {},
   "outputs": [],
   "source": [
    "n = data.shape[0]\n",
    "order = 3\n",
    "\n",
    "n_coeffs = (order+1)*(n-1)\n",
    "A = np.zeros((n_coeffs, n_coeffs))\n",
    "b = np.zeros(n_coeffs)\n",
    "\n",
    "row = 0\n",
    "#Add first point to first equation.\n",
    "A[row,0:(order+1)] = [1, x[0], x[0]**2, x[0]**3];\n",
    "b[row] = y[0]\n",
    "row += 1;\n",
    "\n",
    "#Add Last point to last equation.\n",
    "A[row,-(order+1):] = [1, x[-1], x[-1]**2, x[-1]**3];\n",
    "b[row] = y[-1]\n",
    "row += 1\n",
    "\n",
    "# Loop though the middle points\n",
    "for i in range(1,n-1):\n",
    "    #Add internal point to left equation\n",
    "    A[row, (i-1)*(order+1):i*(order+1)] = [1, x[i], x[i]**2, x[i]**3];\n",
    "    b[row] = y[i]\n",
    "    row +=1\n",
    "    \n",
    "    #Add internal point to right equation\n",
    "    A[row, i*(order+1):(i+1)*(order+1)] = [1, x[i], x[i]**2, x[i]**3];\n",
    "    b[row] = y[i]\n",
    "    row += 1\n",
    "    \n",
    "    # n-1 rows that ensure the Slope of internal point match both left and right equations.  \n",
    "    A[row, (i-1)*(order+1):(i+1)*(order+1)] = [0, 1, 2*x[i], 3*x[i]**2, 0, -1, -2*x[i], -3*x[i]**2];\n",
    "    b[row] = 0\n",
    "    row += 1\n",
    "\n",
    "## Build out the rest of the A matrix here. Make sure you include\n",
    "    \n",
    "# n-1 rows that ensure the SCurvature of internal point  match both left and right equations.\n",
    "    \n",
    "# Add the final two equations that make the curvature at the end points zero.\n",
    "    \n",
    "sym.Matrix(A)"
   ]
  },
  {
   "cell_type": "code",
   "execution_count": null,
   "metadata": {
    "deletable": false,
    "editable": false,
    "nbgrader": {
     "cell_type": "code",
     "checksum": "4da0413b344cdada455fdbdebe031bca",
     "grade": true,
     "grade_id": "cell-d90533d575096ba9",
     "locked": true,
     "points": 25,
     "schema_version": 3,
     "solution": false,
     "task": false
    }
   },
   "outputs": [],
   "source": [
    "from answercheck import checkanswer\n",
    "checkanswer.detailedwarnings=False\n",
    "checkanswer.eq_matrix(A,\"d3e5ea5762b218a208dd01093301fa52\",decimal_accuracy=3);"
   ]
  },
  {
   "cell_type": "markdown",
   "metadata": {},
   "source": [
    "**<font color=red>Question 7</font>** (Point 10) Useing $A$ and $b$ from question 6, solve for all 16 polynomial coefficients.  Store them in a vector called C. "
   ]
  },
  {
   "cell_type": "code",
   "execution_count": null,
   "metadata": {},
   "outputs": [],
   "source": [
    "# Put your answer to the above question here."
   ]
  },
  {
   "cell_type": "code",
   "execution_count": null,
   "metadata": {
    "deletable": false,
    "editable": false,
    "nbgrader": {
     "cell_type": "code",
     "checksum": "cffd5d7808346c825191803010889992",
     "grade": true,
     "grade_id": "cell-7335588985415916",
     "locked": true,
     "points": 10,
     "schema_version": 3,
     "solution": false,
     "task": false
    }
   },
   "outputs": [],
   "source": [
    "from answercheck import checkanswer\n",
    "checkanswer.detailedwarnings=False\n",
    "checkanswer.vector(C,\"f39d7508a29347d786386a07abd68f70\",decimal_accuracy=3);"
   ]
  },
  {
   "cell_type": "markdown",
   "metadata": {},
   "source": [
    "Assuming everything is working above, the following code will plot all $n-1$ polynomials in the ranges between the points. You will know the answer is correct if there is a smooth transition between the polynomials."
   ]
  },
  {
   "cell_type": "code",
   "execution_count": null,
   "metadata": {},
   "outputs": [],
   "source": [
    "for i in range(n-1):\n",
    "    c = C[i*(order+1):(i+1)*(order+1)]\n",
    "    x1 = np.linspace(x[i], x[i+1], 100)\n",
    "    y1 = np.poly1d(c[::-1])(x1)\n",
    "    plt.plot(x1, y1)\n",
    "    \n",
    "plt.scatter(x, y)"
   ]
  },
  {
   "cell_type": "markdown",
   "metadata": {},
   "source": [
    "----\n",
    "<a name=\"Least_Squares_Fit\"></a>\n",
    "\n",
    "# 3. Least Squares Fit"
   ]
  },
  {
   "cell_type": "markdown",
   "metadata": {},
   "source": [
    "When there is noise in the data (small errors) the above methods above start to fall apart even more. In this section we want to use the extra data to give us a simple.  Basically we want to use more data to average out the errors.  This process is known as least squares fit (LSF).   "
   ]
  },
  {
   "cell_type": "markdown",
   "metadata": {},
   "source": [
    "\n",
    "As pictured below, <a href=\"https://en.wikipedia.org/wiki/Linear_least_squares\">Least Squares</a> is a method by which we estimate a best-fit polynomial from a given data set by minimizing the error between the line and the oints. \n",
    "\n",
    "<img alt=\"Animated graph of 2D points showing a line fitting to the points and rotating showing the error difference\" src=\"https://upload.wikimedia.org/wikipedia/en/e/ed/Least_Squares.gif\" width=\"50%\">\n",
    "\n",
    "\n",
    "Considering the above figure, the goal is to find an equation for the line $c_0 + c_1x = y$ that \"best fits\" the points.\n",
    "\n",
    "Putting this into our standard matrix format we want:\n",
    "\n",
    "$$\n",
    "\\left[\n",
    "\\begin{matrix}\n",
    " 1 & x \n",
    " \\end{matrix}\n",
    "\\right] \n",
    "\\left[\n",
    "\\begin{matrix}\n",
    "    c_0   \\\\\n",
    "    c_1   \n",
    " \\end{matrix}\n",
    "\\right] \n",
    "= [y]\n",
    "$$"
   ]
  },
  {
   "cell_type": "markdown",
   "metadata": {},
   "source": [
    "We can see that if we could pick any two points out of the above data and get an \"exact fit\" line similar to part 1 of this homework:\n",
    "$$\n",
    "\\left[\n",
    "\\begin{matrix}\n",
    " 1 & x_0  \\\\\n",
    " 1 & x_1 \n",
    " \\end{matrix}\n",
    "\\right] \n",
    "\\left[\n",
    "\\begin{matrix}\n",
    "    c_0   \\\\\n",
    "    c_1  \n",
    " \\end{matrix}\n",
    "\\right] =\n",
    "\\left[\n",
    "\\begin{matrix}\n",
    " y_0 \\\\\n",
    " y_1\n",
    " \\end{matrix}\n",
    "\\right]  \n",
    "$$"
   ]
  },
  {
   "cell_type": "markdown",
   "metadata": {},
   "source": [
    "We could also try to do some really crazy Piecewise Continuous Functions but there are so many points it would look like spaghetti.\n",
    "\n",
    "In order to fit the best fit the polynomial we want to build an **_overdetermined_** system with many more equations than unknowns.  Something like the following:\n",
    "\n",
    "\n",
    "$$\n",
    "\\left[\n",
    "\\begin{matrix}\n",
    " 1 & x_0  \\\\\n",
    " 1 & x_1  \\\\\n",
    " 1 & x_2 \\\\\n",
    " \\vdots & \\vdots\\\\\n",
    " 1 & x_{m-1} \n",
    " \\end{matrix}\n",
    "\\right] \n",
    "\\left[\n",
    "\\begin{matrix}\n",
    "    c_0   \\\\\n",
    "    c_1   \n",
    " \\end{matrix}\n",
    "\\right] =\n",
    "\\left[\n",
    "\\begin{matrix}\n",
    " y_0 \\\\\n",
    " y_1 \\\\\n",
    " y_2 \\\\\n",
    " \\vdots \\\\\n",
    " y_{m-1}\n",
    " \\end{matrix}\n",
    "\\right] \n",
    "$$\n",
    "\n",
    "\n",
    "Basically we want to solve for our coefficient $C_0$ and $C_1$ that minimize the \"Least Squares Error\" error between the points and the line estimation.  \n",
    "\n",
    "However, we know that when there are more equation than unknowns there is no exact solution. Lets consider the following example:"
   ]
  },
  {
   "cell_type": "code",
   "execution_count": null,
   "metadata": {},
   "outputs": [],
   "source": [
    "data = np.array([[-2, 0], [-0.88,2], [1,3.5], [2.1, 5], [4,6]])\n",
    "plt.scatter(data[:,0], data[:,1], c='red');\n",
    "plt.plot(data[:,0], data[:,1]);"
   ]
  },
  {
   "cell_type": "markdown",
   "metadata": {},
   "source": [
    "Lets define our overdetermined system as follows:"
   ]
  },
  {
   "cell_type": "code",
   "execution_count": null,
   "metadata": {},
   "outputs": [],
   "source": [
    "A = np.zeros((len(data), 2)) \n",
    "b = np.zeros((len(data),1))\n",
    "\n",
    "row = 0;\n",
    "for i in data:\n",
    "    A[row,:] = [1, i[0]]\n",
    "    b[row] = i[1]\n",
    "    row +=1\n",
    "print(A)\n",
    "print(b)"
   ]
  },
  {
   "cell_type": "markdown",
   "metadata": {},
   "source": [
    "Notice if we try to solve for $C$ using ```numpy.linalg.solve``` we get an error which says we can only solve the forumla if matrix $A$ is \"square\" (i.e. the number of equations is the same as the number of unknowns). "
   ]
  },
  {
   "cell_type": "code",
   "execution_count": null,
   "metadata": {},
   "outputs": [],
   "source": [
    "## Uncomment to see the error. Then recomment so you can run all.\n",
    "# np.linalg.solve(A,b)"
   ]
  },
  {
   "cell_type": "markdown",
   "metadata": {},
   "source": [
    "Turns out we can use a \"trick\" to make the $A$ matrix square (We will be explaining this trick in class).  All we need to do is left multiply $A$ by it's Transpose.  To make the equations work out, we also need to left multiply $b$ by it's transpose as well:"
   ]
  },
  {
   "cell_type": "code",
   "execution_count": null,
   "metadata": {},
   "outputs": [],
   "source": [
    "A.T@A"
   ]
  },
  {
   "cell_type": "code",
   "execution_count": null,
   "metadata": {},
   "outputs": [],
   "source": [
    "A.T@b"
   ]
  },
  {
   "cell_type": "code",
   "execution_count": null,
   "metadata": {},
   "outputs": [],
   "source": [
    "C = np.linalg.solve(A.T@A,A.T@b)\n",
    "C"
   ]
  },
  {
   "cell_type": "markdown",
   "metadata": {},
   "source": [
    "There exists a proof (again, we will go over this in class) that the solution to the above equation is the same as the LSF solution to our problem.  Lets plot the results:"
   ]
  },
  {
   "cell_type": "code",
   "execution_count": null,
   "metadata": {},
   "outputs": [],
   "source": [
    "x1 = np.linspace(-2, 5, 100)\n",
    "y1 = C[0]+C[1]*x1\n",
    "plt.scatter(data[:,0], data[:,1]);\n",
    "plt.plot(x1,y1)"
   ]
  },
  {
   "cell_type": "markdown",
   "metadata": {},
   "source": [
    "----\n",
    "\n",
    "Now lets use LSF to find a model for a much bigger set of data. Consider the following example from a [Penn State statistics course](https://online.stat.psu.edu/stat501/lesson/9/9.8):\n",
    "\n",
    "\n",
    "In 1981, n = 78 bluegills (fish) were randomly sampled from Lake Mary in Minnesota. The researchers (Cook and Weisberg, 1999) measured and recorded the  data ([Bluegills dataset](https://online.stat.psu.edu/onlinecourses/sites/stat501/files/data/bluegills.txt))l where the first measurement is the age of the blugill (in years) and the second datapoint is the length of bluegill (fish).  Here is some code to download the data and plot it using python:"
   ]
  },
  {
   "cell_type": "code",
   "execution_count": null,
   "metadata": {},
   "outputs": [],
   "source": [
    "import pandas\n",
    "URL = \"https://online.stat.psu.edu/onlinecourses/sites/stat501/files/data/bluegills.txt\"\n",
    "data = pandas.read_csv(URL,sep='\\t',header=(0))\n",
    "data = data.values\n",
    "x = data[:,0]\n",
    "y = data[:,1]\n",
    "plt.scatter(x,y)\n",
    "plt.xlabel(\"Age\")\n",
    "plt.ylabel(\"length (mm)\");\n"
   ]
  },
  {
   "cell_type": "markdown",
   "metadata": {},
   "source": [
    "**<font color=red>Question 8</font>**  (10 points) Write program that can generate a $78 \\times 3$ matrix $A$ and a $78 \\times 1$ matrix $b$ which represents an overdetermined system that we will use to fit a second order polynomial to the data.  Each row in the matrix should correspond to one of the points in the data set and fit into the equation $y = C_0 + C_1x + C_2x^2$."
   ]
  },
  {
   "cell_type": "code",
   "execution_count": null,
   "metadata": {
    "deletable": false,
    "nbgrader": {
     "cell_type": "code",
     "checksum": "dca9553ba7f91be377d21c3678d2fc2a",
     "grade": true,
     "grade_id": "cell-2168afe865a60c38",
     "locked": false,
     "points": 10,
     "schema_version": 3,
     "solution": true,
     "task": false
    }
   },
   "outputs": [],
   "source": [
    "# YOUR CODE HERE\n",
    "raise NotImplementedError()"
   ]
  },
  {
   "cell_type": "markdown",
   "metadata": {},
   "source": [
    "**<font color=red>Question 9</font>**  (10 points) Use the trick described at the beginning of this section to convert the $A$ and $b$ matrix into a \"square\" system and solve for the constants using the ```numpy.linalg.solve``` function:"
   ]
  },
  {
   "cell_type": "code",
   "execution_count": null,
   "metadata": {},
   "outputs": [],
   "source": [
    "#Put your answer to the above question here."
   ]
  },
  {
   "cell_type": "code",
   "execution_count": null,
   "metadata": {
    "deletable": false,
    "editable": false,
    "nbgrader": {
     "cell_type": "code",
     "checksum": "82795b139443322bde1ca7afda5d2b04",
     "grade": true,
     "grade_id": "cell-be3972c143328bb6",
     "locked": true,
     "points": 10,
     "schema_version": 3,
     "solution": false,
     "task": false
    }
   },
   "outputs": [],
   "source": [
    "from answercheck import checkanswer\n",
    "checkanswer.detailedwarnings=False\n",
    "checkanswer.vector(C,\"a0779880719fbfc968a8cd91aaf52848\",decimal_accuracy=3);"
   ]
  },
  {
   "cell_type": "markdown",
   "metadata": {},
   "source": [
    "**<font color=red>Question 10</font>** (10 points)  Plot the polynomial model in the range of $x=[0,6]$ along side the original data. "
   ]
  },
  {
   "cell_type": "code",
   "execution_count": null,
   "metadata": {
    "deletable": false,
    "editable": false,
    "nbgrader": {
     "cell_type": "code",
     "checksum": "00951d80082140f190e2015373f9352a",
     "grade": true,
     "grade_id": "cell-ae0af028743e658f",
     "locked": true,
     "points": 10,
     "schema_version": 3,
     "solution": false,
     "task": false
    }
   },
   "outputs": [],
   "source": [
    "## put your answer to the above question here."
   ]
  },
  {
   "cell_type": "markdown",
   "metadata": {},
   "source": [
    "---------\n",
    "### Congratulations, we're done!\n"
   ]
  },
  {
   "cell_type": "markdown",
   "metadata": {},
   "source": [
    "Written by Dirk Colbry, Michigan State University\n",
    "<a rel=\"license\" href=\"http://creativecommons.org/licenses/by-nc/4.0/\"><img alt=\"Creative Commons License\" style=\"border-width:0\" src=\"https://i.creativecommons.org/l/by-nc/4.0/88x31.png\" /></a><br />This work is licensed under a <a rel=\"license\" href=\"http://creativecommons.org/licenses/by-nc/4.0/\">Creative Commons Attribution-NonCommercial 4.0 International License</a>."
   ]
  }
 ],
 "metadata": {
  "kernelspec": {
   "display_name": "Python 3",
   "language": "python",
   "name": "python3"
  },
  "language_info": {
   "codemirror_mode": {
    "name": "ipython",
    "version": 3
   },
   "file_extension": ".py",
   "mimetype": "text/x-python",
   "name": "python",
   "nbconvert_exporter": "python",
   "pygments_lexer": "ipython3",
   "version": "3.7.3"
  }
 },
 "nbformat": 4,
 "nbformat_minor": 1
}
