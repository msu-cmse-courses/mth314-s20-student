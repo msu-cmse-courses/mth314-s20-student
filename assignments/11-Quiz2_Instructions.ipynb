{
 "cells": [
  {
   "cell_type": "markdown",
   "metadata": {},
   "source": [
    "# QUIZ DAY !!!!\n",
    "\n",
    "Today is your First quiz!  Remember that there will be a quiz every other week with a total of 5 quizzes all semester.  Quizzes are not intended to be stressful.  All of the quizzes together are worth only 10% of your grade and you get to drop your lowest score!  \n",
    "\n",
    "The quizzes are the best way to help students and instructors identify problems and areas where we need improvement.  \n",
    "\n",
    "A typical Quiz day will consist of the following agenda. \n",
    "\n",
    "\n",
    "### Typical Agenda for quiz classes (80 minutes)\n",
    "\n",
    "1. [(20 minutes) Review Pre-Class Assignment](#Review)\n",
    "2. [(30 minutes) Quiz](#Quiz)\n",
    "3. [(30 minutes) Start next In-Class Assignment](#in-Class_Assignment)\n"
   ]
  },
  {
   "cell_type": "markdown",
   "metadata": {},
   "source": [
    "----\n",
    "\n",
    "<a name=\"Review\"></a>\n",
    "\n",
    "# 1. Review Pre-class Assignment\n",
    "\n",
    "Like most days, your instructor will review and answer questions from your pre-class assignment.  This is your opportunity to ask any lingering questions before the quiz. \n",
    "\n",
    "\n",
    "\n",
    "- [11--Vector_Spaces_pre-class-assignment.ipynb](11--Vector_Spaces_pre-class-assignment.ipynb)"
   ]
  },
  {
   "cell_type": "markdown",
   "metadata": {},
   "source": [
    "----\n",
    "\n",
    "<a name=\"Quiz\"></a>\n",
    "\n",
    "# 2. Quiz\n",
    "\n",
    "\n",
    "\n",
    "After all of yoru questions have been answer (or if you run out of time instructors will enable you to download the quiz from the course [D2L](http://d2l.msu.edu) website.  \n",
    "\n",
    "Download the Quiz and get started. The quiz is designed to take approximately 20 minutes to complete (you will be given 30 Minutes).  \n",
    "\n",
    "The following instructions will be included at the top of your quiz. Make sure you read the instructions.  They are included here to save you some time.\n"
   ]
  },
  {
   "cell_type": "markdown",
   "metadata": {},
   "source": [
    "> This is an open Internet quiz.  Feel free to use anything on the Internet with one important exception...\n",
    "> \n",
    "> - **DO NOT** communicate live with other people during the quiz (either verbally or on-line).  The goal here is to find answers to problems as you would in the real world.  \n",
    "> \n",
    "> You will be given **20 minutes** to complete this quiz.  Use your time wisely. \n",
    "> \n",
    "> **HINTS:**\n",
    "> - Neatness and grammar is important.  We will ignore all notes or code we can not read or understand.\n",
    "> - Read the entire quiz from beginning to end before starting.  Not all questions are equal in **points vs. time** so plan your time accordingly.   \n",
    "> - Some of the information provided my be a distraction. Do not assume you need to understand everything written to answer the questions. \n",
    "> - Spaces for answers are provided. Delete the prompting text such as \"Put your answer to the above question here\" and replace it with your answer. Do not leave the prompting text with your answer.\n",
    "> - Do not assume that the answer must be in the same format of the cell provided. Feel free to change the cell formatting (e.g., markdown to code, and vice versa) or add additional cells as needed to provide your answer.\n",
    "> - When a question asks for an answer \"**in your own words**\" it is still okay to search the Internet for the answer as a reminder. *However*, we would like you to do more than cut and paste.  Make the answer your own. \n",
    "> - If you get stuck, try not to leave an answer blank. It is better to include some notes or stub functions so we have an idea about your thinking process so we can give you partial credit.   \n",
    "> - Always provid links to any references you find helpful. \n",
    "> - Feel free to delete the provided check marks (&#9989;) as a way to keep track of which questions you have successfully completed. "
   ]
  },
  {
   "cell_type": "markdown",
   "metadata": {},
   "source": [
    "> **Honor Code**\n",
    "> \n",
    "> I, agree to neither give nor receive any help on this quiz from other people.  I also understand that providing answers to questions on this quiz to other students is also an academic misconduct violation as is live communication or receiving answers to questions on this quiz from other people. It is important to me to be a person of integrity and that means that ALL ANSWERS on this quiz are my answers.\n",
    "> \n",
    "> &#9989; **<font color=red>DO THIS:</font>** Include your name in the line below to acknowledge the above statement:"
   ]
  },
  {
   "cell_type": "markdown",
   "metadata": {},
   "source": [
    ">  Put your name here."
   ]
  },
  {
   "cell_type": "markdown",
   "metadata": {},
   "source": [
    "### Download Automatic Answer Check\n",
    "\n",
    "The quiz may require an automated answer checking system for grading.  The following cell will automatically download the latest version of the answer checker. "
   ]
  },
  {
   "cell_type": "code",
   "execution_count": null,
   "metadata": {},
   "outputs": [],
   "source": [
    "from urllib.request import urlretrieve\n",
    "\n",
    "urlretrieve('https://raw.githubusercontent.com/colbrydi/jupytercheck/master/answercheck.py', \n",
    "            'answercheck.py');"
   ]
  },
  {
   "cell_type": "markdown",
   "metadata": {},
   "source": [
    "Verify you have Check Answer installed by running the following cell"
   ]
  },
  {
   "cell_type": "code",
   "execution_count": null,
   "metadata": {
    "nbgrader": {
     "grade": false,
     "grade_id": "cell-a977a77972b40856",
     "locked": false,
     "schema_version": 3,
     "solution": true
    }
   },
   "outputs": [],
   "source": [
    "from answercheck import checkanswer\n",
    "checkanswer(\"Check Answer\",'bd8337cd5327e54b2b4b15c6ec3703ed');"
   ]
  },
  {
   "cell_type": "markdown",
   "metadata": {},
   "source": [
    "\n",
    "### Submission\n",
    "\n",
    "After you are done with your quiz you will submit it by uploading it to the course [Desire2Learn](http://d2l.msu.edu) web page for today's dropbox.\n",
    "\n",
    "&#9989; **<font color=red>DO THIS:</font>**\n",
    "- Download the Notebook to your desktop with the filename using the format **\"NETID-Quiz.ipynb\"**.  Replace **NETID** in the filename with your personal MSU NetID (the stuff that comes before the @ symbol in your msu email address).\n",
    "- Upload the newly renamed notebook to the D2L dropbox. (improper naming of your notebook may cause points to be taken away).\n",
    "\n"
   ]
  },
  {
   "cell_type": "markdown",
   "metadata": {},
   "source": [
    "----\n",
    "\n",
    "<a name=\"in-Class_Assignment\"></a>\n",
    "\n",
    "# 3. Start next In-Class Assignment\n",
    "Once you have turned in your quiz you should get started on the next in-class assignment.  We will finish up the assignment during the next class period.  There is NOT a pre-class for the next class period so use this time to finish up your homework assignment. \n"
   ]
  },
  {
   "cell_type": "markdown",
   "metadata": {},
   "source": [
    "Written by Dr. Dirk Colbry, Michigan State University\n",
    "<a rel=\"license\" href=\"http://creativecommons.org/licenses/by-nc/4.0/\"><img alt=\"Creative Commons License\" style=\"border-width:0\" src=\"https://i.creativecommons.org/l/by-nc/4.0/88x31.png\" /></a><br />This work is licensed under a <a rel=\"license\" href=\"http://creativecommons.org/licenses/by-nc/4.0/\">Creative Commons Attribution-NonCommercial 4.0 International License</a>."
   ]
  },
  {
   "cell_type": "markdown",
   "metadata": {},
   "source": [
    "----"
   ]
  }
 ],
 "metadata": {
  "celltoolbar": "Create Assignment",
  "kernelspec": {
   "display_name": "Python 3",
   "language": "python",
   "name": "python3"
  },
  "language_info": {
   "codemirror_mode": {
    "name": "ipython",
    "version": 3
   },
   "file_extension": ".py",
   "mimetype": "text/x-python",
   "name": "python",
   "nbconvert_exporter": "python",
   "pygments_lexer": "ipython3",
   "version": "3.7.3"
  }
 },
 "nbformat": 4,
 "nbformat_minor": 2
}
