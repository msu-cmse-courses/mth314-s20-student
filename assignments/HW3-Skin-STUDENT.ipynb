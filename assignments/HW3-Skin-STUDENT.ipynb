{
 "cells": [
  {
   "cell_type": "markdown",
   "metadata": {},
   "source": [
    "----"
   ]
  },
  {
   "cell_type": "markdown",
   "metadata": {},
   "source": [
    "[Link to this document's Jupyter Notebook](HW3-Skin.ipynb)"
   ]
  },
  {
   "cell_type": "markdown",
   "metadata": {},
   "source": [
    "In order to successfully complete this assignment, you must follow all the instructions in this notebook and upload your edited ipynb file to [D2L](http://d2l.msu.edu/) with your answers on or before **11:59pm on Friday March 12th**.\n",
    "\n",
    "**BIG HINT:** Read the entire homework before starting.  "
   ]
  },
  {
   "cell_type": "markdown",
   "metadata": {},
   "source": [
    "# Homework 3: Color based image segmentation"
   ]
  },
  {
   "cell_type": "markdown",
   "metadata": {},
   "source": [
    "Image segmentation is the process of separating the stuff you are interested in (foreground) with stuff you are not interested in (background).  Color is often used as an easy way to segment images.  Thresholds are selected for pixels in a range of color and defined as either foreground or background.\n",
    "\n",
    "Faces come in a diverse range of colors making them difficult to segment using traditional **<font color=\"red\">Red</font>**, **<font color=\"green\">Green</font>** and **<font color=\"blue\">Blue</font>** values.  \n",
    "\n",
    "<img src=\"https://i.pinimg.com/236x/b6/dc/3f/b6dc3fb5f55696cb85bc1b849a24a36d--american-indians-children-books.jpg\">\n",
    "\n",
    "In this question we are going to use eigenvectors and Principal Component Analysis (PCA) to learn a new \"skin tone colorspace\" designed to make it much easier to segment faces (skin colors) from the background. "
   ]
  },
  {
   "cell_type": "code",
   "execution_count": null,
   "metadata": {},
   "outputs": [],
   "source": [
    "#Some python packages you may need in this homework.\n",
    "\n",
    "%matplotlib inline\n",
    "import matplotlib.pylab as plt\n",
    "import numpy as np\n",
    "import sympy as sym\n",
    "sym.init_printing(use_unicode=True)"
   ]
  },
  {
   "cell_type": "markdown",
   "metadata": {},
   "source": [
    "To start we are going to download a bunch of color values from the following website.  \n",
    "\n",
    "> https://archive.ics.uci.edu/ml/datasets/skin+segmentation#\n",
    "\n",
    "The file we are interested in is linked below:\n",
    "\n",
    "> https://archive.ics.uci.edu/ml/machine-learning-databases/00229/Skin_NonSkin.txt\n",
    "\n",
    "The file contains thousands of colors selected from a diverse population of face images.  Note these colors are in the order BGR or **<font color=\"blue\">Blue</font>**, **<font color=\"green\">Green</font>** and **<font color=\"red\">Red</font>**.  The file also contains hundreds of BGR colors selected from non-faces (these non-face colors are used in machine learning but are discarded for this homework). The fourth number in each row is a label where the number one (1) indicates the row is a skin color and two (2) indicates a non-skin color. \n",
    "\n",
    "The following cells downloads the file, removes all of the non-skin values, reorders the points to RGB and plots the skin points as a scatter plot in traditional **<font color=\"red\">R</font>** **<font color=\"green\">G</font>** **<font color=\"blue\">B</font>** space. "
   ]
  },
  {
   "cell_type": "code",
   "execution_count": null,
   "metadata": {},
   "outputs": [],
   "source": [
    "#get the data file from the internet:\n",
    "from urllib.request import urlopen, urlretrieve\n",
    "\n",
    "url = 'https://archive.ics.uci.edu/ml/machine-learning-databases/00229/Skin_NonSkin.txt'\n",
    "file = \"Skin_NonSkin.txt\"\n",
    "\n",
    "response = urlopen(url)\n",
    "data = response.read()      # a `bytes` object\n",
    "text = data.decode('utf-8') \n",
    "lines = text.split('\\r\\n')\n",
    "\n",
    "data = []\n",
    "\n",
    "#Read in file line by line\n",
    "for line in lines:\n",
    "    try:\n",
    "        if line:\n",
    "            data.append(list(map(int, line.split('\\t'))))\n",
    "    except:\n",
    "        print('invalid line of data:',line)\n",
    "response.close()"
   ]
  },
  {
   "cell_type": "code",
   "execution_count": null,
   "metadata": {},
   "outputs": [],
   "source": [
    "#Convert the file to a list of points\n",
    "P = np.matrix(data)\n",
    "P.shape"
   ]
  },
  {
   "cell_type": "code",
   "execution_count": null,
   "metadata": {},
   "outputs": [],
   "source": [
    "#Mask out only face values and keep just the RGBs\n",
    "mask = np.array(P[:,3]==1)\n",
    "mask = mask.flatten()\n",
    "points = P[mask,:]\n",
    "\n",
    "## Change order to Red, Green, Blue\n",
    "points = points[:,(2,1,0)]"
   ]
  },
  {
   "cell_type": "code",
   "execution_count": null,
   "metadata": {},
   "outputs": [],
   "source": [
    "# Plot the points in 3D using their actual color values\n",
    "from mpl_toolkits.mplot3d import Axes3D\n",
    "\n",
    "fig = plt.figure()\n",
    "ax = fig.add_subplot(111, projection='3d')\n",
    "\n",
    "ax.scatter(points[:,0], points[:,1], points[:,2], c=points/255)\n",
    "\n",
    "ax.set_xlabel('Red');\n",
    "ax.set_ylabel('Green');\n",
    "ax.set_zlabel('Blue');\n"
   ]
  },
  {
   "cell_type": "markdown",
   "metadata": {},
   "source": [
    "&#9989; **<font color=red>Question 1</font>**: (10 points) Calculate the average (mean) Red, Green and Blue values in the ```points``` plotted in the above figure.  Store the these values in a vector named ```mn```. "
   ]
  },
  {
   "cell_type": "code",
   "execution_count": null,
   "metadata": {},
   "outputs": [],
   "source": [
    "#Put your answer to the above question here"
   ]
  },
  {
   "cell_type": "code",
   "execution_count": null,
   "metadata": {
    "deletable": false,
    "editable": false,
    "nbgrader": {
     "cell_type": "code",
     "checksum": "7bc5b99268e310435764249f74126a5c",
     "grade": true,
     "grade_id": "cell-47e41dfc4797c74c",
     "locked": true,
     "points": 10,
     "schema_version": 3,
     "solution": false,
     "task": false
    }
   },
   "outputs": [],
   "source": [
    "from answercheck import checkanswer\n",
    "checkanswer.detailedwarnings=False\n",
    "checkanswer.vector(mn,\"1fa50978a380472875752d3d083afa41\");"
   ]
  },
  {
   "cell_type": "markdown",
   "metadata": {},
   "source": [
    "&#9989; **<font color=red>Question 2</font>**: (10 points) Subtract the mean values (```mn```) from each of the ```points``` (i.e. center the points around the origin and store these in a new matrix called ```A``` (This is the first step in PCA)."
   ]
  },
  {
   "cell_type": "code",
   "execution_count": null,
   "metadata": {},
   "outputs": [],
   "source": [
    "#put your answer to the above question here."
   ]
  },
  {
   "cell_type": "code",
   "execution_count": null,
   "metadata": {
    "deletable": false,
    "editable": false,
    "nbgrader": {
     "cell_type": "code",
     "checksum": "e5d6d301486555fc1fe4397d6567c0ca",
     "grade": true,
     "grade_id": "cell-3a2f1d370f4d5b29",
     "locked": true,
     "points": 10,
     "schema_version": 3,
     "solution": false,
     "task": false
    }
   },
   "outputs": [],
   "source": [
    "from answercheck import checkanswer\n",
    "checkanswer.detailedwarnings = False;\n",
    "checkanswer.matrix(A, \"968ac30b396e941c60b6fcfeade0335c\");"
   ]
  },
  {
   "cell_type": "markdown",
   "metadata": {},
   "source": [
    "&#9989; **<font color=red>Question 3</font>**: (5 points) Plot the adjusted points again and make sure they are approximately centered around the origin. **_NOTE_**: keep the color input to scatter the same so we see the original colors in the graph."
   ]
  },
  {
   "cell_type": "code",
   "execution_count": null,
   "metadata": {
    "deletable": false,
    "nbgrader": {
     "cell_type": "code",
     "checksum": "c1265949c8e18496d19161fb99ac9c50",
     "grade": true,
     "grade_id": "cell-40b03c74b8972c2b",
     "locked": false,
     "points": 5,
     "schema_version": 3,
     "solution": true,
     "task": false
    }
   },
   "outputs": [],
   "source": [
    "# YOUR CODE HERE\n",
    "raise NotImplementedError()"
   ]
  },
  {
   "cell_type": "markdown",
   "metadata": {},
   "source": [
    "&#9989; **<font color=red>Question 4</font>**: (10 points) Calculate the $3 \\times 3$ Gram matrix $C = A^TA$."
   ]
  },
  {
   "cell_type": "code",
   "execution_count": null,
   "metadata": {},
   "outputs": [],
   "source": [
    "##Put your answer to the above question here"
   ]
  },
  {
   "cell_type": "code",
   "execution_count": null,
   "metadata": {
    "deletable": false,
    "editable": false,
    "nbgrader": {
     "cell_type": "code",
     "checksum": "f70877fcd8677e2b3636dba6f1dd2561",
     "grade": true,
     "grade_id": "cell-1ed3eecd6a684afd",
     "locked": true,
     "points": 10,
     "schema_version": 3,
     "solution": false,
     "task": false
    }
   },
   "outputs": [],
   "source": [
    "from answercheck import checkanswer\n",
    "checkanswer.matrix(C, \"267893b255a1b2035403c91c74443a63\");"
   ]
  },
  {
   "cell_type": "markdown",
   "metadata": {},
   "source": [
    "&#9989; **<font color=red>Question 5</font>**: (10 points) Calculate the eigenvalues and eigenvectors of the Gram matrix $C$."
   ]
  },
  {
   "cell_type": "code",
   "execution_count": null,
   "metadata": {
    "deletable": false,
    "nbgrader": {
     "cell_type": "code",
     "checksum": "afc307fd4cbf93526a4ad1806baed6ca",
     "grade": true,
     "grade_id": "cell-dc56db60c6211717",
     "locked": false,
     "points": 10,
     "schema_version": 3,
     "solution": true,
     "task": false
    }
   },
   "outputs": [],
   "source": [
    "# YOUR CODE HERE\n",
    "raise NotImplementedError()"
   ]
  },
  {
   "cell_type": "markdown",
   "metadata": {},
   "source": [
    "&#9989; **<font color=red>Question 6</font>**: (10 points) Use the eigenvectors found in Question 5 to create a $3 \\times 3$ orthonormal color transformation matrix ```T``` that can transform points from RGB space into the new principal component's color space. I.e. the rows of the transformation matrix should consist of the three normalized eigenvectors sorted from largest to smallest eigenvalues (largest on top). "
   ]
  },
  {
   "cell_type": "code",
   "execution_count": null,
   "metadata": {},
   "outputs": [],
   "source": [
    "# Put your answer here  "
   ]
  },
  {
   "cell_type": "code",
   "execution_count": null,
   "metadata": {
    "deletable": false,
    "editable": false,
    "nbgrader": {
     "cell_type": "code",
     "checksum": "21a46f5f92808272dba0de26066c35d1",
     "grade": true,
     "grade_id": "cell-de9c9a5953fdfe9f",
     "locked": true,
     "points": 10,
     "schema_version": 3,
     "solution": false,
     "task": false
    }
   },
   "outputs": [],
   "source": [
    "from answercheck import checkanswer\n",
    "checkanswer.matrix(T, \"dca594755c0e0df561f15b04bff2d091\");"
   ]
  },
  {
   "cell_type": "markdown",
   "metadata": {},
   "source": [
    "Now lets download and view an example image that has faces and see if we can segment out the faces using skin color."
   ]
  },
  {
   "cell_type": "code",
   "execution_count": null,
   "metadata": {},
   "outputs": [],
   "source": [
    "from imageio import imread\n",
    "\n",
    "url = 'https://hecatedemeter.files.wordpress.com/2013/12/diverse-crowd.jpg'\n",
    "file = 'Faces.jpg'\n",
    "\n",
    "urlretrieve(url,file);\n",
    "\n",
    "im = imread(file)\n",
    "plt.imshow(im);"
   ]
  },
  {
   "cell_type": "markdown",
   "metadata": {},
   "source": [
    "The following code \"unwraps\" this image and puts it into a new im_points matrix:"
   ]
  },
  {
   "cell_type": "code",
   "execution_count": null,
   "metadata": {},
   "outputs": [],
   "source": [
    "#Turn into into 3 x n vector\n",
    "im_points = im.reshape((im.shape[0]*im.shape[1],3))\n",
    "im_points.shape"
   ]
  },
  {
   "cell_type": "markdown",
   "metadata": {},
   "source": [
    "&#9989; **<font color=red>Question 7</font>**: (10 points) Now take the image points and center them using the mean vector ```mn``` calculated above into a new matrix ```im_A```."
   ]
  },
  {
   "cell_type": "code",
   "execution_count": null,
   "metadata": {},
   "outputs": [],
   "source": [
    "#Put your answer to the above question here"
   ]
  },
  {
   "cell_type": "code",
   "execution_count": null,
   "metadata": {
    "deletable": false,
    "editable": false,
    "nbgrader": {
     "cell_type": "code",
     "checksum": "609c8f9f3f1e9b2d56125a6bc98f9cb5",
     "grade": true,
     "grade_id": "cell-3878b2013e0aee4e",
     "locked": true,
     "points": 10,
     "schema_version": 3,
     "solution": false,
     "task": false
    }
   },
   "outputs": [],
   "source": [
    "from answercheck import checkanswer\n",
    "checkanswer.matrix(im_A, \"0394347f996826c68245671d07e5bcf4\");"
   ]
  },
  {
   "cell_type": "markdown",
   "metadata": {},
   "source": [
    "&#9989; **<font color=red>Question 8</font>**: (5 points) Plot the centered ```im_A``` in the **<font color=\"red\">R</font>** **<font color=\"green\">G</font>** **<font color=\"blue\">B</font>** space as above. **_NOTE:_** make sure you use the original image points for the color variable in scatter."
   ]
  },
  {
   "cell_type": "code",
   "execution_count": null,
   "metadata": {
    "deletable": false,
    "nbgrader": {
     "cell_type": "code",
     "checksum": "9d23e3205fb9c634950fbf6d1466d02f",
     "grade": true,
     "grade_id": "cell-143929ddcbb3aa18",
     "locked": false,
     "points": 5,
     "schema_version": 3,
     "solution": true,
     "task": false
    }
   },
   "outputs": [],
   "source": [
    "# YOUR CODE HERE\n",
    "raise NotImplementedError()"
   ]
  },
  {
   "cell_type": "markdown",
   "metadata": {},
   "source": [
    "&#9989; **<font color=red>Question 9</font>**: (10 points) Use the $3 \\times 3$ color transformation matrix (```T```) calculated above to transform the ```im_A``` points into the new face PCA colorspace. Name the new points  ```color_points``` which should have the same shape as ```im_points```."
   ]
  },
  {
   "cell_type": "code",
   "execution_count": null,
   "metadata": {},
   "outputs": [],
   "source": [
    "# Put your answer to the above question here."
   ]
  },
  {
   "cell_type": "code",
   "execution_count": null,
   "metadata": {
    "deletable": false,
    "editable": false,
    "nbgrader": {
     "cell_type": "code",
     "checksum": "9224a922cbab9e90df94d8d004686d01",
     "grade": true,
     "grade_id": "cell-09ae396f3480f45a",
     "locked": true,
     "points": 10,
     "schema_version": 3,
     "solution": false,
     "task": false
    }
   },
   "outputs": [],
   "source": [
    "##Checking size only.\n",
    "assert(color_points.shape == im_A.shape)"
   ]
  },
  {
   "cell_type": "markdown",
   "metadata": {},
   "source": [
    "The next step transforms the ```color_points``` back into image matrices"
   ]
  },
  {
   "cell_type": "code",
   "execution_count": null,
   "metadata": {},
   "outputs": [],
   "source": [
    "# Turn each component back into a square image\n",
    "principal_axis_1 = np.array(color_points[:,0].reshape(im[:,:,0].shape))\n",
    "principal_axis_2 = np.array(color_points[:,1].reshape(im[:,:,0].shape))\n",
    "principal_axis_3 = np.array(color_points[:,2].reshape(im[:,:,0].shape))"
   ]
  },
  {
   "cell_type": "markdown",
   "metadata": {},
   "source": [
    "Because we are dealing with pictures, we should be able to visualize how each color point in the image falls on the eigvenvectors (aka principal components vectors).  The following code shows each principal axis as a grayscale image and the combined picture in a \"skin tone\" colorspace (where the first principal axis is mapped to Red, the second to Green and the third to Blue).  This last one doesn't really tell us that much but it is interesting"
   ]
  },
  {
   "cell_type": "code",
   "execution_count": null,
   "metadata": {},
   "outputs": [],
   "source": [
    "f, ax = plt.subplots(1,4, figsize=(20,10))\n",
    "\n",
    "ax[0].imshow(principal_axis_1, cmap='gray')\n",
    "ax[0].axis('off')\n",
    "ax[0].set_title('pricipal axis')\n",
    "ax[1].imshow(principal_axis_2, cmap='gray')\n",
    "ax[1].axis('off')\n",
    "ax[1].set_title('second pricipal axis')\n",
    "ax[2].imshow(principal_axis_3, cmap='gray');\n",
    "ax[2].axis('off')\n",
    "ax[2].set_title('third pricipal axis');\n",
    "\n",
    "combined = im.copy()\n",
    "combined[:,:,0] = principal_axis_1\n",
    "combined[:,:,1] = principal_axis_2\n",
    "combined[:,:,2] = principal_axis_3\n",
    "\n",
    "ax[3].imshow(combined);\n",
    "ax[3].axis('off')\n",
    "ax[3].set_title('Combined');\n"
   ]
  },
  {
   "cell_type": "markdown",
   "metadata": {},
   "source": [
    "Now, if we assume we did everything right the first picture on the right should represent the values on the first principal axis.  The second and third image are orthogonal to the first. If we assume that most of the variance in the face colors are represented in this first image than we can model faces (skin) as the values close to this axis.  \n",
    "\n",
    "Or, another way to look at is is the points closest to the first axis are more like skin colors and the points farther away from the first image is less like a skin.  Points farther away from the first axis will have large values in the second and third principal axes.  \n",
    "\n",
    "\n",
    "&#9989; **<font color=red>Question 10</font>**: (10 points) create a new matrix (same size as the image) with values equal to the euclidian distance of each of the PCA points to the first principal axis. In other words, write code to do the following where $p_2$ is the second principal axis and $p_3$ is the third: \n",
    "\n",
    "$$ distance = \\sqrt{p_2^2 + p_3^2}$$\n"
   ]
  },
  {
   "cell_type": "code",
   "execution_count": null,
   "metadata": {},
   "outputs": [],
   "source": [
    "#Put your answer to the above question here."
   ]
  },
  {
   "cell_type": "code",
   "execution_count": null,
   "metadata": {
    "deletable": false,
    "editable": false,
    "nbgrader": {
     "cell_type": "code",
     "checksum": "fa903d285df37a2e7555afbf8bf6c4f5",
     "grade": true,
     "grade_id": "cell-68413a41646b42a5",
     "locked": true,
     "points": 10,
     "schema_version": 3,
     "solution": false,
     "task": false
    }
   },
   "outputs": [],
   "source": [
    "from answercheck import checkanswer\n",
    "checkanswer.matrix(distance, \"8e1e05f148bc760af2e4d43c3f816cdc\");"
   ]
  },
  {
   "cell_type": "markdown",
   "metadata": {},
   "source": [
    "We can then display this distance using the following code:"
   ]
  },
  {
   "cell_type": "code",
   "execution_count": null,
   "metadata": {},
   "outputs": [],
   "source": [
    "plt.imshow(distance, cmap='viridis')\n",
    "plt.colorbar()"
   ]
  },
  {
   "cell_type": "markdown",
   "metadata": {},
   "source": [
    "Low distances in the above distance matrix should represent colors close to \"skin\" and larger distances should represent colors farther away from skin.  "
   ]
  },
  {
   "cell_type": "markdown",
   "metadata": {},
   "source": [
    "Use the following code to pick a threshold to try and best highlight the pixels in the image that represent skin."
   ]
  },
  {
   "cell_type": "code",
   "execution_count": null,
   "metadata": {},
   "outputs": [],
   "source": [
    "distance_threshold = 20"
   ]
  },
  {
   "cell_type": "code",
   "execution_count": null,
   "metadata": {},
   "outputs": [],
   "source": [
    "segment =  distance < distance_threshold\n",
    "\n",
    "f, ax = plt.subplots(1,2, figsize=(20,10))\n",
    "\n",
    "ax[0].imshow(segment, cmap='gray')\n",
    "ax[0].axis('off')\n",
    "ax[0].set_title('Segmented Image Mask')\n",
    "ax[1].imshow(im)\n",
    "ax[1].axis('off')\n",
    "ax[1].set_title('Original Image')\n"
   ]
  },
  {
   "cell_type": "markdown",
   "metadata": {},
   "source": [
    "If we did everything right the right-hand picture above should be a mask of all pixels in the left hand images that are skin tones.  Obviously this is not a perfect model."
   ]
  },
  {
   "cell_type": "markdown",
   "metadata": {},
   "source": [
    "&#9989; **<font color=red>Question 11</font>**: (10 points) The above model fails to find really dark skin tones.  Results like these are often viewed as racist. What are the main causes of bias in this model and what could be done to ensure that a more more representative set of skin tones are included in an updated model? "
   ]
  },
  {
   "cell_type": "markdown",
   "metadata": {
    "deletable": false,
    "nbgrader": {
     "cell_type": "markdown",
     "checksum": "f09f35c82ed6863154648c7b3c9bf8ab",
     "grade": true,
     "grade_id": "cell-9617dbeefec09ffa",
     "locked": false,
     "points": 10,
     "schema_version": 3,
     "solution": true,
     "task": false
    }
   },
   "source": [
    "YOUR ANSWER HERE"
   ]
  },
  {
   "cell_type": "markdown",
   "metadata": {},
   "source": [
    "---------\n",
    "### Congratulations, we're done!\n"
   ]
  },
  {
   "cell_type": "markdown",
   "metadata": {},
   "source": [
    "Written by Dirk Colbry, Michigan State University\n",
    "<a rel=\"license\" href=\"http://creativecommons.org/licenses/by-nc/4.0/\"><img alt=\"Creative Commons License\" style=\"border-width:0\" src=\"https://i.creativecommons.org/l/by-nc/4.0/88x31.png\" /></a><br />This work is licensed under a <a rel=\"license\" href=\"http://creativecommons.org/licenses/by-nc/4.0/\">Creative Commons Attribution-NonCommercial 4.0 International License</a>."
   ]
  }
 ],
 "metadata": {
  "kernelspec": {
   "display_name": "Python 3",
   "language": "python",
   "name": "python3"
  },
  "language_info": {
   "codemirror_mode": {
    "name": "ipython",
    "version": 3
   },
   "file_extension": ".py",
   "mimetype": "text/x-python",
   "name": "python",
   "nbconvert_exporter": "python",
   "pygments_lexer": "ipython3",
   "version": "3.7.3"
  }
 },
 "nbformat": 4,
 "nbformat_minor": 1
}
