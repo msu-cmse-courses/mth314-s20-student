{
 "cells": [
  {
   "cell_type": "markdown",
   "metadata": {},
   "source": [
    "[Link to this document's Jupyter Notebook](HW2-Affine_transform.ipynb)"
   ]
  },
  {
   "cell_type": "markdown",
   "metadata": {},
   "source": [
    "In order to successfully complete this assignment, you must follow all the instructions in this notebook and upload your edited ipynb file to [D2L](http://d2l.msu.edu/) with your answers on or before **11:59pm on Friday February 19th**.\n",
    "\n",
    "**BIG HINT:** Read the entire homework before starting.  "
   ]
  },
  {
   "cell_type": "markdown",
   "metadata": {},
   "source": [
    "# Homework 2: Affine Transform\n",
    "\n",
    "<img src=\"https://lh5.googleusercontent.com/T7SNdiXctkIi2iWHjjdAZCRBASzRjysFkmivxtD8cZ80QlKFPjOeYa--uiDoHEUdb7daadZQ-fW-l0SVBQJDj90vPFaCKke9JSf6jf8Rk71zpy62TP_hmBpdFONBoA=w740\" alt=\"An figure showing how we will be stitching images together\"> \n",
    "\n",
    "In this homework you will use the ```ipywidgets.interact``` (or ```ipywidgets.interact_manual```) function to build a interface to translate, scale, rotate and shear an image using ```skimage.transform``` and ```skimage.transform.warp``` (http://scikit-image.org/).  We will then \"stitch\" the images together similar to the following:\n",
    "\n",
    "\n",
    "\n",
    "\n",
    "Here is a video of what your final solution may look like:\n",
    "\n",
    "* Direct Link: https://youtu.be/b4x39uqTMBY"
   ]
  },
  {
   "cell_type": "code",
   "execution_count": null,
   "metadata": {
    "scrolled": false
   },
   "outputs": [],
   "source": [
    "from IPython.display import YouTubeVideo\n",
    "YouTubeVideo(\"b4x39uqTMBY\",width=640,height=360)"
   ]
  },
  {
   "cell_type": "code",
   "execution_count": null,
   "metadata": {},
   "outputs": [],
   "source": [
    "# Here are some libraries you may need to use\n",
    "%matplotlib inline\n",
    "import matplotlib.pylab as plt\n",
    "\n",
    "import sympy as sp\n",
    "sp.init_printing()\n",
    "\n",
    "import numpy as np\n",
    "\n",
    "from ipywidgets import interact, interact_manual\n",
    "import math\n"
   ]
  },
  {
   "cell_type": "markdown",
   "metadata": {},
   "source": [
    "# Step 1: Read in image files\n",
    "\n",
    "The following code reads a list of image files from a websites and saves them in their own 3D numpy arrays.  The first dimension of each array is the row, the second dimension is the column and the third dimension is the color (R,G,B). \n",
    "\n",
    "\n",
    "**NOTE (this is important to remember):** images have a coordinate system with origin in the upper left and the $z$ axis going into the screen. Also images are indexed by [Rows] and then [Columns] this means that the first index corresponds to the traditional y-axis and the second index corresponds to the x-axis (which is backwards to traditional euclidean axes).   "
   ]
  },
  {
   "cell_type": "code",
   "execution_count": null,
   "metadata": {},
   "outputs": [],
   "source": [
    "#The following code snip-it downloads the files from internet and saves tnhem to your local directory.\n",
    "from urllib.request import urlopen, urlretrieve\n",
    "import imageio\n",
    "\n",
    "#Load a list of images\n",
    "ImageList = [('beaumont', 'http://res.cloudinary.com/miles-extranet-dev/image/upload/ar_16:9,c_fill,w_1000,g_face,q_50/Michigan/migration_photos/G21696/G21696-msubeaumonttower01.jpg'\n",
    "),\n",
    "             ('sparty','https://cdn.shopify.com/s/files/1/1058/4992/products/MSU-Gruffy-Sparty-Sticker-550_620x.jpg?v=1525615105'),\n",
    "             ('billboard', 'https://lh4.googleusercontent.com/OA8Et4hB-vpuYTKt86gk9i_Or1ptNbxtuYnR-7vujPVuVx6m30wXoVE3_d5fG_xDYAxUmDxOUw=w600'),\n",
    "             ('banner', 'https://lh4.googleusercontent.com/aORranhBKm_pVs-Mg_pkyY1e8ujLh_7Y671d2BjNrWPiagBqktcJvD34ZHgUQrgbFAj4xOcf0Q=w740')\n",
    "            ]\n",
    "\n",
    "for name, url in ImageList:\n",
    "    print(name)\n",
    "    file = name+'.png'\n",
    "    urlretrieve(url, file);\n",
    "    exec(name + \" = imageio.imread(file)\")"
   ]
  },
  {
   "cell_type": "code",
   "execution_count": null,
   "metadata": {
    "scrolled": false
   },
   "outputs": [],
   "source": [
    "#Pick an image and show it\n",
    "im = banner\n",
    "plt.imshow(im);"
   ]
  },
  {
   "cell_type": "markdown",
   "metadata": {},
   "source": [
    "# STEP 2: Design Transforms\n",
    "\n",
    "The skimage library allows us to apply a $3 \\times 3$ transformation matrix to an image using the ```transform.warp``` function.\n",
    "\n",
    "```warp```  uses an ```Inverse coordinate map``` as an input, which transforms coordinates in the output images ($P_o$) into their corresponding coordinates in the input image ($P_i$). This means we need to think about what we want the output image to look like and apply all of the transformations to get it to the original input image.\n",
    "\n",
    "\n",
    "$$P_i = TP_o$$\n",
    "\n",
    "Where $P_o$ is a point in the output image, $P_i$ is a point in the input image and $T$ is the $3x3$ image transform.\n",
    "\n",
    "\n",
    "For example, if we want to have our output image shrink by a half this typically would be a contraction:\n",
    "\n",
    "$$A = \\left[ \\begin{matrix}0.5 & 0 & 0 \\\\ 0 & 0.5 & 0 \\\\ 0 & 0 & 1 \\end{matrix}\\right]$$\n",
    "\n",
    "However, warp wants transforms that go from output image to input image. This means we want to double the size of the image which can be done with a dilation:\n",
    "\n",
    "$$B = \\left[ \\begin{matrix}2 & 0 & 0 \\\\ 0 & 2 & 0 \\\\ 0 & 0 & 1 \\end{matrix}\\right]$$\n",
    "\n",
    "Also note that $A^{-1} = B$.\n",
    "\n",
    "Here is an example of how to use the ```transform.warp``` function:"
   ]
  },
  {
   "cell_type": "code",
   "execution_count": null,
   "metadata": {},
   "outputs": [],
   "source": [
    "from skimage import transform\n",
    "\n",
    "S = np.matrix([[2,0,0], [0,2,0], [0,0,1]])\n",
    "plt.imshow(transform.warp(im,S));\n",
    "sp.Matrix(S)"
   ]
  },
  {
   "cell_type": "markdown",
   "metadata": {},
   "source": [
    "What we really want is the output image to be centered. Since most transformations are symmetric around the origin it means we want to move the center of the image to the origin first (at least for scaling, rotation and shear).  In our scaling example, to go from a centered output we would first translate it from the center to the origin and then scale the image and translate it back to the center using the following transforms:"
   ]
  },
  {
   "cell_type": "code",
   "execution_count": null,
   "metadata": {},
   "outputs": [],
   "source": [
    "# Translate image to put the center at the origin\n",
    "Tc = np.matrix([[1,0,-im.shape[1]/2], [0,1,-im.shape[0]/2], [0,0,1]])\n",
    "sp.Matrix(Tc)"
   ]
  },
  {
   "cell_type": "code",
   "execution_count": null,
   "metadata": {},
   "outputs": [],
   "source": [
    "# translate image back so that the upper left point is at the origin\n",
    "\n",
    "To = np.matrix([[1,0,im.shape[1]/2], [0,1,im.shape[0]/2], [0,0,1]])\n",
    "sp.Matrix(To)"
   ]
  },
  {
   "cell_type": "code",
   "execution_count": null,
   "metadata": {},
   "outputs": [],
   "source": [
    "#Combine the transforms into one matrix\n",
    "T = To*S*Tc\n",
    "sp.Matrix(T)"
   ]
  },
  {
   "cell_type": "code",
   "execution_count": null,
   "metadata": {
    "scrolled": false
   },
   "outputs": [],
   "source": [
    "plt.imshow(transform.warp(im, T));"
   ]
  },
  {
   "cell_type": "markdown",
   "metadata": {},
   "source": [
    "&#9989;  **<font color=red>DO THIS:</font>** Construct another transformation matrix (named ```R```) that rotates the image 30 degrees (clockwise) around it's center.  Apply this new matrix such that we get a scaled and rotated image T.  Show the image and make sure it has in fact rotated by 30 degrees in the clockwise direction."
   ]
  },
  {
   "cell_type": "code",
   "execution_count": null,
   "metadata": {},
   "outputs": [],
   "source": [
    "#Put your rotation code here."
   ]
  },
  {
   "cell_type": "code",
   "execution_count": null,
   "metadata": {},
   "outputs": [],
   "source": [
    "from answercheck import checkanswer\n",
    "\n",
    "checkanswer.matrix(R,\"84b1a7ebd71e740c41730448de079684\");"
   ]
  },
  {
   "cell_type": "markdown",
   "metadata": {},
   "source": [
    "&#9989;  **<font color=red>DO THIS:</font>** write a third transformation matrix (named ```SH```) that conducts a shear of the image. The matrix should be in the following form with. To test this matrix use shx=-0.3 and shy=0.1:\n",
    "\n",
    "$$A = \\left[ \\begin{matrix}1 & shx & 0 \\\\ shy & 1 & 0 \\\\ 0 & 0 & 1 \\end{matrix}\\right]$$\n",
    "\n",
    "Apply this new matrix such that we get a scaled and sheared image.  Show the image. \n",
    "\n",
    "\n",
    "**Note:** the term shear may be new. here is a good matrix definition: https://www.mathworks.com/discovery/affine-transformation.html\n"
   ]
  },
  {
   "cell_type": "code",
   "execution_count": null,
   "metadata": {},
   "outputs": [],
   "source": [
    "#Put your shear code here."
   ]
  },
  {
   "cell_type": "code",
   "execution_count": null,
   "metadata": {},
   "outputs": [],
   "source": [
    "#Check the Combined R and S matrix\n",
    "from answercheck import checkanswer\n",
    "checkanswer.matrix(SH,\"b1259119454dbd7349c4ed47c1dea64a\");"
   ]
  },
  {
   "cell_type": "markdown",
   "metadata": {},
   "source": [
    "Lets use this technique to \"stitch\" two images together. This is a little tricky so we will use the following function (You do not need to modify this function). This function takes inputs; the background image, the top (warped image) and the corresponding transform needed to warp the image::"
   ]
  },
  {
   "cell_type": "code",
   "execution_count": null,
   "metadata": {},
   "outputs": [],
   "source": [
    "def stitch_images(background, forground, T):\n",
    "    \"\"\"Function to stitch to images together by transforming the forground image by T \n",
    "    and then overlaying the resulting image on top of the background\n",
    "    \n",
    "    background: the background image to use\n",
    "    forground: the image to be transformed\n",
    "    T: 3x3 transformation matrix\n",
    "    \n",
    "    output: stitched image the same size as the background.\n",
    "    \n",
    "    \"\"\"\n",
    "    \n",
    "    warpped_img = transform.warp(forground, T, output_shape=background.shape)\n",
    "    \n",
    "    if background.shape != warpped_img.shape:\n",
    "        raise Exception('Size Missmatch Error - Input images should be the same size')\n",
    "    \n",
    "    if (len(background.shape) != 3):\n",
    "        raise Exception('Image Type error - Images should be in RGB format')\n",
    "            \n",
    "    red_src = np.array(background[:,:,0])\n",
    "    green_src = np.array(background[:,:,1])\n",
    "    blue_src = np.array(background[:,:,2])\n",
    "\n",
    "    if (np.max(warpped_img) == 1):\n",
    "        scale = 255.0\n",
    "        \n",
    "    red_dst = warpped_img[:,:,0]*scale\n",
    "    green_dst = warpped_img[:,:,1]*scale\n",
    "    blue_dst = warpped_img[:,:,2]*scale\n",
    "\n",
    "    image_mask = (np.sum(warpped_img, axis=2) == 0)\n",
    "    \n",
    "    red_new = red_src*image_mask\n",
    "    green_new = green_src*image_mask\n",
    "    blue_new = blue_src*image_mask\n",
    "    \n",
    "    im_new = np.zeros(background.shape)\n",
    "    im_new[:,:,0] = (red_new + red_dst)/255\n",
    "    im_new[:,:,1] = (green_new + green_dst)/255\n",
    "    im_new[:,:,2] = (blue_new + blue_dst)/255\n",
    "    \n",
    "    return im_new"
   ]
  },
  {
   "cell_type": "markdown",
   "metadata": {},
   "source": [
    "We can test the above function using the results of your previous transforms:"
   ]
  },
  {
   "cell_type": "code",
   "execution_count": null,
   "metadata": {},
   "outputs": [],
   "source": [
    "Tc = np.matrix([[1,0,-billboard.shape[1]/2], [0,1,-billboard.shape[0]/2], [0,0,1]])\n",
    "To = np.matrix([[1,0,banner.shape[1]/2], [0,1,banner.shape[0]/2], [0,0,1]])\n",
    "plt.imshow(stitch_images(billboard, banner, To*R*S*SH*Tc))"
   ]
  },
  {
   "cell_type": "markdown",
   "metadata": {},
   "source": [
    "# STEP 3: Build an combined affine transform function.\n",
    "\n",
    "In this step, you will write a function that takes affine parameters as inputs and returns a combined $3 \\times 3$ matrix. "
   ]
  },
  {
   "cell_type": "markdown",
   "metadata": {},
   "source": [
    "&#9989;  **<font color=red>DO THIS:</font>** Write a function that takes seven inputs and returns a transformation T. Name this function ```affine_transform```. These include the following :\n",
    "\n",
    "- **a** - Rotation around the center of the image [-$180$,$180$].  \n",
    "- **sx** - Sale factor for the image in the x direction (0,5]\n",
    "- **sy** - Sale factor for the image in the x direction (0,5]\n",
    "- **tx** - translation in the x direction [0, im.shape[1]]\n",
    "- **ty** - translation in the y direction [0, im.shape[0]]\n",
    "- **shx** - Shear in the x direction [0,1]\n",
    "- **shy** - Shear in the y direction [0,1]\n",
    "\n",
    "The order of these is vary important. First assume the image is already centered, apply shear,  then scaling, then rotation and then finish with translation. "
   ]
  },
  {
   "cell_type": "code",
   "execution_count": null,
   "metadata": {},
   "outputs": [],
   "source": [
    "##Put your function here\n",
    "def affine_transform(a=0,sx=0.5, sy=0.5,tx=0,ty=0,shx=0, shy=0):\n",
    "    T = np.matrix([[1,0,0],[0,1,0],[0,0,1]])\n",
    "    #Your transformations go here.\n",
    "    return T"
   ]
  },
  {
   "cell_type": "code",
   "execution_count": null,
   "metadata": {},
   "outputs": [],
   "source": [
    "T = affine_transform()\n",
    "T"
   ]
  },
  {
   "cell_type": "code",
   "execution_count": null,
   "metadata": {},
   "outputs": [],
   "source": [
    "To*R*S*SH*Tc"
   ]
  },
  {
   "cell_type": "markdown",
   "metadata": {},
   "source": [
    "# Step 4: Build an interactive interface\n",
    "In this final step use the ```ipywidgets.interact``` (or ```ipywidgets.interact_manual```) function to call your ```affine_transform``` function turn all of the input parameters into sliders. \n",
    "\n",
    "**_Note_**: if the ```affine_transform``` function was created correctly in Step 3 then the following function do not need to be changed and should work similar to the video at the beginning of this homework. "
   ]
  },
  {
   "cell_type": "code",
   "execution_count": null,
   "metadata": {},
   "outputs": [],
   "source": [
    "forground = banner\n",
    "background = billboard\n",
    "\n",
    "def transform_and_plot(a=0,sx=0.5,sy=0.5, tx=0,ty=0, shx=0, shy=0):\n",
    "    T = affine_transform(a=a,sx=sx, sy=sy,tx=tx,ty=ty,shx=shx, shy=shy)\n",
    "    Tc = np.matrix([[1,0,-background.shape[1]/2], [0,1,-background.shape[0]/2], [0,0,1]])\n",
    "    To = np.matrix([[1,0,forground.shape[1]/2], [0,1,forground.shape[0]/2], [0,0,1]])\n",
    "    im_new = stitch_images(background, forground, To*T*Tc)\n",
    "    plt.imshow(im_new);\n",
    "    plt.show(); \n"
   ]
  },
  {
   "cell_type": "code",
   "execution_count": null,
   "metadata": {},
   "outputs": [],
   "source": [
    "interact(transform_and_plot, a1=(-180,180), sx=(0.001,5, 0.01), sy=(0.001,5, 0.01), tx=(-1,1,0.01), ty=(-1,1,0.01), shx = (-1,1,0.01), shy = (-1,1,0.01)); ##TODO: Modify this line of code"
   ]
  },
  {
   "cell_type": "markdown",
   "metadata": {},
   "source": [
    "&#9989;  **<font color=red>DO THIS:</font>** Test your sliders and make sure they make sense. If the output differs slightly from the example video, explain what is different and why your solution also makes sense."
   ]
  },
  {
   "cell_type": "markdown",
   "metadata": {},
   "source": [
    "<font size=8 color=\"#009600\">&#9998;</font> Do This - Erase the contents of this cell and replace it with your answer to the above question!  (double-click on this text to edit this cell, and hit shift+enter to save the text)"
   ]
  },
  {
   "cell_type": "markdown",
   "metadata": {},
   "source": [
    "# Step 5: Make a billboard:\n"
   ]
  },
  {
   "cell_type": "code",
   "execution_count": null,
   "metadata": {},
   "outputs": [],
   "source": [
    "T = affine_transform(a=0, \n",
    "                     sx=1,\n",
    "                     sy=1,\n",
    "                     tx=0,\n",
    "                     ty=0,\n",
    "                     shx=0,\n",
    "                     shy=0)\n",
    "\n",
    "im_new = stitch_images(billboard, banner, T)\n",
    "plt.imshow(im_new);"
   ]
  },
  {
   "cell_type": "markdown",
   "metadata": {},
   "source": [
    "# Step 6: Be creative\n",
    "\n",
    "Find two other examples images (include their URLs in the list at the top of this assignment).  Stitch them together in a fun and creative way and show your final results."
   ]
  },
  {
   "cell_type": "markdown",
   "metadata": {},
   "source": [
    "---------\n",
    "### Congratulations, we're done!\n",
    "\n",
    "Turn in your assignment using D2L no later than **_11:59pm on the day of class_**. See links at the end of this document for access to the class timeline for your section."
   ]
  },
  {
   "cell_type": "markdown",
   "metadata": {},
   "source": [
    "Written by Dirk Colbry, Michigan State University\n",
    "<a rel=\"license\" href=\"http://creativecommons.org/licenses/by-nc/4.0/\"><img alt=\"Creative Commons License\" style=\"border-width:0\" src=\"https://i.creativecommons.org/l/by-nc/4.0/88x31.png\" /></a><br />This work is licensed under a <a rel=\"license\" href=\"http://creativecommons.org/licenses/by-nc/4.0/\">Creative Commons Attribution-NonCommercial 4.0 International License</a>."
   ]
  }
 ],
 "metadata": {
  "kernelspec": {
   "display_name": "Python 3",
   "language": "python",
   "name": "python3"
  },
  "language_info": {
   "codemirror_mode": {
    "name": "ipython",
    "version": 3
   },
   "file_extension": ".py",
   "mimetype": "text/x-python",
   "name": "python",
   "nbconvert_exporter": "python",
   "pygments_lexer": "ipython3",
   "version": "3.7.3"
  }
 },
 "nbformat": 4,
 "nbformat_minor": 1
}
